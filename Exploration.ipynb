{
 "cells": [
  {
   "cell_type": "code",
   "execution_count": 164,
   "id": "3441d80d",
   "metadata": {},
   "outputs": [],
   "source": [
    "# Chargement des librairies nécessaires\n",
    "import os, sys, time, csv\n",
    "import pandas as pd\n",
    "import numpy as np\n",
    "import matplotlib.pyplot as plt \n",
    "import seaborn as sns\n",
    "\n",
    "# Importer beautiful soup\n",
    "from bs4 import BeautifulSoup as bs\n",
    "\n",
    "# Remplacement de character\n",
    "import re\n",
    "\n",
    "# NLP\n",
    "import nltk\n",
    "from nltk.stem import WordNetLemmatizer, PorterStemmer\n",
    "from nltk.tokenize import word_tokenize, wordpunct_tokenize, RegexpTokenizer\n",
    "from nltk.corpus import words, stopwords\n",
    "\n",
    "#visualisation\n",
    "from wordcloud import WordCloud\n",
    "from PIL import Image\n",
    "\n",
    "# Comptage\n",
    "from collections import Counter"
   ]
  },
  {
   "cell_type": "code",
   "execution_count": 37,
   "id": "6ef09ab5",
   "metadata": {},
   "outputs": [
    {
     "name": "stderr",
     "output_type": "stream",
     "text": [
      "[nltk_data] Downloading package punkt to\n",
      "[nltk_data]     C:\\Users\\aguer\\AppData\\Roaming\\nltk_data...\n",
      "[nltk_data]   Package punkt is already up-to-date!\n",
      "[nltk_data] Downloading package wordnet to\n",
      "[nltk_data]     C:\\Users\\aguer\\AppData\\Roaming\\nltk_data...\n",
      "[nltk_data]   Package wordnet is already up-to-date!\n",
      "[nltk_data] Downloading package omw-1.4 to\n",
      "[nltk_data]     C:\\Users\\aguer\\AppData\\Roaming\\nltk_data...\n",
      "[nltk_data]   Package omw-1.4 is already up-to-date!\n",
      "[nltk_data] Downloading package words to\n",
      "[nltk_data]     C:\\Users\\aguer\\AppData\\Roaming\\nltk_data...\n",
      "[nltk_data]   Package words is already up-to-date!\n"
     ]
    },
    {
     "data": {
      "text/plain": [
       "True"
      ]
     },
     "execution_count": 37,
     "metadata": {},
     "output_type": "execute_result"
    }
   ],
   "source": [
    "nltk.download('punkt')\n",
    "nltk.download('wordnet')\n",
    "nltk.download('omw-1.4')\n",
    "nltk.download('words')"
   ]
  },
  {
   "cell_type": "code",
   "execution_count": null,
   "id": "d4730991",
   "metadata": {},
   "outputs": [],
   "source": [
    "'''\n",
    "SELECT TOP 50000 Title, Body, Tags, Id, Score, FavoriteCount, AnswerCount  \n",
    "FROM Posts\n",
    "WHERE PostTypeId = 1 \n",
    "AND ViewCount > 10 \n",
    "AND Score > 5 \n",
    "AND AnswerCount > 0 \n",
    "AND LEN(Tags) - LEN(REPLACE(Tags, '<','')) >= 5 \n",
    "AND Id NOT IN (SELECT TOP 150000 Id FROM Posts WHERE PostTypeId = 1 AND ViewCount > 10 AND Score > 5 AND AnswerCount > 0 AND LEN(Tags) - LEN(REPLACE(Tags, '<','')) >= 5 ORDER BY Id) \n",
    "ORDER BY Id\n",
    "'''"
   ]
  },
  {
   "cell_type": "code",
   "execution_count": 38,
   "id": "2d9051a8",
   "metadata": {},
   "outputs": [
    {
     "data": {
      "text/plain": [
       "['.ipynb_checkpoints',\n",
       " 'QueryResults_1.csv',\n",
       " 'QueryResults_2.csv',\n",
       " 'QueryResults_3.csv',\n",
       " 'QueryResults_4.csv']"
      ]
     },
     "execution_count": 38,
     "metadata": {},
     "output_type": "execute_result"
    }
   ],
   "source": [
    "data = \"./data/source/\"\n",
    "os.listdir(data)"
   ]
  },
  {
   "cell_type": "code",
   "execution_count": 39,
   "id": "73001297",
   "metadata": {},
   "outputs": [],
   "source": [
    "dataset1 = data + \"QueryResults_1.csv\"\n",
    "dataset2 = data + \"QueryResults_2.csv\"\n",
    "dataset3 = data + \"QueryResults_3.csv\"\n",
    "dataset4 = data + \"QueryResults_4.csv\""
   ]
  },
  {
   "cell_type": "code",
   "execution_count": 40,
   "id": "4058b869",
   "metadata": {},
   "outputs": [],
   "source": [
    "# Chargement des datasets\n",
    "data1 = pd.read_csv(dataset1)\n",
    "data2 = pd.read_csv(dataset2)\n",
    "data3 = pd.read_csv(dataset3)\n",
    "data4 = pd.read_csv(dataset4)"
   ]
  },
  {
   "cell_type": "code",
   "execution_count": 313,
   "id": "fea64002",
   "metadata": {},
   "outputs": [],
   "source": [
    "# Merger les résultats\n",
    "merge = [data1, data2, data3, data4]\n",
    "data = pd.concat(merge, ignore_index=True)"
   ]
  },
  {
   "cell_type": "code",
   "execution_count": 1,
   "id": "ceb2e0f5",
   "metadata": {},
   "outputs": [
    {
     "ename": "NameError",
     "evalue": "name 'data' is not defined",
     "output_type": "error",
     "traceback": [
      "\u001b[1;31m---------------------------------------------------------------------------\u001b[0m",
      "\u001b[1;31mNameError\u001b[0m                                 Traceback (most recent call last)",
      "\u001b[1;32m~\\AppData\\Local\\Temp\\ipykernel_964\\3030876396.py\u001b[0m in \u001b[0;36m<module>\u001b[1;34m\u001b[0m\n\u001b[0;32m      1\u001b[0m \u001b[1;31m# Visualisation\u001b[0m\u001b[1;33m\u001b[0m\u001b[1;33m\u001b[0m\u001b[0m\n\u001b[1;32m----> 2\u001b[1;33m \u001b[0mdata\u001b[0m\u001b[1;33m.\u001b[0m\u001b[0mhead\u001b[0m\u001b[1;33m(\u001b[0m\u001b[1;33m)\u001b[0m\u001b[1;33m\u001b[0m\u001b[1;33m\u001b[0m\u001b[0m\n\u001b[0m",
      "\u001b[1;31mNameError\u001b[0m: name 'data' is not defined"
     ]
    }
   ],
   "source": [
    "# Visualisation\n",
    "data.head()"
   ]
  },
  {
   "cell_type": "code",
   "execution_count": 167,
   "id": "1a9cc30b",
   "metadata": {},
   "outputs": [
    {
     "data": {
      "text/html": [
       "<div>\n",
       "<style scoped>\n",
       "    .dataframe tbody tr th:only-of-type {\n",
       "        vertical-align: middle;\n",
       "    }\n",
       "\n",
       "    .dataframe tbody tr th {\n",
       "        vertical-align: top;\n",
       "    }\n",
       "\n",
       "    .dataframe thead th {\n",
       "        text-align: right;\n",
       "    }\n",
       "</style>\n",
       "<table border=\"1\" class=\"dataframe\">\n",
       "  <thead>\n",
       "    <tr style=\"text-align: right;\">\n",
       "      <th></th>\n",
       "      <th>Title</th>\n",
       "      <th>Body</th>\n",
       "      <th>Tags</th>\n",
       "      <th>Id</th>\n",
       "      <th>Score</th>\n",
       "      <th>FavoriteCount</th>\n",
       "      <th>AnswerCount</th>\n",
       "    </tr>\n",
       "  </thead>\n",
       "  <tbody>\n",
       "    <tr>\n",
       "      <th>199995</th>\n",
       "      <td>Ionic 4 horizontal scroll with ngFor</td>\n",
       "      <td>&lt;p&gt;I'm at a loss.  I can get horizontal scroll...</td>\n",
       "      <td>&lt;css&gt;&lt;angular&gt;&lt;ionic-framework&gt;&lt;ngfor&gt;&lt;ionic4&gt;</td>\n",
       "      <td>54413418</td>\n",
       "      <td>7</td>\n",
       "      <td>NaN</td>\n",
       "      <td>3</td>\n",
       "    </tr>\n",
       "    <tr>\n",
       "      <th>199996</th>\n",
       "      <td>Type hinting with descriptors</td>\n",
       "      <td>&lt;p&gt;In &lt;a href=\"https://github.com/python/mypy/...</td>\n",
       "      <td>&lt;python&gt;&lt;python-3.x&gt;&lt;type-hinting&gt;&lt;mypy&gt;&lt;pytho...</td>\n",
       "      <td>54413434</td>\n",
       "      <td>12</td>\n",
       "      <td>0.0</td>\n",
       "      <td>3</td>\n",
       "    </tr>\n",
       "    <tr>\n",
       "      <th>199997</th>\n",
       "      <td>How to add multiple lines between code blocks ...</td>\n",
       "      <td>&lt;p&gt;I started using Prettier, but discovered th...</td>\n",
       "      <td>&lt;javascript&gt;&lt;node.js&gt;&lt;typescript&gt;&lt;visual-studi...</td>\n",
       "      <td>54413716</td>\n",
       "      <td>7</td>\n",
       "      <td>0.0</td>\n",
       "      <td>1</td>\n",
       "    </tr>\n",
       "    <tr>\n",
       "      <th>199998</th>\n",
       "      <td>React-Select Scrollbar Styling</td>\n",
       "      <td>&lt;p&gt;I am trying to change the style of scrollba...</td>\n",
       "      <td>&lt;reactjs&gt;&lt;frontend&gt;&lt;scrollbar&gt;&lt;styling&gt;&lt;react-...</td>\n",
       "      <td>54413762</td>\n",
       "      <td>7</td>\n",
       "      <td>0.0</td>\n",
       "      <td>2</td>\n",
       "    </tr>\n",
       "    <tr>\n",
       "      <th>199999</th>\n",
       "      <td>Convert sklearn.svm SVC classifier to Keras im...</td>\n",
       "      <td>&lt;p&gt;I'm trying to convert some old code from us...</td>\n",
       "      <td>&lt;machine-learning&gt;&lt;keras&gt;&lt;scikit-learn&gt;&lt;neural...</td>\n",
       "      <td>54414392</td>\n",
       "      <td>19</td>\n",
       "      <td>0.0</td>\n",
       "      <td>3</td>\n",
       "    </tr>\n",
       "  </tbody>\n",
       "</table>\n",
       "</div>"
      ],
      "text/plain": [
       "                                                    Title   \n",
       "199995               Ionic 4 horizontal scroll with ngFor  \\\n",
       "199996                      Type hinting with descriptors   \n",
       "199997  How to add multiple lines between code blocks ...   \n",
       "199998                     React-Select Scrollbar Styling   \n",
       "199999  Convert sklearn.svm SVC classifier to Keras im...   \n",
       "\n",
       "                                                     Body   \n",
       "199995  <p>I'm at a loss.  I can get horizontal scroll...  \\\n",
       "199996  <p>In <a href=\"https://github.com/python/mypy/...   \n",
       "199997  <p>I started using Prettier, but discovered th...   \n",
       "199998  <p>I am trying to change the style of scrollba...   \n",
       "199999  <p>I'm trying to convert some old code from us...   \n",
       "\n",
       "                                                     Tags        Id  Score   \n",
       "199995     <css><angular><ionic-framework><ngfor><ionic4>  54413418      7  \\\n",
       "199996  <python><python-3.x><type-hinting><mypy><pytho...  54413434     12   \n",
       "199997  <javascript><node.js><typescript><visual-studi...  54413716      7   \n",
       "199998  <reactjs><frontend><scrollbar><styling><react-...  54413762      7   \n",
       "199999  <machine-learning><keras><scikit-learn><neural...  54414392     19   \n",
       "\n",
       "        FavoriteCount  AnswerCount  \n",
       "199995            NaN            3  \n",
       "199996            0.0            3  \n",
       "199997            0.0            1  \n",
       "199998            0.0            2  \n",
       "199999            0.0            3  "
      ]
     },
     "execution_count": 167,
     "metadata": {},
     "output_type": "execute_result"
    }
   ],
   "source": [
    "data.tail()"
   ]
  },
  {
   "cell_type": "code",
   "execution_count": 168,
   "id": "67c332fa",
   "metadata": {},
   "outputs": [
    {
     "data": {
      "text/html": [
       "<div>\n",
       "<style scoped>\n",
       "    .dataframe tbody tr th:only-of-type {\n",
       "        vertical-align: middle;\n",
       "    }\n",
       "\n",
       "    .dataframe tbody tr th {\n",
       "        vertical-align: top;\n",
       "    }\n",
       "\n",
       "    .dataframe thead th {\n",
       "        text-align: right;\n",
       "    }\n",
       "</style>\n",
       "<table border=\"1\" class=\"dataframe\">\n",
       "  <thead>\n",
       "    <tr style=\"text-align: right;\">\n",
       "      <th></th>\n",
       "      <th>Title</th>\n",
       "      <th>Body</th>\n",
       "      <th>Tags</th>\n",
       "      <th>Id</th>\n",
       "      <th>Score</th>\n",
       "      <th>FavoriteCount</th>\n",
       "      <th>AnswerCount</th>\n",
       "    </tr>\n",
       "  </thead>\n",
       "  <tbody>\n",
       "    <tr>\n",
       "      <th>41013</th>\n",
       "      <td>How use Eclipse as a Javascript IDE?</td>\n",
       "      <td>&lt;p&gt;I downloaded the eclipse Javascript IDE fro...</td>\n",
       "      <td>&lt;javascript&gt;&lt;eclipse&gt;&lt;eclipse-plugin&gt;&lt;rte&gt;&lt;jsdt&gt;</td>\n",
       "      <td>6661707</td>\n",
       "      <td>7</td>\n",
       "      <td>0.0</td>\n",
       "      <td>3</td>\n",
       "    </tr>\n",
       "    <tr>\n",
       "      <th>78238</th>\n",
       "      <td>memory address translation in hypervisor guest os</td>\n",
       "      <td>&lt;p&gt;Assume there is a code like this.&lt;/p&gt;\\n\\n&lt;p...</td>\n",
       "      <td>&lt;linux&gt;&lt;memory&gt;&lt;virtualization&gt;&lt;virtual-machin...</td>\n",
       "      <td>14314515</td>\n",
       "      <td>6</td>\n",
       "      <td>0.0</td>\n",
       "      <td>1</td>\n",
       "    </tr>\n",
       "    <tr>\n",
       "      <th>18610</th>\n",
       "      <td>Interactive GUI-like command line merging tool...</td>\n",
       "      <td>&lt;p&gt;May be something that uses reverse-video to...</td>\n",
       "      <td>&lt;linux&gt;&lt;unix&gt;&lt;merge&gt;&lt;diff&gt;&lt;command-line-interf...</td>\n",
       "      <td>2896739</td>\n",
       "      <td>8</td>\n",
       "      <td>0.0</td>\n",
       "      <td>3</td>\n",
       "    </tr>\n",
       "    <tr>\n",
       "      <th>132743</th>\n",
       "      <td>Invalid SSL certificate when building a crate ...</td>\n",
       "      <td>&lt;p&gt;While trying an example from the tutorial (...</td>\n",
       "      <td>&lt;ssl&gt;&lt;github&gt;&lt;rust&gt;&lt;ssl-certificate&gt;&lt;rust-cargo&gt;</td>\n",
       "      <td>30368027</td>\n",
       "      <td>7</td>\n",
       "      <td>NaN</td>\n",
       "      <td>2</td>\n",
       "    </tr>\n",
       "    <tr>\n",
       "      <th>190040</th>\n",
       "      <td>lint-staged not running on precommit</td>\n",
       "      <td>&lt;p&gt;prettier is not running on precommit. This ...</td>\n",
       "      <td>&lt;javascript&gt;&lt;git&gt;&lt;pre-commit-hook&gt;&lt;prettier&gt;&lt;l...</td>\n",
       "      <td>50048717</td>\n",
       "      <td>130</td>\n",
       "      <td>0.0</td>\n",
       "      <td>27</td>\n",
       "    </tr>\n",
       "    <tr>\n",
       "      <th>142303</th>\n",
       "      <td>About boost-python: dyld: Symbol not found: _P...</td>\n",
       "      <td>&lt;p&gt;When I run my code, I meet a problem about ...</td>\n",
       "      <td>&lt;python&gt;&lt;c++&gt;&lt;boost&gt;&lt;ld&gt;&lt;boost-python&gt;</td>\n",
       "      <td>33094585</td>\n",
       "      <td>6</td>\n",
       "      <td>0.0</td>\n",
       "      <td>1</td>\n",
       "    </tr>\n",
       "    <tr>\n",
       "      <th>142368</th>\n",
       "      <td>SVD in a term document matrix do not give me v...</td>\n",
       "      <td>&lt;p&gt;I am trying to replicate an example in a pa...</td>\n",
       "      <td>&lt;r&gt;&lt;matrix&gt;&lt;text-mining&gt;&lt;svd&gt;&lt;lsa&gt;</td>\n",
       "      <td>33112832</td>\n",
       "      <td>6</td>\n",
       "      <td>0.0</td>\n",
       "      <td>2</td>\n",
       "    </tr>\n",
       "    <tr>\n",
       "      <th>3750</th>\n",
       "      <td>Algorithm to compute a Voronoi diagram on a sp...</td>\n",
       "      <td>&lt;p&gt;I'm looking for a simple (if exists) algori...</td>\n",
       "      <td>&lt;algorithm&gt;&lt;math&gt;&lt;geometry&gt;&lt;computational-geom...</td>\n",
       "      <td>545870</td>\n",
       "      <td>40</td>\n",
       "      <td>0.0</td>\n",
       "      <td>11</td>\n",
       "    </tr>\n",
       "    <tr>\n",
       "      <th>20429</th>\n",
       "      <td>SQL: Is it efficient to use tinyint instead of...</td>\n",
       "      <td>&lt;p&gt;Lets assume I want to save the count of dat...</td>\n",
       "      <td>&lt;sql&gt;&lt;sql-server&gt;&lt;integer&gt;&lt;sqldatatypes&gt;&lt;tinyint&gt;</td>\n",
       "      <td>3197461</td>\n",
       "      <td>11</td>\n",
       "      <td>0.0</td>\n",
       "      <td>4</td>\n",
       "    </tr>\n",
       "    <tr>\n",
       "      <th>32559</th>\n",
       "      <td>Django unit testing: How to test concurrent da...</td>\n",
       "      <td>&lt;p&gt;I'm creating a Django library which uses &lt;a...</td>\n",
       "      <td>&lt;python&gt;&lt;django&gt;&lt;unit-testing&gt;&lt;django-models&gt;&lt;...</td>\n",
       "      <td>5224896</td>\n",
       "      <td>11</td>\n",
       "      <td>0.0</td>\n",
       "      <td>4</td>\n",
       "    </tr>\n",
       "    <tr>\n",
       "      <th>81513</th>\n",
       "      <td>Parameter names of a function using a function...</td>\n",
       "      <td>&lt;p&gt;I have read a book called &lt;code&gt;Clean code&lt;...</td>\n",
       "      <td>&lt;haskell&gt;&lt;f#&gt;&lt;functional-programming&gt;&lt;ocaml&gt;&lt;n...</td>\n",
       "      <td>15088450</td>\n",
       "      <td>6</td>\n",
       "      <td>0.0</td>\n",
       "      <td>4</td>\n",
       "    </tr>\n",
       "    <tr>\n",
       "      <th>47534</th>\n",
       "      <td>Clicking the text to select corresponding radi...</td>\n",
       "      <td>&lt;p&gt;I'm creating a quiz web application using P...</td>\n",
       "      <td>&lt;html&gt;&lt;css&gt;&lt;forms&gt;&lt;input&gt;&lt;radio-button&gt;</td>\n",
       "      <td>7863251</td>\n",
       "      <td>95</td>\n",
       "      <td>0.0</td>\n",
       "      <td>7</td>\n",
       "    </tr>\n",
       "    <tr>\n",
       "      <th>178924</th>\n",
       "      <td>OpenCV image subtraction vs Numpy subtraction</td>\n",
       "      <td>&lt;p&gt;I was trying to track how much next picture...</td>\n",
       "      <td>&lt;python&gt;&lt;python-3.x&gt;&lt;opencv&gt;&lt;numpy&gt;&lt;image-proc...</td>\n",
       "      <td>45817037</td>\n",
       "      <td>11</td>\n",
       "      <td>0.0</td>\n",
       "      <td>1</td>\n",
       "    </tr>\n",
       "    <tr>\n",
       "      <th>165499</th>\n",
       "      <td>Querying / Pagination Across Microservices</td>\n",
       "      <td>&lt;p&gt;Our shop has recently started taking on an ...</td>\n",
       "      <td>&lt;web-services&gt;&lt;rest&gt;&lt;integration&gt;&lt;soa&gt;&lt;microse...</td>\n",
       "      <td>40900818</td>\n",
       "      <td>25</td>\n",
       "      <td>0.0</td>\n",
       "      <td>4</td>\n",
       "    </tr>\n",
       "    <tr>\n",
       "      <th>96567</th>\n",
       "      <td>Symfony2 Service Container - Passing ordinary ...</td>\n",
       "      <td>&lt;p&gt;I have this &lt;code&gt;Paginator&lt;/code&gt; class co...</td>\n",
       "      <td>&lt;php&gt;&lt;symfony&gt;&lt;constructor&gt;&lt;dependency-injecti...</td>\n",
       "      <td>19142804</td>\n",
       "      <td>8</td>\n",
       "      <td>0.0</td>\n",
       "      <td>1</td>\n",
       "    </tr>\n",
       "    <tr>\n",
       "      <th>50090</th>\n",
       "      <td>Java avoid race condition WITHOUT synchronized...</td>\n",
       "      <td>&lt;p&gt;In order to avoid race condition, we can sy...</td>\n",
       "      <td>&lt;java&gt;&lt;multithreading&gt;&lt;concurrency&gt;&lt;race-condi...</td>\n",
       "      <td>8340614</td>\n",
       "      <td>8</td>\n",
       "      <td>0.0</td>\n",
       "      <td>5</td>\n",
       "    </tr>\n",
       "    <tr>\n",
       "      <th>68896</th>\n",
       "      <td>Using maven-release-plugin in Eclipse</td>\n",
       "      <td>&lt;p&gt;I recently tried to use &lt;code&gt;maven-release...</td>\n",
       "      <td>&lt;java&gt;&lt;eclipse&gt;&lt;maven&gt;&lt;release&gt;&lt;m2eclipse&gt;</td>\n",
       "      <td>12245938</td>\n",
       "      <td>13</td>\n",
       "      <td>0.0</td>\n",
       "      <td>4</td>\n",
       "    </tr>\n",
       "    <tr>\n",
       "      <th>191629</th>\n",
       "      <td>How can I remove sharp jumps in data?</td>\n",
       "      <td>&lt;p&gt;I have some skin temperature data (collecte...</td>\n",
       "      <td>&lt;python&gt;&lt;python-3.x&gt;&lt;pandas&gt;&lt;dataframe&gt;&lt;filter...</td>\n",
       "      <td>50698834</td>\n",
       "      <td>8</td>\n",
       "      <td>0.0</td>\n",
       "      <td>2</td>\n",
       "    </tr>\n",
       "    <tr>\n",
       "      <th>36404</th>\n",
       "      <td>How to manually refresh Model Cache when debug...</td>\n",
       "      <td>&lt;p&gt;Whenever I make changes to the database on ...</td>\n",
       "      <td>&lt;php&gt;&lt;database&gt;&lt;model-view-controller&gt;&lt;caching...</td>\n",
       "      <td>5901246</td>\n",
       "      <td>6</td>\n",
       "      <td>0.0</td>\n",
       "      <td>1</td>\n",
       "    </tr>\n",
       "    <tr>\n",
       "      <th>49525</th>\n",
       "      <td>Django uwsgi import error</td>\n",
       "      <td>&lt;p&gt;I have a Django project with one app called...</td>\n",
       "      <td>&lt;django&gt;&lt;import&gt;&lt;nginx&gt;&lt;virtualenv&gt;&lt;uwsgi&gt;</td>\n",
       "      <td>8241680</td>\n",
       "      <td>7</td>\n",
       "      <td>0.0</td>\n",
       "      <td>1</td>\n",
       "    </tr>\n",
       "  </tbody>\n",
       "</table>\n",
       "</div>"
      ],
      "text/plain": [
       "                                                    Title   \n",
       "41013                How use Eclipse as a Javascript IDE?  \\\n",
       "78238   memory address translation in hypervisor guest os   \n",
       "18610   Interactive GUI-like command line merging tool...   \n",
       "132743  Invalid SSL certificate when building a crate ...   \n",
       "190040               lint-staged not running on precommit   \n",
       "142303  About boost-python: dyld: Symbol not found: _P...   \n",
       "142368  SVD in a term document matrix do not give me v...   \n",
       "3750    Algorithm to compute a Voronoi diagram on a sp...   \n",
       "20429   SQL: Is it efficient to use tinyint instead of...   \n",
       "32559   Django unit testing: How to test concurrent da...   \n",
       "81513   Parameter names of a function using a function...   \n",
       "47534   Clicking the text to select corresponding radi...   \n",
       "178924      OpenCV image subtraction vs Numpy subtraction   \n",
       "165499         Querying / Pagination Across Microservices   \n",
       "96567   Symfony2 Service Container - Passing ordinary ...   \n",
       "50090   Java avoid race condition WITHOUT synchronized...   \n",
       "68896               Using maven-release-plugin in Eclipse   \n",
       "191629              How can I remove sharp jumps in data?   \n",
       "36404   How to manually refresh Model Cache when debug...   \n",
       "49525                           Django uwsgi import error   \n",
       "\n",
       "                                                     Body   \n",
       "41013   <p>I downloaded the eclipse Javascript IDE fro...  \\\n",
       "78238   <p>Assume there is a code like this.</p>\\n\\n<p...   \n",
       "18610   <p>May be something that uses reverse-video to...   \n",
       "132743  <p>While trying an example from the tutorial (...   \n",
       "190040  <p>prettier is not running on precommit. This ...   \n",
       "142303  <p>When I run my code, I meet a problem about ...   \n",
       "142368  <p>I am trying to replicate an example in a pa...   \n",
       "3750    <p>I'm looking for a simple (if exists) algori...   \n",
       "20429   <p>Lets assume I want to save the count of dat...   \n",
       "32559   <p>I'm creating a Django library which uses <a...   \n",
       "81513   <p>I have read a book called <code>Clean code<...   \n",
       "47534   <p>I'm creating a quiz web application using P...   \n",
       "178924  <p>I was trying to track how much next picture...   \n",
       "165499  <p>Our shop has recently started taking on an ...   \n",
       "96567   <p>I have this <code>Paginator</code> class co...   \n",
       "50090   <p>In order to avoid race condition, we can sy...   \n",
       "68896   <p>I recently tried to use <code>maven-release...   \n",
       "191629  <p>I have some skin temperature data (collecte...   \n",
       "36404   <p>Whenever I make changes to the database on ...   \n",
       "49525   <p>I have a Django project with one app called...   \n",
       "\n",
       "                                                     Tags        Id  Score   \n",
       "41013    <javascript><eclipse><eclipse-plugin><rte><jsdt>   6661707      7  \\\n",
       "78238   <linux><memory><virtualization><virtual-machin...  14314515      6   \n",
       "18610   <linux><unix><merge><diff><command-line-interf...   2896739      8   \n",
       "132743   <ssl><github><rust><ssl-certificate><rust-cargo>  30368027      7   \n",
       "190040  <javascript><git><pre-commit-hook><prettier><l...  50048717    130   \n",
       "142303             <python><c++><boost><ld><boost-python>  33094585      6   \n",
       "142368                 <r><matrix><text-mining><svd><lsa>  33112832      6   \n",
       "3750    <algorithm><math><geometry><computational-geom...    545870     40   \n",
       "20429   <sql><sql-server><integer><sqldatatypes><tinyint>   3197461     11   \n",
       "32559   <python><django><unit-testing><django-models><...   5224896     11   \n",
       "81513   <haskell><f#><functional-programming><ocaml><n...  15088450      6   \n",
       "47534             <html><css><forms><input><radio-button>   7863251     95   \n",
       "178924  <python><python-3.x><opencv><numpy><image-proc...  45817037     11   \n",
       "165499  <web-services><rest><integration><soa><microse...  40900818     25   \n",
       "96567   <php><symfony><constructor><dependency-injecti...  19142804      8   \n",
       "50090   <java><multithreading><concurrency><race-condi...   8340614      8   \n",
       "68896          <java><eclipse><maven><release><m2eclipse>  12245938     13   \n",
       "191629  <python><python-3.x><pandas><dataframe><filter...  50698834      8   \n",
       "36404   <php><database><model-view-controller><caching...   5901246      6   \n",
       "49525          <django><import><nginx><virtualenv><uwsgi>   8241680      7   \n",
       "\n",
       "        FavoriteCount  AnswerCount  \n",
       "41013             0.0            3  \n",
       "78238             0.0            1  \n",
       "18610             0.0            3  \n",
       "132743            NaN            2  \n",
       "190040            0.0           27  \n",
       "142303            0.0            1  \n",
       "142368            0.0            2  \n",
       "3750              0.0           11  \n",
       "20429             0.0            4  \n",
       "32559             0.0            4  \n",
       "81513             0.0            4  \n",
       "47534             0.0            7  \n",
       "178924            0.0            1  \n",
       "165499            0.0            4  \n",
       "96567             0.0            1  \n",
       "50090             0.0            5  \n",
       "68896             0.0            4  \n",
       "191629            0.0            2  \n",
       "36404             0.0            1  \n",
       "49525             0.0            1  "
      ]
     },
     "execution_count": 168,
     "metadata": {},
     "output_type": "execute_result"
    }
   ],
   "source": [
    "data.sample(20)"
   ]
  },
  {
   "cell_type": "markdown",
   "id": "0506c80e",
   "metadata": {},
   "source": [
    "### Structure "
   ]
  },
  {
   "cell_type": "code",
   "execution_count": 25,
   "id": "05f92aad",
   "metadata": {},
   "outputs": [
    {
     "data": {
      "text/plain": [
       "(200000, 7)"
      ]
     },
     "execution_count": 25,
     "metadata": {},
     "output_type": "execute_result"
    }
   ],
   "source": [
    "data.shape"
   ]
  },
  {
   "cell_type": "code",
   "execution_count": 27,
   "id": "c22854f7",
   "metadata": {},
   "outputs": [
    {
     "name": "stdout",
     "output_type": "stream",
     "text": [
      "<class 'pandas.core.frame.DataFrame'>\n",
      "Int64Index: 200000 entries, 0 to 49999\n",
      "Data columns (total 7 columns):\n",
      " #   Column         Non-Null Count   Dtype  \n",
      "---  ------         --------------   -----  \n",
      " 0   Title          200000 non-null  object \n",
      " 1   Body           200000 non-null  object \n",
      " 2   Tags           200000 non-null  object \n",
      " 3   Id             200000 non-null  int64  \n",
      " 4   Score          200000 non-null  int64  \n",
      " 5   FavoriteCount  174317 non-null  float64\n",
      " 6   AnswerCount    200000 non-null  int64  \n",
      "dtypes: float64(1), int64(3), object(3)\n",
      "memory usage: 12.2+ MB\n"
     ]
    }
   ],
   "source": [
    "data.info()"
   ]
  },
  {
   "cell_type": "code",
   "execution_count": 28,
   "id": "5c552aa5",
   "metadata": {},
   "outputs": [
    {
     "data": {
      "text/plain": [
       "Title             object\n",
       "Body              object\n",
       "Tags              object\n",
       "Id                 int64\n",
       "Score              int64\n",
       "FavoriteCount    float64\n",
       "AnswerCount        int64\n",
       "dtype: object"
      ]
     },
     "execution_count": 28,
     "metadata": {},
     "output_type": "execute_result"
    }
   ],
   "source": [
    "data.dtypes"
   ]
  },
  {
   "cell_type": "code",
   "execution_count": 29,
   "id": "6fb40e83",
   "metadata": {},
   "outputs": [
    {
     "data": {
      "text/plain": [
       "object     3\n",
       "int64      3\n",
       "float64    1\n",
       "dtype: int64"
      ]
     },
     "execution_count": 29,
     "metadata": {},
     "output_type": "execute_result"
    }
   ],
   "source": [
    "data.dtypes.value_counts()"
   ]
  },
  {
   "cell_type": "code",
   "execution_count": 30,
   "id": "c0c5f4ff",
   "metadata": {},
   "outputs": [
    {
     "data": {
      "text/plain": [
       "Title            199992\n",
       "Body             200000\n",
       "Tags             191464\n",
       "Id               200000\n",
       "Score              1118\n",
       "FavoriteCount         4\n",
       "AnswerCount          79\n",
       "dtype: int64"
      ]
     },
     "execution_count": 30,
     "metadata": {},
     "output_type": "execute_result"
    }
   ],
   "source": [
    "data.nunique()"
   ]
  },
  {
   "cell_type": "markdown",
   "id": "27a153ee",
   "metadata": {},
   "source": [
    "On voit qu'il y a des titres de questions qui se repetent mais pas le texte meme de la question. Les id sont bien uniques."
   ]
  },
  {
   "cell_type": "code",
   "execution_count": 31,
   "id": "c752517c",
   "metadata": {},
   "outputs": [
    {
     "data": {
      "text/plain": [
       "Title            199992\n",
       "Body             200000\n",
       "Tags             191464\n",
       "Id               200000\n",
       "Score              1118\n",
       "FavoriteCount         4\n",
       "AnswerCount          79\n",
       "dtype: int64"
      ]
     },
     "execution_count": 31,
     "metadata": {},
     "output_type": "execute_result"
    }
   ],
   "source": [
    "tmp = data.nunique()\n",
    "tmp"
   ]
  },
  {
   "cell_type": "code",
   "execution_count": 33,
   "id": "cceb75b9",
   "metadata": {},
   "outputs": [
    {
     "data": {
      "text/plain": [
       "FavoriteCount    4\n",
       "dtype: int64"
      ]
     },
     "execution_count": 33,
     "metadata": {},
     "output_type": "execute_result"
    }
   ],
   "source": [
    "tmp[tmp<10]"
   ]
  },
  {
   "cell_type": "code",
   "execution_count": 34,
   "id": "a76bbfd7",
   "metadata": {},
   "outputs": [
    {
     "data": {
      "text/plain": [
       "Title    199992\n",
       "Body     200000\n",
       "Tags     191464\n",
       "Id       200000\n",
       "Score      1118\n",
       "dtype: int64"
      ]
     },
     "execution_count": 34,
     "metadata": {},
     "output_type": "execute_result"
    }
   ],
   "source": [
    "tmp[tmp>1000]"
   ]
  },
  {
   "cell_type": "markdown",
   "id": "01747a1e",
   "metadata": {},
   "source": [
    "### Nan et dupliqué"
   ]
  },
  {
   "cell_type": "code",
   "execution_count": 38,
   "id": "7b36a010",
   "metadata": {},
   "outputs": [
    {
     "data": {
      "text/plain": [
       "Title                0\n",
       "Body                 0\n",
       "Tags                 0\n",
       "Id                   0\n",
       "Score                0\n",
       "FavoriteCount    25683\n",
       "AnswerCount          0\n",
       "dtype: int64"
      ]
     },
     "execution_count": 38,
     "metadata": {},
     "output_type": "execute_result"
    }
   ],
   "source": [
    "data.isna().sum()"
   ]
  },
  {
   "cell_type": "code",
   "execution_count": 39,
   "id": "58f0ea97",
   "metadata": {},
   "outputs": [
    {
     "data": {
      "text/plain": [
       "Title            0.000000\n",
       "Body             0.000000\n",
       "Tags             0.000000\n",
       "Id               0.000000\n",
       "Score            0.000000\n",
       "FavoriteCount    0.128415\n",
       "AnswerCount      0.000000\n",
       "dtype: float64"
      ]
     },
     "execution_count": 39,
     "metadata": {},
     "output_type": "execute_result"
    }
   ],
   "source": [
    "data.isna().mean()"
   ]
  },
  {
   "cell_type": "markdown",
   "id": "562913db",
   "metadata": {},
   "source": [
    "Valeurs manquantes uniquement pour FavoriteCount"
   ]
  },
  {
   "cell_type": "code",
   "execution_count": 40,
   "id": "6e52d5b6",
   "metadata": {},
   "outputs": [
    {
     "data": {
      "text/plain": [
       "<AxesSubplot:>"
      ]
     },
     "execution_count": 40,
     "metadata": {},
     "output_type": "execute_result"
    },
    {
     "data": {
      "image/png": "[encoded data removed]",
      "text/plain": [
       "<Figure size 640x480 with 2 Axes>"
      ]
     },
     "metadata": {},
     "output_type": "display_data"
    }
   ],
   "source": [
    "sns.heatmap(data.isna())"
   ]
  },
  {
   "cell_type": "code",
   "execution_count": 41,
   "id": "c680e3b3",
   "metadata": {},
   "outputs": [
    {
     "data": {
      "text/plain": [
       "0"
      ]
     },
     "execution_count": 41,
     "metadata": {},
     "output_type": "execute_result"
    }
   ],
   "source": [
    "# Pas de lignes exactement identiques\n",
    "data.duplicated().sum()"
   ]
  },
  {
   "cell_type": "code",
   "execution_count": 43,
   "id": "bb157505",
   "metadata": {},
   "outputs": [
    {
     "data": {
      "text/plain": [
       "0"
      ]
     },
     "execution_count": 43,
     "metadata": {},
     "output_type": "execute_result"
    }
   ],
   "source": [
    "# 0 corps de questions qui sont dupliqués\n",
    "data.duplicated(subset = ['Body']).sum()"
   ]
  },
  {
   "cell_type": "code",
   "execution_count": 45,
   "id": "1a3e4b89",
   "metadata": {},
   "outputs": [
    {
     "name": "stdout",
     "output_type": "stream",
     "text": [
      "col Title -> duplicated :  8\n",
      "col Body -> duplicated :  0\n",
      "col Tags -> duplicated :  8536\n",
      "col Id -> duplicated :  0\n",
      "col Score -> duplicated :  198882\n",
      "col FavoriteCount -> duplicated :  199995\n",
      "col AnswerCount -> duplicated :  199921\n"
     ]
    }
   ],
   "source": [
    "for col in data.columns :\n",
    "    print('col',col,'-> duplicated : ', data.duplicated(subset = [col]).sum())"
   ]
  },
  {
   "cell_type": "code",
   "execution_count": 47,
   "id": "ffaf3509",
   "metadata": {},
   "outputs": [
    {
     "data": {
      "text/html": [
       "<div>\n",
       "<style scoped>\n",
       "    .dataframe tbody tr th:only-of-type {\n",
       "        vertical-align: middle;\n",
       "    }\n",
       "\n",
       "    .dataframe tbody tr th {\n",
       "        vertical-align: top;\n",
       "    }\n",
       "\n",
       "    .dataframe thead th {\n",
       "        text-align: right;\n",
       "    }\n",
       "</style>\n",
       "<table border=\"1\" class=\"dataframe\">\n",
       "  <thead>\n",
       "    <tr style=\"text-align: right;\">\n",
       "      <th></th>\n",
       "      <th>Id</th>\n",
       "      <th>Score</th>\n",
       "      <th>FavoriteCount</th>\n",
       "      <th>AnswerCount</th>\n",
       "    </tr>\n",
       "  </thead>\n",
       "  <tbody>\n",
       "    <tr>\n",
       "      <th>count</th>\n",
       "      <td>2.000000e+05</td>\n",
       "      <td>200000.000000</td>\n",
       "      <td>174317.000000</td>\n",
       "      <td>200000.000000</td>\n",
       "    </tr>\n",
       "    <tr>\n",
       "      <th>mean</th>\n",
       "      <td>2.254972e+07</td>\n",
       "      <td>27.196440</td>\n",
       "      <td>0.000281</td>\n",
       "      <td>3.475995</td>\n",
       "    </tr>\n",
       "    <tr>\n",
       "      <th>std</th>\n",
       "      <td>1.578556e+07</td>\n",
       "      <td>140.862624</td>\n",
       "      <td>0.079905</td>\n",
       "      <td>3.560889</td>\n",
       "    </tr>\n",
       "    <tr>\n",
       "      <th>min</th>\n",
       "      <td>4.000000e+00</td>\n",
       "      <td>6.000000</td>\n",
       "      <td>0.000000</td>\n",
       "      <td>1.000000</td>\n",
       "    </tr>\n",
       "    <tr>\n",
       "      <th>25%</th>\n",
       "      <td>8.323410e+06</td>\n",
       "      <td>7.000000</td>\n",
       "      <td>0.000000</td>\n",
       "      <td>2.000000</td>\n",
       "    </tr>\n",
       "    <tr>\n",
       "      <th>50%</th>\n",
       "      <td>2.008313e+07</td>\n",
       "      <td>10.000000</td>\n",
       "      <td>0.000000</td>\n",
       "      <td>3.000000</td>\n",
       "    </tr>\n",
       "    <tr>\n",
       "      <th>75%</th>\n",
       "      <td>3.558560e+07</td>\n",
       "      <td>19.000000</td>\n",
       "      <td>0.000000</td>\n",
       "      <td>4.000000</td>\n",
       "    </tr>\n",
       "    <tr>\n",
       "      <th>max</th>\n",
       "      <td>5.441439e+07</td>\n",
       "      <td>26968.000000</td>\n",
       "      <td>32.000000</td>\n",
       "      <td>133.000000</td>\n",
       "    </tr>\n",
       "  </tbody>\n",
       "</table>\n",
       "</div>"
      ],
      "text/plain": [
       "                 Id          Score  FavoriteCount    AnswerCount\n",
       "count  2.000000e+05  200000.000000  174317.000000  200000.000000\n",
       "mean   2.254972e+07      27.196440       0.000281       3.475995\n",
       "std    1.578556e+07     140.862624       0.079905       3.560889\n",
       "min    4.000000e+00       6.000000       0.000000       1.000000\n",
       "25%    8.323410e+06       7.000000       0.000000       2.000000\n",
       "50%    2.008313e+07      10.000000       0.000000       3.000000\n",
       "75%    3.558560e+07      19.000000       0.000000       4.000000\n",
       "max    5.441439e+07   26968.000000      32.000000     133.000000"
      ]
     },
     "execution_count": 47,
     "metadata": {},
     "output_type": "execute_result"
    }
   ],
   "source": [
    "data.describe(include = np.number)"
   ]
  },
  {
   "cell_type": "code",
   "execution_count": 48,
   "id": "331c7325",
   "metadata": {},
   "outputs": [
    {
     "data": {
      "text/html": [
       "<div>\n",
       "<style scoped>\n",
       "    .dataframe tbody tr th:only-of-type {\n",
       "        vertical-align: middle;\n",
       "    }\n",
       "\n",
       "    .dataframe tbody tr th {\n",
       "        vertical-align: top;\n",
       "    }\n",
       "\n",
       "    .dataframe thead th {\n",
       "        text-align: right;\n",
       "    }\n",
       "</style>\n",
       "<table border=\"1\" class=\"dataframe\">\n",
       "  <thead>\n",
       "    <tr style=\"text-align: right;\">\n",
       "      <th></th>\n",
       "      <th>Title</th>\n",
       "      <th>Body</th>\n",
       "      <th>Tags</th>\n",
       "    </tr>\n",
       "  </thead>\n",
       "  <tbody>\n",
       "    <tr>\n",
       "      <th>count</th>\n",
       "      <td>200000</td>\n",
       "      <td>200000</td>\n",
       "      <td>200000</td>\n",
       "    </tr>\n",
       "    <tr>\n",
       "      <th>unique</th>\n",
       "      <td>199992</td>\n",
       "      <td>200000</td>\n",
       "      <td>191464</td>\n",
       "    </tr>\n",
       "    <tr>\n",
       "      <th>top</th>\n",
       "      <td>HTML Agility Pack</td>\n",
       "      <td>&lt;p&gt;I want to assign the decimal variable &amp;quot...</td>\n",
       "      <td>&lt;javascript&gt;&lt;jquery&gt;&lt;html&gt;&lt;css&gt;&lt;twitter-bootst...</td>\n",
       "    </tr>\n",
       "    <tr>\n",
       "      <th>freq</th>\n",
       "      <td>2</td>\n",
       "      <td>1</td>\n",
       "      <td>112</td>\n",
       "    </tr>\n",
       "  </tbody>\n",
       "</table>\n",
       "</div>"
      ],
      "text/plain": [
       "                    Title                                               Body  \\\n",
       "count              200000                                             200000   \n",
       "unique             199992                                             200000   \n",
       "top     HTML Agility Pack  <p>I want to assign the decimal variable &quot...   \n",
       "freq                    2                                                  1   \n",
       "\n",
       "                                                     Tags  \n",
       "count                                              200000  \n",
       "unique                                             191464  \n",
       "top     <javascript><jquery><html><css><twitter-bootst...  \n",
       "freq                                                  112  "
      ]
     },
     "execution_count": 48,
     "metadata": {},
     "output_type": "execute_result"
    }
   ],
   "source": [
    "data.describe(include = object)"
   ]
  },
  {
   "cell_type": "code",
   "execution_count": 49,
   "id": "2ed1cc63",
   "metadata": {},
   "outputs": [
    {
     "data": {
      "text/html": [
       "<div>\n",
       "<style scoped>\n",
       "    .dataframe tbody tr th:only-of-type {\n",
       "        vertical-align: middle;\n",
       "    }\n",
       "\n",
       "    .dataframe tbody tr th {\n",
       "        vertical-align: top;\n",
       "    }\n",
       "\n",
       "    .dataframe thead th {\n",
       "        text-align: right;\n",
       "    }\n",
       "</style>\n",
       "<table border=\"1\" class=\"dataframe\">\n",
       "  <thead>\n",
       "    <tr style=\"text-align: right;\">\n",
       "      <th></th>\n",
       "      <th>Id</th>\n",
       "      <th>Score</th>\n",
       "      <th>FavoriteCount</th>\n",
       "      <th>AnswerCount</th>\n",
       "    </tr>\n",
       "  </thead>\n",
       "  <tbody>\n",
       "    <tr>\n",
       "      <th>count</th>\n",
       "      <td>2.000000e+05</td>\n",
       "      <td>200000.000000</td>\n",
       "      <td>174317.000000</td>\n",
       "      <td>200000.000000</td>\n",
       "    </tr>\n",
       "    <tr>\n",
       "      <th>mean</th>\n",
       "      <td>2.254972e+07</td>\n",
       "      <td>27.196440</td>\n",
       "      <td>0.000281</td>\n",
       "      <td>3.475995</td>\n",
       "    </tr>\n",
       "    <tr>\n",
       "      <th>std</th>\n",
       "      <td>1.578556e+07</td>\n",
       "      <td>140.862624</td>\n",
       "      <td>0.079905</td>\n",
       "      <td>3.560889</td>\n",
       "    </tr>\n",
       "    <tr>\n",
       "      <th>min</th>\n",
       "      <td>4.000000e+00</td>\n",
       "      <td>6.000000</td>\n",
       "      <td>0.000000</td>\n",
       "      <td>1.000000</td>\n",
       "    </tr>\n",
       "    <tr>\n",
       "      <th>25%</th>\n",
       "      <td>8.323410e+06</td>\n",
       "      <td>7.000000</td>\n",
       "      <td>0.000000</td>\n",
       "      <td>2.000000</td>\n",
       "    </tr>\n",
       "    <tr>\n",
       "      <th>50%</th>\n",
       "      <td>2.008313e+07</td>\n",
       "      <td>10.000000</td>\n",
       "      <td>0.000000</td>\n",
       "      <td>3.000000</td>\n",
       "    </tr>\n",
       "    <tr>\n",
       "      <th>75%</th>\n",
       "      <td>3.558560e+07</td>\n",
       "      <td>19.000000</td>\n",
       "      <td>0.000000</td>\n",
       "      <td>4.000000</td>\n",
       "    </tr>\n",
       "    <tr>\n",
       "      <th>max</th>\n",
       "      <td>5.441439e+07</td>\n",
       "      <td>26968.000000</td>\n",
       "      <td>32.000000</td>\n",
       "      <td>133.000000</td>\n",
       "    </tr>\n",
       "  </tbody>\n",
       "</table>\n",
       "</div>"
      ],
      "text/plain": [
       "                 Id          Score  FavoriteCount    AnswerCount\n",
       "count  2.000000e+05  200000.000000  174317.000000  200000.000000\n",
       "mean   2.254972e+07      27.196440       0.000281       3.475995\n",
       "std    1.578556e+07     140.862624       0.079905       3.560889\n",
       "min    4.000000e+00       6.000000       0.000000       1.000000\n",
       "25%    8.323410e+06       7.000000       0.000000       2.000000\n",
       "50%    2.008313e+07      10.000000       0.000000       3.000000\n",
       "75%    3.558560e+07      19.000000       0.000000       4.000000\n",
       "max    5.441439e+07   26968.000000      32.000000     133.000000"
      ]
     },
     "execution_count": 49,
     "metadata": {},
     "output_type": "execute_result"
    }
   ],
   "source": [
    "data.describe()"
   ]
  },
  {
   "cell_type": "markdown",
   "id": "c94745dc",
   "metadata": {},
   "source": [
    "### Selection des colonnes "
   ]
  },
  {
   "cell_type": "code",
   "execution_count": 314,
   "id": "d2ef38ed",
   "metadata": {},
   "outputs": [
    {
     "data": {
      "text/html": [
       "<div>\n",
       "<style scoped>\n",
       "    .dataframe tbody tr th:only-of-type {\n",
       "        vertical-align: middle;\n",
       "    }\n",
       "\n",
       "    .dataframe tbody tr th {\n",
       "        vertical-align: top;\n",
       "    }\n",
       "\n",
       "    .dataframe thead th {\n",
       "        text-align: right;\n",
       "    }\n",
       "</style>\n",
       "<table border=\"1\" class=\"dataframe\">\n",
       "  <thead>\n",
       "    <tr style=\"text-align: right;\">\n",
       "      <th></th>\n",
       "      <th>Title</th>\n",
       "      <th>Body</th>\n",
       "      <th>Tags</th>\n",
       "    </tr>\n",
       "  </thead>\n",
       "  <tbody>\n",
       "    <tr>\n",
       "      <th>0</th>\n",
       "      <td>How to convert Decimal to Double in C#?</td>\n",
       "      <td>&lt;p&gt;I want to assign the decimal variable &amp;quot...</td>\n",
       "      <td>&lt;c#&gt;&lt;floating-point&gt;&lt;type-conversion&gt;&lt;double&gt;&lt;...</td>\n",
       "    </tr>\n",
       "    <tr>\n",
       "      <th>1</th>\n",
       "      <td>Calculate relative time in C#</td>\n",
       "      <td>&lt;p&gt;Given a specific &lt;code&gt;DateTime&lt;/code&gt; valu...</td>\n",
       "      <td>&lt;c#&gt;&lt;datetime&gt;&lt;time&gt;&lt;datediff&gt;&lt;relative-time-s...</td>\n",
       "    </tr>\n",
       "    <tr>\n",
       "      <th>2</th>\n",
       "      <td>Determine a user's timezone</td>\n",
       "      <td>&lt;p&gt;Is there a standard way for a web server to...</td>\n",
       "      <td>&lt;html&gt;&lt;browser&gt;&lt;timezone&gt;&lt;user-agent&gt;&lt;timezone...</td>\n",
       "    </tr>\n",
       "    <tr>\n",
       "      <th>3</th>\n",
       "      <td>What is the fastest way to get the value of π?</td>\n",
       "      <td>&lt;p&gt;I'm looking for the fastest way to obtain t...</td>\n",
       "      <td>&lt;performance&gt;&lt;algorithm&gt;&lt;language-agnostic&gt;&lt;un...</td>\n",
       "    </tr>\n",
       "    <tr>\n",
       "      <th>4</th>\n",
       "      <td>How to use the C socket API in C++ on z/OS</td>\n",
       "      <td>&lt;p&gt;I'm having issues getting the C sockets API...</td>\n",
       "      <td>&lt;c++&gt;&lt;c&gt;&lt;sockets&gt;&lt;mainframe&gt;&lt;zos&gt;</td>\n",
       "    </tr>\n",
       "  </tbody>\n",
       "</table>\n",
       "</div>"
      ],
      "text/plain": [
       "                                            Title   \n",
       "0         How to convert Decimal to Double in C#?  \\\n",
       "1                   Calculate relative time in C#   \n",
       "2                     Determine a user's timezone   \n",
       "3  What is the fastest way to get the value of π?   \n",
       "4      How to use the C socket API in C++ on z/OS   \n",
       "\n",
       "                                                Body   \n",
       "0  <p>I want to assign the decimal variable &quot...  \\\n",
       "1  <p>Given a specific <code>DateTime</code> valu...   \n",
       "2  <p>Is there a standard way for a web server to...   \n",
       "3  <p>I'm looking for the fastest way to obtain t...   \n",
       "4  <p>I'm having issues getting the C sockets API...   \n",
       "\n",
       "                                                Tags  \n",
       "0  <c#><floating-point><type-conversion><double><...  \n",
       "1  <c#><datetime><time><datediff><relative-time-s...  \n",
       "2  <html><browser><timezone><user-agent><timezone...  \n",
       "3  <performance><algorithm><language-agnostic><un...  \n",
       "4                  <c++><c><sockets><mainframe><zos>  "
      ]
     },
     "execution_count": 314,
     "metadata": {},
     "output_type": "execute_result"
    }
   ],
   "source": [
    "cols = ['Title','Body', 'Tags']\n",
    "data = data[cols]\n",
    "data.head()"
   ]
  },
  {
   "cell_type": "code",
   "execution_count": 332,
   "id": "4014ab34",
   "metadata": {
    "scrolled": true
   },
   "outputs": [
    {
     "data": {
      "text/plain": [
       "'<p>Given a specific <code>DateTime</code> value, how do I display relative time, like:</p>\\n<ul>\\n<li><code>2 hours ago</code></li>\\n<li><code>3 days ago</code></li>\\n<li><code>a month ago</code></li>\\n</ul>\\n'"
      ]
     },
     "execution_count": 332,
     "metadata": {},
     "output_type": "execute_result"
    }
   ],
   "source": [
    "data.Body[1]"
   ]
  },
  {
   "cell_type": "markdown",
   "id": "df08fc61",
   "metadata": {},
   "source": [
    "### Premier nettoyage"
   ]
  },
  {
   "cell_type": "code",
   "execution_count": 238,
   "id": "147cc0b1",
   "metadata": {},
   "outputs": [
    {
     "data": {
      "text/html": [
       "<div>\n",
       "<style scoped>\n",
       "    .dataframe tbody tr th:only-of-type {\n",
       "        vertical-align: middle;\n",
       "    }\n",
       "\n",
       "    .dataframe tbody tr th {\n",
       "        vertical-align: top;\n",
       "    }\n",
       "\n",
       "    .dataframe thead th {\n",
       "        text-align: right;\n",
       "    }\n",
       "</style>\n",
       "<table border=\"1\" class=\"dataframe\">\n",
       "  <thead>\n",
       "    <tr style=\"text-align: right;\">\n",
       "      <th></th>\n",
       "      <th>Title</th>\n",
       "      <th>Body</th>\n",
       "      <th>Tags</th>\n",
       "      <th>tags</th>\n",
       "    </tr>\n",
       "  </thead>\n",
       "  <tbody>\n",
       "    <tr>\n",
       "      <th>0</th>\n",
       "      <td>How to convert Decimal to Double in C#?</td>\n",
       "      <td>&lt;p&gt;I want to assign the decimal variable &amp;quot...</td>\n",
       "      <td>&lt;c#&gt;&lt;floating-point&gt;&lt;type-conversion&gt;&lt;double&gt;&lt;...</td>\n",
       "      <td>c#,floating-point,type-conversion,double,decimal</td>\n",
       "    </tr>\n",
       "    <tr>\n",
       "      <th>1</th>\n",
       "      <td>Calculate relative time in C#</td>\n",
       "      <td>&lt;p&gt;Given a specific &lt;code&gt;DateTime&lt;/code&gt; valu...</td>\n",
       "      <td>&lt;c#&gt;&lt;datetime&gt;&lt;time&gt;&lt;datediff&gt;&lt;relative-time-s...</td>\n",
       "      <td>c#,datetime,time,datediff,relative-time-span</td>\n",
       "    </tr>\n",
       "    <tr>\n",
       "      <th>2</th>\n",
       "      <td>Determine a user's timezone</td>\n",
       "      <td>&lt;p&gt;Is there a standard way for a web server to...</td>\n",
       "      <td>&lt;html&gt;&lt;browser&gt;&lt;timezone&gt;&lt;user-agent&gt;&lt;timezone...</td>\n",
       "      <td>html,browser,timezone,user-agent,timezone-offset</td>\n",
       "    </tr>\n",
       "    <tr>\n",
       "      <th>3</th>\n",
       "      <td>What is the fastest way to get the value of π?</td>\n",
       "      <td>&lt;p&gt;I'm looking for the fastest way to obtain t...</td>\n",
       "      <td>&lt;performance&gt;&lt;algorithm&gt;&lt;language-agnostic&gt;&lt;un...</td>\n",
       "      <td>performance,algorithm,language-agnostic,unix,pi</td>\n",
       "    </tr>\n",
       "    <tr>\n",
       "      <th>4</th>\n",
       "      <td>How to use the C socket API in C++ on z/OS</td>\n",
       "      <td>&lt;p&gt;I'm having issues getting the C sockets API...</td>\n",
       "      <td>&lt;c++&gt;&lt;c&gt;&lt;sockets&gt;&lt;mainframe&gt;&lt;zos&gt;</td>\n",
       "      <td>c++,c,sockets,mainframe,zos</td>\n",
       "    </tr>\n",
       "    <tr>\n",
       "      <th>...</th>\n",
       "      <td>...</td>\n",
       "      <td>...</td>\n",
       "      <td>...</td>\n",
       "      <td>...</td>\n",
       "    </tr>\n",
       "    <tr>\n",
       "      <th>199995</th>\n",
       "      <td>Ionic 4 horizontal scroll with ngFor</td>\n",
       "      <td>&lt;p&gt;I'm at a loss.  I can get horizontal scroll...</td>\n",
       "      <td>&lt;css&gt;&lt;angular&gt;&lt;ionic-framework&gt;&lt;ngfor&gt;&lt;ionic4&gt;</td>\n",
       "      <td>css,angular,ionic-framework,ngfor,ionic4</td>\n",
       "    </tr>\n",
       "    <tr>\n",
       "      <th>199996</th>\n",
       "      <td>Type hinting with descriptors</td>\n",
       "      <td>&lt;p&gt;In &lt;a href=\"https://github.com/python/mypy/...</td>\n",
       "      <td>&lt;python&gt;&lt;python-3.x&gt;&lt;type-hinting&gt;&lt;mypy&gt;&lt;pytho...</td>\n",
       "      <td>python,python-3.x,type-hinting,mypy,python-des...</td>\n",
       "    </tr>\n",
       "    <tr>\n",
       "      <th>199997</th>\n",
       "      <td>How to add multiple lines between code blocks ...</td>\n",
       "      <td>&lt;p&gt;I started using Prettier, but discovered th...</td>\n",
       "      <td>&lt;javascript&gt;&lt;node.js&gt;&lt;typescript&gt;&lt;visual-studi...</td>\n",
       "      <td>javascript,node.js,typescript,visual-studio-co...</td>\n",
       "    </tr>\n",
       "    <tr>\n",
       "      <th>199998</th>\n",
       "      <td>React-Select Scrollbar Styling</td>\n",
       "      <td>&lt;p&gt;I am trying to change the style of scrollba...</td>\n",
       "      <td>&lt;reactjs&gt;&lt;frontend&gt;&lt;scrollbar&gt;&lt;styling&gt;&lt;react-...</td>\n",
       "      <td>reactjs,frontend,scrollbar,styling,react-select</td>\n",
       "    </tr>\n",
       "    <tr>\n",
       "      <th>199999</th>\n",
       "      <td>Convert sklearn.svm SVC classifier to Keras im...</td>\n",
       "      <td>&lt;p&gt;I'm trying to convert some old code from us...</td>\n",
       "      <td>&lt;machine-learning&gt;&lt;keras&gt;&lt;scikit-learn&gt;&lt;neural...</td>\n",
       "      <td>machine-learning,keras,scikit-learn,neural-net...</td>\n",
       "    </tr>\n",
       "  </tbody>\n",
       "</table>\n",
       "<p>184644 rows × 4 columns</p>\n",
       "</div>"
      ],
      "text/plain": [
       "                                                    Title   \n",
       "0                 How to convert Decimal to Double in C#?  \\\n",
       "1                           Calculate relative time in C#   \n",
       "2                             Determine a user's timezone   \n",
       "3          What is the fastest way to get the value of π?   \n",
       "4              How to use the C socket API in C++ on z/OS   \n",
       "...                                                   ...   \n",
       "199995               Ionic 4 horizontal scroll with ngFor   \n",
       "199996                      Type hinting with descriptors   \n",
       "199997  How to add multiple lines between code blocks ...   \n",
       "199998                     React-Select Scrollbar Styling   \n",
       "199999  Convert sklearn.svm SVC classifier to Keras im...   \n",
       "\n",
       "                                                     Body   \n",
       "0       <p>I want to assign the decimal variable &quot...  \\\n",
       "1       <p>Given a specific <code>DateTime</code> valu...   \n",
       "2       <p>Is there a standard way for a web server to...   \n",
       "3       <p>I'm looking for the fastest way to obtain t...   \n",
       "4       <p>I'm having issues getting the C sockets API...   \n",
       "...                                                   ...   \n",
       "199995  <p>I'm at a loss.  I can get horizontal scroll...   \n",
       "199996  <p>In <a href=\"https://github.com/python/mypy/...   \n",
       "199997  <p>I started using Prettier, but discovered th...   \n",
       "199998  <p>I am trying to change the style of scrollba...   \n",
       "199999  <p>I'm trying to convert some old code from us...   \n",
       "\n",
       "                                                     Tags   \n",
       "0       <c#><floating-point><type-conversion><double><...  \\\n",
       "1       <c#><datetime><time><datediff><relative-time-s...   \n",
       "2       <html><browser><timezone><user-agent><timezone...   \n",
       "3       <performance><algorithm><language-agnostic><un...   \n",
       "4                       <c++><c><sockets><mainframe><zos>   \n",
       "...                                                   ...   \n",
       "199995     <css><angular><ionic-framework><ngfor><ionic4>   \n",
       "199996  <python><python-3.x><type-hinting><mypy><pytho...   \n",
       "199997  <javascript><node.js><typescript><visual-studi...   \n",
       "199998  <reactjs><frontend><scrollbar><styling><react-...   \n",
       "199999  <machine-learning><keras><scikit-learn><neural...   \n",
       "\n",
       "                                                     tags  \n",
       "0        c#,floating-point,type-conversion,double,decimal  \n",
       "1            c#,datetime,time,datediff,relative-time-span  \n",
       "2        html,browser,timezone,user-agent,timezone-offset  \n",
       "3         performance,algorithm,language-agnostic,unix,pi  \n",
       "4                             c++,c,sockets,mainframe,zos  \n",
       "...                                                   ...  \n",
       "199995           css,angular,ionic-framework,ngfor,ionic4  \n",
       "199996  python,python-3.x,type-hinting,mypy,python-des...  \n",
       "199997  javascript,node.js,typescript,visual-studio-co...  \n",
       "199998    reactjs,frontend,scrollbar,styling,react-select  \n",
       "199999  machine-learning,keras,scikit-learn,neural-net...  \n",
       "\n",
       "[184644 rows x 4 columns]"
      ]
     },
     "execution_count": 238,
     "metadata": {},
     "output_type": "execute_result"
    }
   ],
   "source": [
    "data"
   ]
  },
  {
   "cell_type": "markdown",
   "id": "683b8c53",
   "metadata": {},
   "source": [
    "On supprime le code des questions car cela va sinon avoir un impact par la suite sur nos analyses"
   ]
  },
  {
   "cell_type": "code",
   "execution_count": 315,
   "id": "c726a657",
   "metadata": {},
   "outputs": [],
   "source": [
    "# Supprimer le code dans le body, flags prend en compte egalement les sauts de ligne \n",
    "data['Body'] = data['Body'].apply(lambda x: re.sub('<code>.*?</code>', '', x, flags=re.DOTALL))"
   ]
  },
  {
   "cell_type": "code",
   "execution_count": 316,
   "id": "439b0911",
   "metadata": {},
   "outputs": [
    {
     "data": {
      "text/plain": [
       "\"<p>I'm having issues getting the C sockets API to work properly in C++ on z/OS.</p>\\n<p>Although I am including , I still get compile time errors telling me that  is not defined.</p>\\n<p>Am I missing something obvious, or is this related to the fact that being on z/OS makes my problems much more complicated?</p>\\n<p>I discovered that there is an  that I'm hitting. Apparently z/OS isn't happy unless I define which &quot;type&quot; of sockets I'm using with:</p>\\n<pre></pre>\\n<p>Now, I personally have no idea what this  is actually for, so if any z/OS sockets programmers are out there (all 3 of you), perhaps you could give me a rundown of how this all works?</p>\\n<p>Test App</p>\\n<pre></pre>\\n<p>Compile/Link Output:</p>\\n<pre></pre>\\n<p>A check of sys/sockets.h does include the definition I need, and as far as I can tell, it is not being blocked by any  statements.</p>\\n<p>I have however noticed it contains the following:</p>\\n<pre></pre>\\n<p>which encapsulates basically the whole file? Not sure if it matters.</p>\\n\""
      ]
     },
     "execution_count": 316,
     "metadata": {},
     "output_type": "execute_result"
    }
   ],
   "source": [
    "data.Body[4]"
   ]
  },
  {
   "cell_type": "code",
   "execution_count": 317,
   "id": "87ddc956",
   "metadata": {},
   "outputs": [],
   "source": [
    "# Supprimer les balises html de notre corps de question \n",
    "data.Body = data.Body.apply(lambda x: bs(x, \"lxml\").text)"
   ]
  },
  {
   "cell_type": "code",
   "execution_count": 318,
   "id": "944c2754",
   "metadata": {},
   "outputs": [
    {
     "data": {
      "text/plain": [
       "'I\\'m having issues getting the C sockets API to work properly in C++ on z/OS.\\nAlthough I am including , I still get compile time errors telling me that  is not defined.\\nAm I missing something obvious, or is this related to the fact that being on z/OS makes my problems much more complicated?\\nI discovered that there is an  that I\\'m hitting. Apparently z/OS isn\\'t happy unless I define which \"type\" of sockets I\\'m using with:\\n\\nNow, I personally have no idea what this  is actually for, so if any z/OS sockets programmers are out there (all 3 of you), perhaps you could give me a rundown of how this all works?\\nTest App\\n\\nCompile/Link Output:\\n\\nA check of sys/sockets.h does include the definition I need, and as far as I can tell, it is not being blocked by any  statements.\\nI have however noticed it contains the following:\\n\\nwhich encapsulates basically the whole file? Not sure if it matters.\\n'"
      ]
     },
     "execution_count": 318,
     "metadata": {},
     "output_type": "execute_result"
    }
   ],
   "source": [
    "data.Body[4]"
   ]
  },
  {
   "cell_type": "code",
   "execution_count": 319,
   "id": "7788b75f",
   "metadata": {},
   "outputs": [],
   "source": [
    "# Suppresion des retours à la ligne \n",
    "to_clean = re.compile('\\n')\n",
    "\n",
    "data.Body = data.Body.apply(lambda x: re.sub(to_clean, ' ', x))"
   ]
  },
  {
   "cell_type": "code",
   "execution_count": 320,
   "id": "80d0c6ac",
   "metadata": {},
   "outputs": [
    {
     "data": {
      "text/plain": [
       "'I\\'m having issues getting the C sockets API to work properly in C++ on z/OS. Although I am including , I still get compile time errors telling me that  is not defined. Am I missing something obvious, or is this related to the fact that being on z/OS makes my problems much more complicated? I discovered that there is an  that I\\'m hitting. Apparently z/OS isn\\'t happy unless I define which \"type\" of sockets I\\'m using with:  Now, I personally have no idea what this  is actually for, so if any z/OS sockets programmers are out there (all 3 of you), perhaps you could give me a rundown of how this all works? Test App  Compile/Link Output:  A check of sys/sockets.h does include the definition I need, and as far as I can tell, it is not being blocked by any  statements. I have however noticed it contains the following:  which encapsulates basically the whole file? Not sure if it matters. '"
      ]
     },
     "execution_count": 320,
     "metadata": {},
     "output_type": "execute_result"
    }
   ],
   "source": [
    "data.Body[4]"
   ]
  },
  {
   "cell_type": "code",
   "execution_count": 321,
   "id": "7c1affb0",
   "metadata": {},
   "outputs": [
    {
     "data": {
      "text/html": [
       "<div>\n",
       "<style scoped>\n",
       "    .dataframe tbody tr th:only-of-type {\n",
       "        vertical-align: middle;\n",
       "    }\n",
       "\n",
       "    .dataframe tbody tr th {\n",
       "        vertical-align: top;\n",
       "    }\n",
       "\n",
       "    .dataframe thead th {\n",
       "        text-align: right;\n",
       "    }\n",
       "</style>\n",
       "<table border=\"1\" class=\"dataframe\">\n",
       "  <thead>\n",
       "    <tr style=\"text-align: right;\">\n",
       "      <th></th>\n",
       "      <th>Title</th>\n",
       "      <th>Body</th>\n",
       "      <th>Tags</th>\n",
       "    </tr>\n",
       "  </thead>\n",
       "  <tbody>\n",
       "    <tr>\n",
       "      <th>0</th>\n",
       "      <td>How to convert Decimal to Double in C#?</td>\n",
       "      <td>I want to assign the decimal variable \"trans\" ...</td>\n",
       "      <td>&lt;c#&gt;&lt;floating-point&gt;&lt;type-conversion&gt;&lt;double&gt;&lt;...</td>\n",
       "    </tr>\n",
       "    <tr>\n",
       "      <th>1</th>\n",
       "      <td>Calculate relative time in C#</td>\n",
       "      <td>Given a specific  value, how do I display rela...</td>\n",
       "      <td>&lt;c#&gt;&lt;datetime&gt;&lt;time&gt;&lt;datediff&gt;&lt;relative-time-s...</td>\n",
       "    </tr>\n",
       "    <tr>\n",
       "      <th>2</th>\n",
       "      <td>Determine a user's timezone</td>\n",
       "      <td>Is there a standard way for a web server to be...</td>\n",
       "      <td>&lt;html&gt;&lt;browser&gt;&lt;timezone&gt;&lt;user-agent&gt;&lt;timezone...</td>\n",
       "    </tr>\n",
       "    <tr>\n",
       "      <th>3</th>\n",
       "      <td>What is the fastest way to get the value of π?</td>\n",
       "      <td>I'm looking for the fastest way to obtain the ...</td>\n",
       "      <td>&lt;performance&gt;&lt;algorithm&gt;&lt;language-agnostic&gt;&lt;un...</td>\n",
       "    </tr>\n",
       "    <tr>\n",
       "      <th>4</th>\n",
       "      <td>How to use the C socket API in C++ on z/OS</td>\n",
       "      <td>I'm having issues getting the C sockets API to...</td>\n",
       "      <td>&lt;c++&gt;&lt;c&gt;&lt;sockets&gt;&lt;mainframe&gt;&lt;zos&gt;</td>\n",
       "    </tr>\n",
       "  </tbody>\n",
       "</table>\n",
       "</div>"
      ],
      "text/plain": [
       "                                            Title   \n",
       "0         How to convert Decimal to Double in C#?  \\\n",
       "1                   Calculate relative time in C#   \n",
       "2                     Determine a user's timezone   \n",
       "3  What is the fastest way to get the value of π?   \n",
       "4      How to use the C socket API in C++ on z/OS   \n",
       "\n",
       "                                                Body   \n",
       "0  I want to assign the decimal variable \"trans\" ...  \\\n",
       "1  Given a specific  value, how do I display rela...   \n",
       "2  Is there a standard way for a web server to be...   \n",
       "3  I'm looking for the fastest way to obtain the ...   \n",
       "4  I'm having issues getting the C sockets API to...   \n",
       "\n",
       "                                                Tags  \n",
       "0  <c#><floating-point><type-conversion><double><...  \n",
       "1  <c#><datetime><time><datediff><relative-time-s...  \n",
       "2  <html><browser><timezone><user-agent><timezone...  \n",
       "3  <performance><algorithm><language-agnostic><un...  \n",
       "4                  <c++><c><sockets><mainframe><zos>  "
      ]
     },
     "execution_count": 321,
     "metadata": {},
     "output_type": "execute_result"
    }
   ],
   "source": [
    "data.head()"
   ]
  },
  {
   "cell_type": "markdown",
   "id": "a0e15c09",
   "metadata": {},
   "source": [
    "#### Duplicated"
   ]
  },
  {
   "cell_type": "code",
   "execution_count": 260,
   "id": "5e52ceab",
   "metadata": {},
   "outputs": [
    {
     "data": {
      "text/html": [
       "<div>\n",
       "<style scoped>\n",
       "    .dataframe tbody tr th:only-of-type {\n",
       "        vertical-align: middle;\n",
       "    }\n",
       "\n",
       "    .dataframe tbody tr th {\n",
       "        vertical-align: top;\n",
       "    }\n",
       "\n",
       "    .dataframe thead th {\n",
       "        text-align: right;\n",
       "    }\n",
       "</style>\n",
       "<table border=\"1\" class=\"dataframe\">\n",
       "  <thead>\n",
       "    <tr style=\"text-align: right;\">\n",
       "      <th></th>\n",
       "      <th>Title</th>\n",
       "      <th>Body</th>\n",
       "      <th>Tags</th>\n",
       "      <th>tags</th>\n",
       "      <th>Body2</th>\n",
       "    </tr>\n",
       "  </thead>\n",
       "  <tbody>\n",
       "    <tr>\n",
       "      <th>30860</th>\n",
       "      <td>Git post-receive hook not working</td>\n",
       "      <td>My setup is a windows XAMPP server, with cURL ...</td>\n",
       "      <td>&lt;git&gt;&lt;curl&gt;&lt;hudson&gt;&lt;githooks&gt;&lt;git-post-receive&gt;</td>\n",
       "      <td>git,curl,hudson,githooks,git-post-receive</td>\n",
       "      <td>&lt;html&gt;&lt;body&gt;&lt;p&gt;My setup is a windows XAMPP ser...</td>\n",
       "    </tr>\n",
       "    <tr>\n",
       "      <th>15539</th>\n",
       "      <td>HTML Agility Pack</td>\n",
       "      <td>I want to parse the html table using html agil...</td>\n",
       "      <td>&lt;c#&gt;&lt;.net&gt;&lt;winforms&gt;&lt;html-parsing&gt;&lt;html-agilit...</td>\n",
       "      <td>c#,.net,winforms,html-parsing,html-agility-pack</td>\n",
       "      <td>&lt;html&gt;&lt;body&gt;&lt;p&gt;I want to parse the html table ...</td>\n",
       "    </tr>\n",
       "    <tr>\n",
       "      <th>44368</th>\n",
       "      <td>LINQ to Entities does not recognize the method</td>\n",
       "      <td>I'm getting the following error when trying to...</td>\n",
       "      <td>&lt;.net&gt;&lt;linq&gt;&lt;entity-framework&gt;&lt;linq-to-entitie...</td>\n",
       "      <td>.net,linq,entity-framework,linq-to-entities,sp...</td>\n",
       "      <td>&lt;html&gt;&lt;body&gt;&lt;p&gt;I'm getting the following error...</td>\n",
       "    </tr>\n",
       "    <tr>\n",
       "      <th>22565</th>\n",
       "      <td>Pointcut matching methods with annotated param...</td>\n",
       "      <td>I need to create an aspect with a pointcut mat...</td>\n",
       "      <td>&lt;java&gt;&lt;parameters&gt;&lt;annotations&gt;&lt;aop&gt;&lt;aspectj&gt;</td>\n",
       "      <td>java,parameters,annotations,aop,aspectj</td>\n",
       "      <td>&lt;html&gt;&lt;body&gt;&lt;p&gt;I need to create an aspect with...</td>\n",
       "    </tr>\n",
       "    <tr>\n",
       "      <th>71179</th>\n",
       "      <td>The ObjectContext instance has been disposed a...</td>\n",
       "      <td>I'm having trouble with one of my queries beca...</td>\n",
       "      <td>&lt;entity-framework&gt;&lt;lazy-loading&gt;&lt;entity-framew...</td>\n",
       "      <td>entity-framework,lazy-loading,entity-framework...</td>\n",
       "      <td>&lt;html&gt;&lt;body&gt;&lt;p&gt;I'm having trouble with one of ...</td>\n",
       "    </tr>\n",
       "  </tbody>\n",
       "</table>\n",
       "</div>"
      ],
      "text/plain": [
       "                                                   Title   \n",
       "30860                  Git post-receive hook not working  \\\n",
       "15539                                  HTML Agility Pack   \n",
       "44368     LINQ to Entities does not recognize the method   \n",
       "22565  Pointcut matching methods with annotated param...   \n",
       "71179  The ObjectContext instance has been disposed a...   \n",
       "\n",
       "                                                    Body   \n",
       "30860  My setup is a windows XAMPP server, with cURL ...  \\\n",
       "15539  I want to parse the html table using html agil...   \n",
       "44368  I'm getting the following error when trying to...   \n",
       "22565  I need to create an aspect with a pointcut mat...   \n",
       "71179  I'm having trouble with one of my queries beca...   \n",
       "\n",
       "                                                    Tags   \n",
       "30860    <git><curl><hudson><githooks><git-post-receive>  \\\n",
       "15539  <c#><.net><winforms><html-parsing><html-agilit...   \n",
       "44368  <.net><linq><entity-framework><linq-to-entitie...   \n",
       "22565      <java><parameters><annotations><aop><aspectj>   \n",
       "71179  <entity-framework><lazy-loading><entity-framew...   \n",
       "\n",
       "                                                    tags   \n",
       "30860          git,curl,hudson,githooks,git-post-receive  \\\n",
       "15539    c#,.net,winforms,html-parsing,html-agility-pack   \n",
       "44368  .net,linq,entity-framework,linq-to-entities,sp...   \n",
       "22565            java,parameters,annotations,aop,aspectj   \n",
       "71179  entity-framework,lazy-loading,entity-framework...   \n",
       "\n",
       "                                                   Body2  \n",
       "30860  <html><body><p>My setup is a windows XAMPP ser...  \n",
       "15539  <html><body><p>I want to parse the html table ...  \n",
       "44368  <html><body><p>I'm getting the following error...  \n",
       "22565  <html><body><p>I need to create an aspect with...  \n",
       "71179  <html><body><p>I'm having trouble with one of ...  "
      ]
     },
     "execution_count": 260,
     "metadata": {},
     "output_type": "execute_result"
    }
   ],
   "source": [
    "# Observation des données dupliquées sur la variable Title\n",
    "idx = data.duplicated(subset = 'Title', keep = 'first')\n",
    "data.loc[idx,:].sort_values('Title')"
   ]
  },
  {
   "cell_type": "code",
   "execution_count": 322,
   "id": "85613da5",
   "metadata": {},
   "outputs": [],
   "source": [
    "# Suppression des doublons sur cette variable\n",
    "data.drop_duplicates(subset = 'Title', inplace = True)"
   ]
  },
  {
   "cell_type": "markdown",
   "id": "5190d611",
   "metadata": {},
   "source": [
    "#### NA"
   ]
  },
  {
   "cell_type": "code",
   "execution_count": 310,
   "id": "05b4a79b",
   "metadata": {},
   "outputs": [
    {
     "data": {
      "text/plain": [
       "Title    0.0\n",
       "Body     0.0\n",
       "Tags     0.0\n",
       "dtype: float64"
      ]
     },
     "execution_count": 310,
     "metadata": {},
     "output_type": "execute_result"
    }
   ],
   "source": [
    "data.isna().mean()"
   ]
  },
  {
   "cell_type": "markdown",
   "id": "5c33b291",
   "metadata": {},
   "source": [
    "### EDA"
   ]
  },
  {
   "cell_type": "markdown",
   "id": "16b9f7a9",
   "metadata": {},
   "source": [
    "#### Taille des textes"
   ]
  },
  {
   "cell_type": "code",
   "execution_count": 311,
   "id": "579723a3",
   "metadata": {},
   "outputs": [
    {
     "data": {
      "text/html": [
       "<div>\n",
       "<style scoped>\n",
       "    .dataframe tbody tr th:only-of-type {\n",
       "        vertical-align: middle;\n",
       "    }\n",
       "\n",
       "    .dataframe tbody tr th {\n",
       "        vertical-align: top;\n",
       "    }\n",
       "\n",
       "    .dataframe thead th {\n",
       "        text-align: right;\n",
       "    }\n",
       "</style>\n",
       "<table border=\"1\" class=\"dataframe\">\n",
       "  <thead>\n",
       "    <tr style=\"text-align: right;\">\n",
       "      <th></th>\n",
       "      <th>Title</th>\n",
       "      <th>Body</th>\n",
       "      <th>Tags</th>\n",
       "    </tr>\n",
       "  </thead>\n",
       "  <tbody>\n",
       "    <tr>\n",
       "      <th>count</th>\n",
       "      <td>199992</td>\n",
       "      <td>199992</td>\n",
       "      <td>199992</td>\n",
       "    </tr>\n",
       "    <tr>\n",
       "      <th>unique</th>\n",
       "      <td>199992</td>\n",
       "      <td>199971</td>\n",
       "      <td>191456</td>\n",
       "    </tr>\n",
       "    <tr>\n",
       "      <th>top</th>\n",
       "      <td>How to convert Decimal to Double in C#?</td>\n",
       "      <td></td>\n",
       "      <td>&lt;javascript&gt;&lt;jquery&gt;&lt;html&gt;&lt;css&gt;&lt;twitter-bootst...</td>\n",
       "    </tr>\n",
       "    <tr>\n",
       "      <th>freq</th>\n",
       "      <td>1</td>\n",
       "      <td>19</td>\n",
       "      <td>112</td>\n",
       "    </tr>\n",
       "  </tbody>\n",
       "</table>\n",
       "</div>"
      ],
      "text/plain": [
       "                                          Title    Body   \n",
       "count                                    199992  199992  \\\n",
       "unique                                   199992  199971   \n",
       "top     How to convert Decimal to Double in C#?           \n",
       "freq                                          1      19   \n",
       "\n",
       "                                                     Tags  \n",
       "count                                              199992  \n",
       "unique                                             191456  \n",
       "top     <javascript><jquery><html><css><twitter-bootst...  \n",
       "freq                                                  112  "
      ]
     },
     "execution_count": 311,
     "metadata": {},
     "output_type": "execute_result"
    }
   ],
   "source": [
    "data.describe()"
   ]
  },
  {
   "cell_type": "code",
   "execution_count": 324,
   "id": "0b05f68c",
   "metadata": {},
   "outputs": [
    {
     "data": {
      "text/plain": [
       "0         39\n",
       "1         29\n",
       "2         27\n",
       "3         46\n",
       "4         42\n",
       "          ..\n",
       "199995    36\n",
       "199996    29\n",
       "199997    60\n",
       "199998    30\n",
       "199999    58\n",
       "Name: Title, Length: 199992, dtype: int64"
      ]
     },
     "execution_count": 324,
     "metadata": {},
     "output_type": "execute_result"
    }
   ],
   "source": [
    "tmp1"
   ]
  },
  {
   "cell_type": "code",
   "execution_count": 356,
   "id": "5e5b69fe",
   "metadata": {},
   "outputs": [
    {
     "name": "stderr",
     "output_type": "stream",
     "text": [
      "2023-05-18 23:39:28,028 [19188] WARNING  py.warnings:109: [JupyterRequire] C:\\Users\\aguer\\anaconda3\\lib\\site-packages\\seaborn\\_decorators.py:36: FutureWarning: Pass the following variable as a keyword arg: x. From version 0.12, the only valid positional argument will be `data`, and passing other arguments without an explicit keyword will result in an error or misinterpretation.\n",
      "  warnings.warn(\n",
      "\n"
     ]
    },
    {
     "data": {
      "image/png": "[encoded data removed]",
      "text/plain": [
       "<Figure size 640x480 with 1 Axes>"
      ]
     },
     "metadata": {},
     "output_type": "display_data"
    }
   ],
   "source": [
    "tmp1 = data.Title.str.len()\n",
    "sns.boxplot(tmp1)\n",
    "plt.show()"
   ]
  },
  {
   "cell_type": "code",
   "execution_count": 357,
   "id": "bb9a81ea",
   "metadata": {},
   "outputs": [
    {
     "data": {
      "image/png": "[encoded data removed]",
      "text/plain": [
       "<Figure size 640x480 with 1 Axes>"
      ]
     },
     "metadata": {},
     "output_type": "display_data"
    }
   ],
   "source": [
    "plt.hist(tmp1)\n",
    "plt.show()"
   ]
  },
  {
   "cell_type": "code",
   "execution_count": 358,
   "id": "647f1abb",
   "metadata": {},
   "outputs": [
    {
     "name": "stderr",
     "output_type": "stream",
     "text": [
      "2023-05-18 23:40:17,380 [19188] WARNING  py.warnings:109: [JupyterRequire] C:\\Users\\aguer\\anaconda3\\lib\\site-packages\\seaborn\\_decorators.py:36: FutureWarning: Pass the following variable as a keyword arg: x. From version 0.12, the only valid positional argument will be `data`, and passing other arguments without an explicit keyword will result in an error or misinterpretation.\n",
      "  warnings.warn(\n",
      "\n"
     ]
    },
    {
     "data": {
      "image/png": "[encoded data removed]",
      "text/plain": [
       "<Figure size 640x480 with 1 Axes>"
      ]
     },
     "metadata": {},
     "output_type": "display_data"
    }
   ],
   "source": [
    "tmp2 = data.Body.str.len()\n",
    "sns.boxplot(tmp2)\n",
    "plt.show()"
   ]
  },
  {
   "cell_type": "code",
   "execution_count": 365,
   "id": "08003bae",
   "metadata": {},
   "outputs": [],
   "source": [
    "from sklearn.preprocessing import KBinsDiscretizer"
   ]
  },
  {
   "cell_type": "code",
   "execution_count": 366,
   "id": "3e215885",
   "metadata": {},
   "outputs": [],
   "source": [
    "# Discretizer for Body characters lenght\n",
    "X = pd.DataFrame(data.Body.str.len())\n",
    "\n",
    "# Sklearn discretizer with 200 bins\n",
    "discretizer = KBinsDiscretizer(n_bins=200,\n",
    "                               encode='ordinal',\n",
    "                               strategy='uniform')\n",
    "body_lenght = discretizer.fit_transform(X)\n",
    "body_lenght = discretizer.inverse_transform(body_lenght)\n",
    "body_lenght = pd.Series(body_lenght.reshape(-1))"
   ]
  },
  {
   "cell_type": "code",
   "execution_count": 368,
   "id": "9f672797",
   "metadata": {},
   "outputs": [
    {
     "name": "stderr",
     "output_type": "stream",
     "text": [
      "2023-05-18 23:47:07,032 [19188] WARNING  matplotlib.legend:1217: [JupyterRequire] No artists with labels found to put in legend.  Note that artists whose label start with an underscore are ignored when legend() is called with no argument.\n"
     ]
    },
    {
     "data": {
      "image/png": "[encoded data removed]",
      "text/plain": [
       "<Figure size 2000x1200 with 1 Axes>"
      ]
     },
     "metadata": {},
     "output_type": "display_data"
    }
   ],
   "source": [
    "fig = plt.figure(figsize=(20, 12))\n",
    "ax = sns.countplot(x=body_lenght)\n",
    "start, end = ax.get_xlim()\n",
    "ax.xaxis.set_ticks(np.arange(0, end, 25))\n",
    "ax.set_xlabel(\"Lenght of Body (after discretization)\")\n",
    "plt.title(\"Body lenght of Stackoverflow questions\",\n",
    "          fontsize=18, color=\"#641E16\")\n",
    "plt.legend()\n",
    "plt.show()"
   ]
  },
  {
   "cell_type": "markdown",
   "id": "3cd194fd",
   "metadata": {},
   "source": [
    "On remarque que la plupart des corps de questions ne possèdent pas plus de 2500 charactères donc nous allons conserver ces questions pour éviter d'avoir des temps de calcul trop longs."
   ]
  },
  {
   "cell_type": "code",
   "execution_count": 318,
   "id": "e7fb8f2d",
   "metadata": {},
   "outputs": [
    {
     "data": {
      "text/plain": [
       "(199992, 3)"
      ]
     },
     "execution_count": 318,
     "metadata": {},
     "output_type": "execute_result"
    }
   ],
   "source": [
    "data.shape"
   ]
  },
  {
   "cell_type": "code",
   "execution_count": 323,
   "id": "8596fdf1",
   "metadata": {},
   "outputs": [
    {
     "data": {
      "text/html": [
       "<div>\n",
       "<style scoped>\n",
       "    .dataframe tbody tr th:only-of-type {\n",
       "        vertical-align: middle;\n",
       "    }\n",
       "\n",
       "    .dataframe tbody tr th {\n",
       "        vertical-align: top;\n",
       "    }\n",
       "\n",
       "    .dataframe thead th {\n",
       "        text-align: right;\n",
       "    }\n",
       "</style>\n",
       "<table border=\"1\" class=\"dataframe\">\n",
       "  <thead>\n",
       "    <tr style=\"text-align: right;\">\n",
       "      <th></th>\n",
       "      <th>Title</th>\n",
       "      <th>Body</th>\n",
       "      <th>Tags</th>\n",
       "    </tr>\n",
       "  </thead>\n",
       "  <tbody>\n",
       "    <tr>\n",
       "      <th>23</th>\n",
       "      <td>Heap corruption under Win32; how to locate?</td>\n",
       "      <td>I'm working on a multithreaded C++ application...</td>\n",
       "      <td>&lt;c++&gt;&lt;windows&gt;&lt;multithreading&gt;&lt;debugging&gt;&lt;memory&gt;</td>\n",
       "    </tr>\n",
       "    <tr>\n",
       "      <th>93</th>\n",
       "      <td>Can I get Memcached running on a Windows (x64)...</td>\n",
       "      <td>Does anyone know IF, WHEN or HOW I can get Mem...</td>\n",
       "      <td>&lt;c#&gt;&lt;c++&gt;&lt;windows&gt;&lt;64-bit&gt;&lt;memcached&gt;</td>\n",
       "    </tr>\n",
       "    <tr>\n",
       "      <th>276</th>\n",
       "      <td>Large File Download</td>\n",
       "      <td>Internet Explorer has a file download limit of...</td>\n",
       "      <td>&lt;java&gt;&lt;flash&gt;&lt;silverlight&gt;&lt;browser&gt;&lt;large-files&gt;</td>\n",
       "    </tr>\n",
       "    <tr>\n",
       "      <th>329</th>\n",
       "      <td>A python web application framework for tight D...</td>\n",
       "      <td>I'm a firm believer of the heretic thought of ...</td>\n",
       "      <td>&lt;python&gt;&lt;sql&gt;&lt;metadata&gt;&lt;coupling&gt;&lt;data-driven&gt;</td>\n",
       "    </tr>\n",
       "    <tr>\n",
       "      <th>387</th>\n",
       "      <td>High availability and scalable platform for Ja...</td>\n",
       "      <td>I have an application that's a mix of Java and...</td>\n",
       "      <td>&lt;java&gt;&lt;c++&gt;&lt;scalability&gt;&lt;solaris&gt;&lt;high-availab...</td>\n",
       "    </tr>\n",
       "    <tr>\n",
       "      <th>...</th>\n",
       "      <td>...</td>\n",
       "      <td>...</td>\n",
       "      <td>...</td>\n",
       "    </tr>\n",
       "    <tr>\n",
       "      <th>199905</th>\n",
       "      <td>How to separate out parsing from validation in...</td>\n",
       "      <td>Background I have a set of configuration JSON ...</td>\n",
       "      <td>&lt;scala&gt;&lt;validation&gt;&lt;serialization&gt;&lt;version&gt;&lt;sc...</td>\n",
       "    </tr>\n",
       "    <tr>\n",
       "      <th>199913</th>\n",
       "      <td>Why can't Microsoft analyzers find Microsoft.C...</td>\n",
       "      <td>I'm trying to add Microsoft.CodeAnalysis.FXCop...</td>\n",
       "      <td>&lt;c#&gt;&lt;code-analysis&gt;&lt;fxcop&gt;&lt;analyzer&gt;&lt;microsoft...</td>\n",
       "    </tr>\n",
       "    <tr>\n",
       "      <th>199916</th>\n",
       "      <td>CORS issue with Django and React hosted on sam...</td>\n",
       "      <td>I am having a CORS issue with my Django Rest F...</td>\n",
       "      <td>&lt;django&gt;&lt;reactjs&gt;&lt;nginx&gt;&lt;cors&gt;&lt;vagrant&gt;</td>\n",
       "    </tr>\n",
       "    <tr>\n",
       "      <th>199974</th>\n",
       "      <td>EF Core with GraphQL</td>\n",
       "      <td>I'm currently exploring the GraphQL developmen...</td>\n",
       "      <td>&lt;c#&gt;&lt;asp.net-core&gt;&lt;entity-framework-core&gt;&lt;grap...</td>\n",
       "    </tr>\n",
       "    <tr>\n",
       "      <th>199993</th>\n",
       "      <td>libgdx SpriteBatch UnsatisfiedLinkError desktop</td>\n",
       "      <td>I am getting UnsatisfiedLinkError in a LibGdx ...</td>\n",
       "      <td>&lt;gradle&gt;&lt;libgdx&gt;&lt;desktop-application&gt;&lt;unsatisf...</td>\n",
       "    </tr>\n",
       "  </tbody>\n",
       "</table>\n",
       "<p>4206 rows × 3 columns</p>\n",
       "</div>"
      ],
      "text/plain": [
       "                                                    Title   \n",
       "23            Heap corruption under Win32; how to locate?  \\\n",
       "93      Can I get Memcached running on a Windows (x64)...   \n",
       "276                                   Large File Download   \n",
       "329     A python web application framework for tight D...   \n",
       "387     High availability and scalable platform for Ja...   \n",
       "...                                                   ...   \n",
       "199905  How to separate out parsing from validation in...   \n",
       "199913  Why can't Microsoft analyzers find Microsoft.C...   \n",
       "199916  CORS issue with Django and React hosted on sam...   \n",
       "199974                               EF Core with GraphQL   \n",
       "199993    libgdx SpriteBatch UnsatisfiedLinkError desktop   \n",
       "\n",
       "                                                     Body   \n",
       "23      I'm working on a multithreaded C++ application...  \\\n",
       "93      Does anyone know IF, WHEN or HOW I can get Mem...   \n",
       "276     Internet Explorer has a file download limit of...   \n",
       "329     I'm a firm believer of the heretic thought of ...   \n",
       "387     I have an application that's a mix of Java and...   \n",
       "...                                                   ...   \n",
       "199905  Background I have a set of configuration JSON ...   \n",
       "199913  I'm trying to add Microsoft.CodeAnalysis.FXCop...   \n",
       "199916  I am having a CORS issue with my Django Rest F...   \n",
       "199974  I'm currently exploring the GraphQL developmen...   \n",
       "199993  I am getting UnsatisfiedLinkError in a LibGdx ...   \n",
       "\n",
       "                                                     Tags  \n",
       "23      <c++><windows><multithreading><debugging><memory>  \n",
       "93                  <c#><c++><windows><64-bit><memcached>  \n",
       "276      <java><flash><silverlight><browser><large-files>  \n",
       "329        <python><sql><metadata><coupling><data-driven>  \n",
       "387     <java><c++><scalability><solaris><high-availab...  \n",
       "...                                                   ...  \n",
       "199905  <scala><validation><serialization><version><sc...  \n",
       "199913  <c#><code-analysis><fxcop><analyzer><microsoft...  \n",
       "199916            <django><reactjs><nginx><cors><vagrant>  \n",
       "199974  <c#><asp.net-core><entity-framework-core><grap...  \n",
       "199993  <gradle><libgdx><desktop-application><unsatisf...  \n",
       "\n",
       "[4206 rows x 3 columns]"
      ]
     },
     "execution_count": 323,
     "metadata": {},
     "output_type": "execute_result"
    }
   ],
   "source": [
    "data[data.Body.str.len()>2500]"
   ]
  },
  {
   "cell_type": "code",
   "execution_count": 324,
   "id": "a9df1518",
   "metadata": {},
   "outputs": [],
   "source": [
    "data = data[data.Body.str.len()<2500]"
   ]
  },
  {
   "cell_type": "code",
   "execution_count": 325,
   "id": "2e5c3f61",
   "metadata": {},
   "outputs": [
    {
     "data": {
      "text/plain": [
       "(195784, 3)"
      ]
     },
     "execution_count": 325,
     "metadata": {},
     "output_type": "execute_result"
    }
   ],
   "source": [
    "data.shape"
   ]
  },
  {
   "cell_type": "code",
   "execution_count": 176,
   "id": "3414b90a",
   "metadata": {},
   "outputs": [],
   "source": [
    "# On ajoute nos variables de taille à notre dataset \n",
    "data['_len_Title'] = data.Title.str.len()\n",
    "data['_len_Body'] = data.Body.str.len()"
   ]
  },
  {
   "cell_type": "code",
   "execution_count": 294,
   "id": "d37cd792",
   "metadata": {},
   "outputs": [
    {
     "data": {
      "text/html": [
       "<div>\n",
       "<style scoped>\n",
       "    .dataframe tbody tr th:only-of-type {\n",
       "        vertical-align: middle;\n",
       "    }\n",
       "\n",
       "    .dataframe tbody tr th {\n",
       "        vertical-align: top;\n",
       "    }\n",
       "\n",
       "    .dataframe thead th {\n",
       "        text-align: right;\n",
       "    }\n",
       "</style>\n",
       "<table border=\"1\" class=\"dataframe\">\n",
       "  <thead>\n",
       "    <tr style=\"text-align: right;\">\n",
       "      <th></th>\n",
       "      <th>Title</th>\n",
       "      <th>Body</th>\n",
       "      <th>tags</th>\n",
       "    </tr>\n",
       "  </thead>\n",
       "  <tbody>\n",
       "    <tr>\n",
       "      <th>0</th>\n",
       "      <td>How to convert Decimal to Double in C#?</td>\n",
       "      <td>I want to assign the decimal variable \"trans\" ...</td>\n",
       "      <td>c#,floating-point,type-conversion,double,decimal</td>\n",
       "    </tr>\n",
       "    <tr>\n",
       "      <th>1</th>\n",
       "      <td>Calculate relative time in C#</td>\n",
       "      <td>Given a specific  value, how do I display rela...</td>\n",
       "      <td>c#,datetime,time,datediff,relative-time-span</td>\n",
       "    </tr>\n",
       "    <tr>\n",
       "      <th>2</th>\n",
       "      <td>Determine a user's timezone</td>\n",
       "      <td>Is there a standard way for a web server to be...</td>\n",
       "      <td>html,browser,timezone,user-agent,timezone-offset</td>\n",
       "    </tr>\n",
       "    <tr>\n",
       "      <th>3</th>\n",
       "      <td>What is the fastest way to get the value of π?</td>\n",
       "      <td>I'm looking for the fastest way to obtain the ...</td>\n",
       "      <td>performance,algorithm,language-agnostic,unix,pi</td>\n",
       "    </tr>\n",
       "    <tr>\n",
       "      <th>4</th>\n",
       "      <td>How to use the C socket API in C++ on z/OS</td>\n",
       "      <td>I'm having issues getting the C sockets API to...</td>\n",
       "      <td>c++,c,sockets,mainframe,zos</td>\n",
       "    </tr>\n",
       "    <tr>\n",
       "      <th>...</th>\n",
       "      <td>...</td>\n",
       "      <td>...</td>\n",
       "      <td>...</td>\n",
       "    </tr>\n",
       "    <tr>\n",
       "      <th>199995</th>\n",
       "      <td>Ionic 4 horizontal scroll with ngFor</td>\n",
       "      <td>I'm at a loss.  I can get horizontal scroll to...</td>\n",
       "      <td>css,angular,ionic-framework,ngfor,ionic4</td>\n",
       "    </tr>\n",
       "    <tr>\n",
       "      <th>199996</th>\n",
       "      <td>Type hinting with descriptors</td>\n",
       "      <td>In this pull request it looks like type hintin...</td>\n",
       "      <td>python,python-3.x,type-hinting,mypy,python-des...</td>\n",
       "    </tr>\n",
       "    <tr>\n",
       "      <th>199997</th>\n",
       "      <td>How to add multiple lines between code blocks ...</td>\n",
       "      <td>I started using Prettier, but discovered that ...</td>\n",
       "      <td>javascript,node.js,typescript,visual-studio-co...</td>\n",
       "    </tr>\n",
       "    <tr>\n",
       "      <th>199998</th>\n",
       "      <td>React-Select Scrollbar Styling</td>\n",
       "      <td>I am trying to change the style of scrollbar f...</td>\n",
       "      <td>reactjs,frontend,scrollbar,styling,react-select</td>\n",
       "    </tr>\n",
       "    <tr>\n",
       "      <th>199999</th>\n",
       "      <td>Convert sklearn.svm SVC classifier to Keras im...</td>\n",
       "      <td>I'm trying to convert some old code from using...</td>\n",
       "      <td>machine-learning,keras,scikit-learn,neural-net...</td>\n",
       "    </tr>\n",
       "  </tbody>\n",
       "</table>\n",
       "<p>184639 rows × 3 columns</p>\n",
       "</div>"
      ],
      "text/plain": [
       "                                                    Title   \n",
       "0                 How to convert Decimal to Double in C#?  \\\n",
       "1                           Calculate relative time in C#   \n",
       "2                             Determine a user's timezone   \n",
       "3          What is the fastest way to get the value of π?   \n",
       "4              How to use the C socket API in C++ on z/OS   \n",
       "...                                                   ...   \n",
       "199995               Ionic 4 horizontal scroll with ngFor   \n",
       "199996                      Type hinting with descriptors   \n",
       "199997  How to add multiple lines between code blocks ...   \n",
       "199998                     React-Select Scrollbar Styling   \n",
       "199999  Convert sklearn.svm SVC classifier to Keras im...   \n",
       "\n",
       "                                                     Body   \n",
       "0       I want to assign the decimal variable \"trans\" ...  \\\n",
       "1       Given a specific  value, how do I display rela...   \n",
       "2       Is there a standard way for a web server to be...   \n",
       "3       I'm looking for the fastest way to obtain the ...   \n",
       "4       I'm having issues getting the C sockets API to...   \n",
       "...                                                   ...   \n",
       "199995  I'm at a loss.  I can get horizontal scroll to...   \n",
       "199996  In this pull request it looks like type hintin...   \n",
       "199997  I started using Prettier, but discovered that ...   \n",
       "199998  I am trying to change the style of scrollbar f...   \n",
       "199999  I'm trying to convert some old code from using...   \n",
       "\n",
       "                                                     tags  \n",
       "0        c#,floating-point,type-conversion,double,decimal  \n",
       "1            c#,datetime,time,datediff,relative-time-span  \n",
       "2        html,browser,timezone,user-agent,timezone-offset  \n",
       "3         performance,algorithm,language-agnostic,unix,pi  \n",
       "4                             c++,c,sockets,mainframe,zos  \n",
       "...                                                   ...  \n",
       "199995           css,angular,ionic-framework,ngfor,ionic4  \n",
       "199996  python,python-3.x,type-hinting,mypy,python-des...  \n",
       "199997  javascript,node.js,typescript,visual-studio-co...  \n",
       "199998    reactjs,frontend,scrollbar,styling,react-select  \n",
       "199999  machine-learning,keras,scikit-learn,neural-net...  \n",
       "\n",
       "[184639 rows x 3 columns]"
      ]
     },
     "execution_count": 294,
     "metadata": {},
     "output_type": "execute_result"
    }
   ],
   "source": [
    "data"
   ]
  },
  {
   "cell_type": "markdown",
   "id": "7ec39a3c",
   "metadata": {},
   "source": [
    "#### Analyse multivariée"
   ]
  },
  {
   "cell_type": "code",
   "execution_count": 180,
   "id": "89c291cc",
   "metadata": {},
   "outputs": [
    {
     "data": {
      "text/html": [
       "<div>\n",
       "<style scoped>\n",
       "    .dataframe tbody tr th:only-of-type {\n",
       "        vertical-align: middle;\n",
       "    }\n",
       "\n",
       "    .dataframe tbody tr th {\n",
       "        vertical-align: top;\n",
       "    }\n",
       "\n",
       "    .dataframe thead th {\n",
       "        text-align: right;\n",
       "    }\n",
       "</style>\n",
       "<table border=\"1\" class=\"dataframe\">\n",
       "  <thead>\n",
       "    <tr style=\"text-align: right;\">\n",
       "      <th></th>\n",
       "      <th>_len_Title</th>\n",
       "      <th>_len_Body</th>\n",
       "    </tr>\n",
       "  </thead>\n",
       "  <tbody>\n",
       "    <tr>\n",
       "      <th>_len_Title</th>\n",
       "      <td>1.000000</td>\n",
       "      <td>0.132463</td>\n",
       "    </tr>\n",
       "    <tr>\n",
       "      <th>_len_Body</th>\n",
       "      <td>0.132463</td>\n",
       "      <td>1.000000</td>\n",
       "    </tr>\n",
       "  </tbody>\n",
       "</table>\n",
       "</div>"
      ],
      "text/plain": [
       "            _len_Title  _len_Body\n",
       "_len_Title    1.000000   0.132463\n",
       "_len_Body     0.132463   1.000000"
      ]
     },
     "execution_count": 180,
     "metadata": {},
     "output_type": "execute_result"
    }
   ],
   "source": [
    "corr = data[['_len_Title','_len_Body']].corr()\n",
    "corr"
   ]
  },
  {
   "cell_type": "markdown",
   "id": "8e142102",
   "metadata": {},
   "source": [
    "On remarque que la taille du titre n'est pas vraiment liée à la taille du corps de la question"
   ]
  },
  {
   "cell_type": "code",
   "execution_count": 163,
   "id": "d29ae3d4",
   "metadata": {},
   "outputs": [
    {
     "data": {
      "text/html": [
       "<div>\n",
       "<style scoped>\n",
       "    .dataframe tbody tr th:only-of-type {\n",
       "        vertical-align: middle;\n",
       "    }\n",
       "\n",
       "    .dataframe tbody tr th {\n",
       "        vertical-align: top;\n",
       "    }\n",
       "\n",
       "    .dataframe thead th {\n",
       "        text-align: right;\n",
       "    }\n",
       "</style>\n",
       "<table border=\"1\" class=\"dataframe\">\n",
       "  <thead>\n",
       "    <tr style=\"text-align: right;\">\n",
       "      <th></th>\n",
       "      <th>Title</th>\n",
       "      <th>Body</th>\n",
       "      <th>_len_Title</th>\n",
       "      <th>_len_Body</th>\n",
       "    </tr>\n",
       "  </thead>\n",
       "  <tbody>\n",
       "    <tr>\n",
       "      <th>4521</th>\n",
       "      <td>TFS vs SVN</td>\n",
       "      <td>I am about to start a project (.NET) and need ...</td>\n",
       "      <td>10</td>\n",
       "      <td>526</td>\n",
       "    </tr>\n",
       "    <tr>\n",
       "      <th>7337</th>\n",
       "      <td>AJAXify site</td>\n",
       "      <td>I have legitimate reasons to do what I am tryi...</td>\n",
       "      <td>12</td>\n",
       "      <td>753</td>\n",
       "    </tr>\n",
       "    <tr>\n",
       "      <th>426</th>\n",
       "      <td>IMAP forwarder</td>\n",
       "      <td>I'm wondering what is the quickest and most re...</td>\n",
       "      <td>14</td>\n",
       "      <td>1249</td>\n",
       "    </tr>\n",
       "    <tr>\n",
       "      <th>782</th>\n",
       "      <td>Unrooted Tests</td>\n",
       "      <td>When running all my tests in Eclipse (Eclipse ...</td>\n",
       "      <td>14</td>\n",
       "      <td>925</td>\n",
       "    </tr>\n",
       "    <tr>\n",
       "      <th>49974</th>\n",
       "      <td>Screen recorder</td>\n",
       "      <td>I'm interested in a library(for windows) writt...</td>\n",
       "      <td>15</td>\n",
       "      <td>678</td>\n",
       "    </tr>\n",
       "    <tr>\n",
       "      <th>72213</th>\n",
       "      <td>mov %eax,(%esp)</td>\n",
       "      <td>What is the difference between the following s...</td>\n",
       "      <td>15</td>\n",
       "      <td>217</td>\n",
       "    </tr>\n",
       "    <tr>\n",
       "      <th>26072</th>\n",
       "      <td>Get domain name</td>\n",
       "      <td>My computer is in a Domain (Active Directory) ...</td>\n",
       "      <td>15</td>\n",
       "      <td>953</td>\n",
       "    </tr>\n",
       "    <tr>\n",
       "      <th>46295</th>\n",
       "      <td>X.509 libraries</td>\n",
       "      <td>I'm looking for a library/module/package with ...</td>\n",
       "      <td>15</td>\n",
       "      <td>1008</td>\n",
       "    </tr>\n",
       "    <tr>\n",
       "      <th>149395</th>\n",
       "      <td>IF syntax error</td>\n",
       "      <td>I'm getting a syntax error while following the...</td>\n",
       "      <td>15</td>\n",
       "      <td>568</td>\n",
       "    </tr>\n",
       "    <tr>\n",
       "      <th>41438</th>\n",
       "      <td>3D in WinForms?</td>\n",
       "      <td>How can i use 3D view inside WinForms? Should ...</td>\n",
       "      <td>15</td>\n",
       "      <td>306</td>\n",
       "    </tr>\n",
       "  </tbody>\n",
       "</table>\n",
       "</div>"
      ],
      "text/plain": [
       "                  Title                                               Body  \\\n",
       "4521         TFS vs SVN  I am about to start a project (.NET) and need ...   \n",
       "7337       AJAXify site  I have legitimate reasons to do what I am tryi...   \n",
       "426      IMAP forwarder  I'm wondering what is the quickest and most re...   \n",
       "782      Unrooted Tests  When running all my tests in Eclipse (Eclipse ...   \n",
       "49974   Screen recorder  I'm interested in a library(for windows) writt...   \n",
       "72213   mov %eax,(%esp)  What is the difference between the following s...   \n",
       "26072   Get domain name  My computer is in a Domain (Active Directory) ...   \n",
       "46295   X.509 libraries  I'm looking for a library/module/package with ...   \n",
       "149395  IF syntax error  I'm getting a syntax error while following the...   \n",
       "41438   3D in WinForms?  How can i use 3D view inside WinForms? Should ...   \n",
       "\n",
       "        _len_Title  _len_Body  \n",
       "4521            10        526  \n",
       "7337            12        753  \n",
       "426             14       1249  \n",
       "782             14        925  \n",
       "49974           15        678  \n",
       "72213           15        217  \n",
       "26072           15        953  \n",
       "46295           15       1008  \n",
       "149395          15        568  \n",
       "41438           15        306  "
      ]
     },
     "execution_count": 163,
     "metadata": {},
     "output_type": "execute_result"
    }
   ],
   "source": [
    "data.sort_values(\"_len_Title\").head(10)"
   ]
  },
  {
   "cell_type": "code",
   "execution_count": 165,
   "id": "91e7b2ed",
   "metadata": {},
   "outputs": [
    {
     "data": {
      "text/html": [
       "<div>\n",
       "<style scoped>\n",
       "    .dataframe tbody tr th:only-of-type {\n",
       "        vertical-align: middle;\n",
       "    }\n",
       "\n",
       "    .dataframe tbody tr th {\n",
       "        vertical-align: top;\n",
       "    }\n",
       "\n",
       "    .dataframe thead th {\n",
       "        text-align: right;\n",
       "    }\n",
       "</style>\n",
       "<table border=\"1\" class=\"dataframe\">\n",
       "  <thead>\n",
       "    <tr style=\"text-align: right;\">\n",
       "      <th></th>\n",
       "      <th>Title</th>\n",
       "      <th>Body</th>\n",
       "      <th>_len_Title</th>\n",
       "      <th>_len_Body</th>\n",
       "    </tr>\n",
       "  </thead>\n",
       "  <tbody>\n",
       "    <tr>\n",
       "      <th>188225</th>\n",
       "      <td>WebSocket connection to 'ws://localhost:4000/s...</td>\n",
       "      <td>I'M using Browser Sync with webpack-dev-server...</td>\n",
       "      <td>150</td>\n",
       "      <td>3031</td>\n",
       "    </tr>\n",
       "    <tr>\n",
       "      <th>170013</th>\n",
       "      <td>Error message : [MC] Reading from public effec...</td>\n",
       "      <td>When I use the following code, I have error me...</td>\n",
       "      <td>150</td>\n",
       "      <td>1810</td>\n",
       "    </tr>\n",
       "    <tr>\n",
       "      <th>23209</th>\n",
       "      <td>Using Encrypt=yes in a Sql Server connection s...</td>\n",
       "      <td>I'm using Encrypt=yes in a SQL Server connecti...</td>\n",
       "      <td>150</td>\n",
       "      <td>592</td>\n",
       "    </tr>\n",
       "    <tr>\n",
       "      <th>102398</th>\n",
       "      <td>Why does my STS client get this error? \"The va...</td>\n",
       "      <td>I frequently encounter this error and my effor...</td>\n",
       "      <td>150</td>\n",
       "      <td>1826</td>\n",
       "    </tr>\n",
       "    <tr>\n",
       "      <th>99260</th>\n",
       "      <td>How to get service reference to generate corre...</td>\n",
       "      <td>I have a problem that given 3rd party WSDL I a...</td>\n",
       "      <td>150</td>\n",
       "      <td>3095</td>\n",
       "    </tr>\n",
       "    <tr>\n",
       "      <th>198556</th>\n",
       "      <td>Black background behind a figure's labels and ...</td>\n",
       "      <td>I have a strange problem where if I save a fig...</td>\n",
       "      <td>150</td>\n",
       "      <td>518</td>\n",
       "    </tr>\n",
       "    <tr>\n",
       "      <th>127845</th>\n",
       "      <td>How to redirect the user to a mobile app or a ...</td>\n",
       "      <td>I've a website which is already developed usin...</td>\n",
       "      <td>150</td>\n",
       "      <td>2909</td>\n",
       "    </tr>\n",
       "    <tr>\n",
       "      <th>179007</th>\n",
       "      <td>Using Jackson/Java to ensure that and all seri...</td>\n",
       "      <td>I have the following Fortify security issue:  ...</td>\n",
       "      <td>150</td>\n",
       "      <td>1060</td>\n",
       "    </tr>\n",
       "    <tr>\n",
       "      <th>111263</th>\n",
       "      <td>java.lang.ClassCastException: com.sun.net.ssl....</td>\n",
       "      <td>I tried this code in my Netbeans 7.4 and it wo...</td>\n",
       "      <td>150</td>\n",
       "      <td>5038</td>\n",
       "    </tr>\n",
       "    <tr>\n",
       "      <th>140475</th>\n",
       "      <td>\"A value of type FixedToolBar cannot be added ...</td>\n",
       "      <td>We have a custom control called FixedToolBar d...</td>\n",
       "      <td>150</td>\n",
       "      <td>917</td>\n",
       "    </tr>\n",
       "  </tbody>\n",
       "</table>\n",
       "</div>"
      ],
      "text/plain": [
       "                                                    Title  \\\n",
       "188225  WebSocket connection to 'ws://localhost:4000/s...   \n",
       "170013  Error message : [MC] Reading from public effec...   \n",
       "23209   Using Encrypt=yes in a Sql Server connection s...   \n",
       "102398  Why does my STS client get this error? \"The va...   \n",
       "99260   How to get service reference to generate corre...   \n",
       "198556  Black background behind a figure's labels and ...   \n",
       "127845  How to redirect the user to a mobile app or a ...   \n",
       "179007  Using Jackson/Java to ensure that and all seri...   \n",
       "111263  java.lang.ClassCastException: com.sun.net.ssl....   \n",
       "140475  \"A value of type FixedToolBar cannot be added ...   \n",
       "\n",
       "                                                     Body  _len_Title  \\\n",
       "188225  I'M using Browser Sync with webpack-dev-server...         150   \n",
       "170013  When I use the following code, I have error me...         150   \n",
       "23209   I'm using Encrypt=yes in a SQL Server connecti...         150   \n",
       "102398  I frequently encounter this error and my effor...         150   \n",
       "99260   I have a problem that given 3rd party WSDL I a...         150   \n",
       "198556  I have a strange problem where if I save a fig...         150   \n",
       "127845  I've a website which is already developed usin...         150   \n",
       "179007  I have the following Fortify security issue:  ...         150   \n",
       "111263  I tried this code in my Netbeans 7.4 and it wo...         150   \n",
       "140475  We have a custom control called FixedToolBar d...         150   \n",
       "\n",
       "        _len_Body  \n",
       "188225       3031  \n",
       "170013       1810  \n",
       "23209         592  \n",
       "102398       1826  \n",
       "99260        3095  \n",
       "198556        518  \n",
       "127845       2909  \n",
       "179007       1060  \n",
       "111263       5038  \n",
       "140475        917  "
      ]
     },
     "execution_count": 165,
     "metadata": {},
     "output_type": "execute_result"
    }
   ],
   "source": [
    "data.sort_values(\"_len_Title\").tail(10)"
   ]
  },
  {
   "cell_type": "code",
   "execution_count": 166,
   "id": "5d4cd7b5",
   "metadata": {},
   "outputs": [
    {
     "data": {
      "text/html": [
       "<div>\n",
       "<style scoped>\n",
       "    .dataframe tbody tr th:only-of-type {\n",
       "        vertical-align: middle;\n",
       "    }\n",
       "\n",
       "    .dataframe tbody tr th {\n",
       "        vertical-align: top;\n",
       "    }\n",
       "\n",
       "    .dataframe thead th {\n",
       "        text-align: right;\n",
       "    }\n",
       "</style>\n",
       "<table border=\"1\" class=\"dataframe\">\n",
       "  <thead>\n",
       "    <tr style=\"text-align: right;\">\n",
       "      <th></th>\n",
       "      <th>Title</th>\n",
       "      <th>Body</th>\n",
       "      <th>_len_Title</th>\n",
       "      <th>_len_Body</th>\n",
       "    </tr>\n",
       "  </thead>\n",
       "  <tbody>\n",
       "    <tr>\n",
       "      <th>3478</th>\n",
       "      <td>Are there scala-like mixins for C++?</td>\n",
       "      <td>Scala Mixins</td>\n",
       "      <td>36</td>\n",
       "      <td>13</td>\n",
       "    </tr>\n",
       "    <tr>\n",
       "      <th>771</th>\n",
       "      <td>What is semantic markup, and why would I want ...</td>\n",
       "      <td>Like it says.</td>\n",
       "      <td>58</td>\n",
       "      <td>14</td>\n",
       "    </tr>\n",
       "    <tr>\n",
       "      <th>7181</th>\n",
       "      <td>Need to cancel click/mouseup events when doubl...</td>\n",
       "      <td>How is this done?</td>\n",
       "      <td>68</td>\n",
       "      <td>18</td>\n",
       "    </tr>\n",
       "    <tr>\n",
       "      <th>8653</th>\n",
       "      <td>Why the web.config isn't copied when I publish...</td>\n",
       "      <td>How to correct it?</td>\n",
       "      <td>130</td>\n",
       "      <td>19</td>\n",
       "    </tr>\n",
       "    <tr>\n",
       "      <th>20513</th>\n",
       "      <td>Is there a .NET data-type smaller than a byte?</td>\n",
       "      <td>How about a Nibble etc.</td>\n",
       "      <td>46</td>\n",
       "      <td>24</td>\n",
       "    </tr>\n",
       "    <tr>\n",
       "      <th>26470</th>\n",
       "      <td>Does myBatis implement JPA?</td>\n",
       "      <td>An easy question I suppose</td>\n",
       "      <td>27</td>\n",
       "      <td>27</td>\n",
       "    </tr>\n",
       "    <tr>\n",
       "      <th>1829</th>\n",
       "      <td>What is Type-safe?</td>\n",
       "      <td>What does \"type-safe\" mean?</td>\n",
       "      <td>18</td>\n",
       "      <td>28</td>\n",
       "    </tr>\n",
       "    <tr>\n",
       "      <th>5764</th>\n",
       "      <td>Is there any performance difference between fo...</td>\n",
       "      <td>Or is it all about semantics?</td>\n",
       "      <td>62</td>\n",
       "      <td>30</td>\n",
       "    </tr>\n",
       "    <tr>\n",
       "      <th>11631</th>\n",
       "      <td>How to call a C# dll in ruby?</td>\n",
       "      <td>How to call a C# dll in ruby?</td>\n",
       "      <td>29</td>\n",
       "      <td>30</td>\n",
       "    </tr>\n",
       "    <tr>\n",
       "      <th>9247</th>\n",
       "      <td>What is the difference between a definition an...</td>\n",
       "      <td>The meaning of both eludes me.</td>\n",
       "      <td>62</td>\n",
       "      <td>31</td>\n",
       "    </tr>\n",
       "  </tbody>\n",
       "</table>\n",
       "</div>"
      ],
      "text/plain": [
       "                                                   Title  \\\n",
       "3478                Are there scala-like mixins for C++?   \n",
       "771    What is semantic markup, and why would I want ...   \n",
       "7181   Need to cancel click/mouseup events when doubl...   \n",
       "8653   Why the web.config isn't copied when I publish...   \n",
       "20513     Is there a .NET data-type smaller than a byte?   \n",
       "26470                        Does myBatis implement JPA?   \n",
       "1829                                  What is Type-safe?   \n",
       "5764   Is there any performance difference between fo...   \n",
       "11631                      How to call a C# dll in ruby?   \n",
       "9247   What is the difference between a definition an...   \n",
       "\n",
       "                                  Body  _len_Title  _len_Body  \n",
       "3478                     Scala Mixins           36         13  \n",
       "771                     Like it says.           58         14  \n",
       "7181                How is this done?           68         18  \n",
       "8653               How to correct it?          130         19  \n",
       "20513         How about a Nibble etc.           46         24  \n",
       "26470      An easy question I suppose           27         27  \n",
       "1829      What does \"type-safe\" mean?           18         28  \n",
       "5764    Or is it all about semantics?           62         30  \n",
       "11631   How to call a C# dll in ruby?           29         30  \n",
       "9247   The meaning of both eludes me.           62         31  "
      ]
     },
     "execution_count": 166,
     "metadata": {},
     "output_type": "execute_result"
    }
   ],
   "source": [
    "data.sort_values(\"_len_Body\").head(10)"
   ]
  },
  {
   "cell_type": "code",
   "execution_count": 183,
   "id": "1ee9f41e",
   "metadata": {},
   "outputs": [
    {
     "data": {
      "text/html": [
       "<div>\n",
       "<style scoped>\n",
       "    .dataframe tbody tr th:only-of-type {\n",
       "        vertical-align: middle;\n",
       "    }\n",
       "\n",
       "    .dataframe tbody tr th {\n",
       "        vertical-align: top;\n",
       "    }\n",
       "\n",
       "    .dataframe thead th {\n",
       "        text-align: right;\n",
       "    }\n",
       "</style>\n",
       "<table border=\"1\" class=\"dataframe\">\n",
       "  <thead>\n",
       "    <tr style=\"text-align: right;\">\n",
       "      <th></th>\n",
       "      <th>Title</th>\n",
       "      <th>Body</th>\n",
       "      <th>Tags</th>\n",
       "      <th>_len_Title</th>\n",
       "      <th>_len_Body</th>\n",
       "    </tr>\n",
       "  </thead>\n",
       "  <tbody>\n",
       "    <tr>\n",
       "      <th>39431</th>\n",
       "      <td>PNG Transparency Resize with SimpleImage.php C...</td>\n",
       "      <td>&lt;p&gt;I'm using a modified version of the SimpleI...</td>\n",
       "      <td>&lt;php&gt;&lt;class&gt;&lt;resize&gt;&lt;png&gt;&lt;transparency&gt;</td>\n",
       "      <td>50</td>\n",
       "      <td>3999</td>\n",
       "    </tr>\n",
       "    <tr>\n",
       "      <th>138359</th>\n",
       "      <td>mockito test gives no such method error when r...</td>\n",
       "      <td>&lt;p&gt;I've been facing a peculiar problem. Basica...</td>\n",
       "      <td>&lt;java&gt;&lt;maven&gt;&lt;junit&gt;&lt;mockito&gt;&lt;powermock&gt;</td>\n",
       "      <td>131</td>\n",
       "      <td>3999</td>\n",
       "    </tr>\n",
       "    <tr>\n",
       "      <th>125355</th>\n",
       "      <td>JPA shared cache / second level cache in WildFly</td>\n",
       "      <td>&lt;p&gt;I'm using WildFly 8.1 so JPA 2.1 and Hibern...</td>\n",
       "      <td>&lt;hibernate&gt;&lt;jpa&gt;&lt;wildfly&gt;&lt;second-level-cache&gt;&lt;...</td>\n",
       "      <td>48</td>\n",
       "      <td>3999</td>\n",
       "    </tr>\n",
       "    <tr>\n",
       "      <th>188856</th>\n",
       "      <td>proper implementation of \"windows\" authenticat...</td>\n",
       "      <td>&lt;p&gt;I've created a Web Api 2 app which will onl...</td>\n",
       "      <td>&lt;c#&gt;&lt;.net&gt;&lt;asp.net-web-api&gt;&lt;asp.net-web-api2&gt;&lt;...</td>\n",
       "      <td>61</td>\n",
       "      <td>3999</td>\n",
       "    </tr>\n",
       "    <tr>\n",
       "      <th>124104</th>\n",
       "      <td>Python Pip install Error: Unable to find vcvar...</td>\n",
       "      <td>&lt;p&gt;I tried to install Scrapy for Python 2.7.8 ...</td>\n",
       "      <td>&lt;python&gt;&lt;windows&gt;&lt;visual-studio&gt;&lt;python-2.7&gt;&lt;pip&gt;</td>\n",
       "      <td>75</td>\n",
       "      <td>3999</td>\n",
       "    </tr>\n",
       "    <tr>\n",
       "      <th>192482</th>\n",
       "      <td>How to update several attributes of an item in...</td>\n",
       "      <td>&lt;p&gt;I'm trying to update several attributes of ...</td>\n",
       "      <td>&lt;python&gt;&lt;database&gt;&lt;python-3.x&gt;&lt;amazon-dynamodb...</td>\n",
       "      <td>67</td>\n",
       "      <td>3999</td>\n",
       "    </tr>\n",
       "    <tr>\n",
       "      <th>195872</th>\n",
       "      <td>RecyclerView doesn't Update until Soft Keyboar...</td>\n",
       "      <td>&lt;p&gt;I have a &lt;strong&gt;Posts Feed&lt;/strong&gt; (Somet...</td>\n",
       "      <td>&lt;android&gt;&lt;android-layout&gt;&lt;android-recyclerview...</td>\n",
       "      <td>61</td>\n",
       "      <td>3999</td>\n",
       "    </tr>\n",
       "    <tr>\n",
       "      <th>195488</th>\n",
       "      <td>R and RStudio not detecting installed PostgreS...</td>\n",
       "      <td>&lt;p&gt;I am trying to connect to a PostgreSQL data...</td>\n",
       "      <td>&lt;r&gt;&lt;odbc&gt;&lt;rstudio&gt;&lt;rodbc&gt;&lt;rpostgresql&gt;</td>\n",
       "      <td>76</td>\n",
       "      <td>3999</td>\n",
       "    </tr>\n",
       "    <tr>\n",
       "      <th>132003</th>\n",
       "      <td>JAXB: Unmarshal heterogeneous array</td>\n",
       "      <td>&lt;p&gt;I'm trying to unmarshal using MOXy a json w...</td>\n",
       "      <td>&lt;java&gt;&lt;json&gt;&lt;jaxb&gt;&lt;unmarshalling&gt;&lt;moxy&gt;</td>\n",
       "      <td>35</td>\n",
       "      <td>3999</td>\n",
       "    </tr>\n",
       "    <tr>\n",
       "      <th>55834</th>\n",
       "      <td>CreateRemoteThread returning ERROR_ACCESS_DENI...</td>\n",
       "      <td>&lt;p&gt;I'm trying to write a program that uses &lt;co...</td>\n",
       "      <td>&lt;winapi&gt;&lt;dll&gt;&lt;windows-7&gt;&lt;code-injection&gt;&lt;creat...</td>\n",
       "      <td>74</td>\n",
       "      <td>3999</td>\n",
       "    </tr>\n",
       "  </tbody>\n",
       "</table>\n",
       "</div>"
      ],
      "text/plain": [
       "                                                    Title   \n",
       "39431   PNG Transparency Resize with SimpleImage.php C...  \\\n",
       "138359  mockito test gives no such method error when r...   \n",
       "125355   JPA shared cache / second level cache in WildFly   \n",
       "188856  proper implementation of \"windows\" authenticat...   \n",
       "124104  Python Pip install Error: Unable to find vcvar...   \n",
       "192482  How to update several attributes of an item in...   \n",
       "195872  RecyclerView doesn't Update until Soft Keyboar...   \n",
       "195488  R and RStudio not detecting installed PostgreS...   \n",
       "132003                JAXB: Unmarshal heterogeneous array   \n",
       "55834   CreateRemoteThread returning ERROR_ACCESS_DENI...   \n",
       "\n",
       "                                                     Body   \n",
       "39431   <p>I'm using a modified version of the SimpleI...  \\\n",
       "138359  <p>I've been facing a peculiar problem. Basica...   \n",
       "125355  <p>I'm using WildFly 8.1 so JPA 2.1 and Hibern...   \n",
       "188856  <p>I've created a Web Api 2 app which will onl...   \n",
       "124104  <p>I tried to install Scrapy for Python 2.7.8 ...   \n",
       "192482  <p>I'm trying to update several attributes of ...   \n",
       "195872  <p>I have a <strong>Posts Feed</strong> (Somet...   \n",
       "195488  <p>I am trying to connect to a PostgreSQL data...   \n",
       "132003  <p>I'm trying to unmarshal using MOXy a json w...   \n",
       "55834   <p>I'm trying to write a program that uses <co...   \n",
       "\n",
       "                                                     Tags  _len_Title   \n",
       "39431             <php><class><resize><png><transparency>          50  \\\n",
       "138359           <java><maven><junit><mockito><powermock>         131   \n",
       "125355  <hibernate><jpa><wildfly><second-level-cache><...          48   \n",
       "188856  <c#><.net><asp.net-web-api><asp.net-web-api2><...          61   \n",
       "124104  <python><windows><visual-studio><python-2.7><pip>          75   \n",
       "192482  <python><database><python-3.x><amazon-dynamodb...          67   \n",
       "195872  <android><android-layout><android-recyclerview...          61   \n",
       "195488             <r><odbc><rstudio><rodbc><rpostgresql>          76   \n",
       "132003            <java><json><jaxb><unmarshalling><moxy>          35   \n",
       "55834   <winapi><dll><windows-7><code-injection><creat...          74   \n",
       "\n",
       "        _len_Body  \n",
       "39431        3999  \n",
       "138359       3999  \n",
       "125355       3999  \n",
       "188856       3999  \n",
       "124104       3999  \n",
       "192482       3999  \n",
       "195872       3999  \n",
       "195488       3999  \n",
       "132003       3999  \n",
       "55834        3999  "
      ]
     },
     "execution_count": 183,
     "metadata": {},
     "output_type": "execute_result"
    }
   ],
   "source": [
    "data.sort_values(\"_len_Body\").tail(10)"
   ]
  },
  {
   "cell_type": "code",
   "execution_count": 184,
   "id": "28cc7e99",
   "metadata": {},
   "outputs": [
    {
     "data": {
      "text/html": [
       "<div>\n",
       "<style scoped>\n",
       "    .dataframe tbody tr th:only-of-type {\n",
       "        vertical-align: middle;\n",
       "    }\n",
       "\n",
       "    .dataframe tbody tr th {\n",
       "        vertical-align: top;\n",
       "    }\n",
       "\n",
       "    .dataframe thead th {\n",
       "        text-align: right;\n",
       "    }\n",
       "</style>\n",
       "<table border=\"1\" class=\"dataframe\">\n",
       "  <thead>\n",
       "    <tr style=\"text-align: right;\">\n",
       "      <th></th>\n",
       "      <th>Title</th>\n",
       "      <th>Body</th>\n",
       "      <th>Tags</th>\n",
       "    </tr>\n",
       "  </thead>\n",
       "  <tbody>\n",
       "    <tr>\n",
       "      <th>0</th>\n",
       "      <td>How to convert Decimal to Double in C#?</td>\n",
       "      <td>&lt;p&gt;I want to assign the decimal variable &amp;quot...</td>\n",
       "      <td>&lt;c#&gt;&lt;floating-point&gt;&lt;type-conversion&gt;&lt;double&gt;&lt;...</td>\n",
       "    </tr>\n",
       "    <tr>\n",
       "      <th>1</th>\n",
       "      <td>Calculate relative time in C#</td>\n",
       "      <td>&lt;p&gt;Given a specific &lt;code&gt;DateTime&lt;/code&gt; valu...</td>\n",
       "      <td>&lt;c#&gt;&lt;datetime&gt;&lt;time&gt;&lt;datediff&gt;&lt;relative-time-s...</td>\n",
       "    </tr>\n",
       "    <tr>\n",
       "      <th>2</th>\n",
       "      <td>Determine a user's timezone</td>\n",
       "      <td>&lt;p&gt;Is there a standard way for a web server to...</td>\n",
       "      <td>&lt;html&gt;&lt;browser&gt;&lt;timezone&gt;&lt;user-agent&gt;&lt;timezone...</td>\n",
       "    </tr>\n",
       "    <tr>\n",
       "      <th>3</th>\n",
       "      <td>What is the fastest way to get the value of π?</td>\n",
       "      <td>&lt;p&gt;I'm looking for the fastest way to obtain t...</td>\n",
       "      <td>&lt;performance&gt;&lt;algorithm&gt;&lt;language-agnostic&gt;&lt;un...</td>\n",
       "    </tr>\n",
       "    <tr>\n",
       "      <th>4</th>\n",
       "      <td>How to use the C socket API in C++ on z/OS</td>\n",
       "      <td>&lt;p&gt;I'm having issues getting the C sockets API...</td>\n",
       "      <td>&lt;c++&gt;&lt;c&gt;&lt;sockets&gt;&lt;mainframe&gt;&lt;zos&gt;</td>\n",
       "    </tr>\n",
       "  </tbody>\n",
       "</table>\n",
       "</div>"
      ],
      "text/plain": [
       "                                            Title   \n",
       "0         How to convert Decimal to Double in C#?  \\\n",
       "1                   Calculate relative time in C#   \n",
       "2                     Determine a user's timezone   \n",
       "3  What is the fastest way to get the value of π?   \n",
       "4      How to use the C socket API in C++ on z/OS   \n",
       "\n",
       "                                                Body   \n",
       "0  <p>I want to assign the decimal variable &quot...  \\\n",
       "1  <p>Given a specific <code>DateTime</code> valu...   \n",
       "2  <p>Is there a standard way for a web server to...   \n",
       "3  <p>I'm looking for the fastest way to obtain t...   \n",
       "4  <p>I'm having issues getting the C sockets API...   \n",
       "\n",
       "                                                Tags  \n",
       "0  <c#><floating-point><type-conversion><double><...  \n",
       "1  <c#><datetime><time><datediff><relative-time-s...  \n",
       "2  <html><browser><timezone><user-agent><timezone...  \n",
       "3  <performance><algorithm><language-agnostic><un...  \n",
       "4                  <c++><c><sockets><mainframe><zos>  "
      ]
     },
     "execution_count": 184,
     "metadata": {},
     "output_type": "execute_result"
    }
   ],
   "source": [
    "data.drop(columns = ['_len_Title', '_len_Body'], inplace = True)\n",
    "data.head()"
   ]
  },
  {
   "cell_type": "markdown",
   "id": "5f46d1a8",
   "metadata": {},
   "source": [
    "### Nettoyage des tags"
   ]
  },
  {
   "cell_type": "code",
   "execution_count": 326,
   "id": "baacfa1e",
   "metadata": {},
   "outputs": [],
   "source": [
    "# On récupère ce qu'il y a entre les charactères <>, en conservant la ponctuation\n",
    "def extract_tags(text):\n",
    "    tags = re.findall(r'<(.*?)>', text)\n",
    "    return ','.join(tags)\n",
    "\n",
    "# Appliquer la fonction extract_tags à la colonne 'tags'\n",
    "data['Tags'] = data['Tags'].apply(extract_tags)"
   ]
  },
  {
   "cell_type": "code",
   "execution_count": 327,
   "id": "e290cb5f",
   "metadata": {},
   "outputs": [],
   "source": [
    "# Créer un dataframe pour compter le nombre de tags uniques \n",
    "list_words = []\n",
    "for word in data['Tags'].str.split(','):\n",
    "    list_words.extend(word)\n",
    "df_list_words = pd.DataFrame(list_words, columns=[\"Tag\"])"
   ]
  },
  {
   "cell_type": "code",
   "execution_count": 328,
   "id": "34f705b5",
   "metadata": {},
   "outputs": [
    {
     "name": "stdout",
     "output_type": "stream",
     "text": [
      "On a 28576 tags uniques\n"
     ]
    }
   ],
   "source": [
    "# Nombre de tags uniques\n",
    "unique_tags = df_list_words.nunique()\n",
    "print('On a {} tags uniques'.format(unique_tags.item()))"
   ]
  },
  {
   "cell_type": "code",
   "execution_count": 329,
   "id": "bad495b1",
   "metadata": {},
   "outputs": [
    {
     "data": {
      "image/png": "[encoded data removed]",
      "text/plain": [
       "<Figure size 640x480 with 1 Axes>"
      ]
     },
     "metadata": {},
     "output_type": "display_data"
    }
   ],
   "source": [
    "# Afficher les tags les plus utilisés\n",
    "df_list_words.value_counts()[:20].plot.bar()\n",
    "plt.show()"
   ]
  },
  {
   "cell_type": "code",
   "execution_count": 331,
   "id": "6e413814",
   "metadata": {},
   "outputs": [
    {
     "data": {
      "text/html": [
       "<div>\n",
       "<style scoped>\n",
       "    .dataframe tbody tr th:only-of-type {\n",
       "        vertical-align: middle;\n",
       "    }\n",
       "\n",
       "    .dataframe tbody tr th {\n",
       "        vertical-align: top;\n",
       "    }\n",
       "\n",
       "    .dataframe thead th {\n",
       "        text-align: right;\n",
       "    }\n",
       "</style>\n",
       "<table border=\"1\" class=\"dataframe\">\n",
       "  <thead>\n",
       "    <tr style=\"text-align: right;\">\n",
       "      <th></th>\n",
       "      <th>Title</th>\n",
       "      <th>Body</th>\n",
       "      <th>Tags</th>\n",
       "    </tr>\n",
       "  </thead>\n",
       "  <tbody>\n",
       "    <tr>\n",
       "      <th>0</th>\n",
       "      <td>How to convert Decimal to Double in C#?</td>\n",
       "      <td>I want to assign the decimal variable \"trans\" ...</td>\n",
       "      <td>c#,floating-point,type-conversion,double,decimal</td>\n",
       "    </tr>\n",
       "    <tr>\n",
       "      <th>1</th>\n",
       "      <td>Calculate relative time in C#</td>\n",
       "      <td>Given a specific  value, how do I display rela...</td>\n",
       "      <td>c#,datetime,time,datediff,relative-time-span</td>\n",
       "    </tr>\n",
       "    <tr>\n",
       "      <th>2</th>\n",
       "      <td>Determine a user's timezone</td>\n",
       "      <td>Is there a standard way for a web server to be...</td>\n",
       "      <td>html,browser,timezone,user-agent,timezone-offset</td>\n",
       "    </tr>\n",
       "    <tr>\n",
       "      <th>3</th>\n",
       "      <td>What is the fastest way to get the value of π?</td>\n",
       "      <td>I'm looking for the fastest way to obtain the ...</td>\n",
       "      <td>performance,algorithm,language-agnostic,unix,pi</td>\n",
       "    </tr>\n",
       "    <tr>\n",
       "      <th>4</th>\n",
       "      <td>How to use the C socket API in C++ on z/OS</td>\n",
       "      <td>I'm having issues getting the C sockets API to...</td>\n",
       "      <td>c++,c,sockets,mainframe,zos</td>\n",
       "    </tr>\n",
       "    <tr>\n",
       "      <th>...</th>\n",
       "      <td>...</td>\n",
       "      <td>...</td>\n",
       "      <td>...</td>\n",
       "    </tr>\n",
       "    <tr>\n",
       "      <th>199995</th>\n",
       "      <td>Ionic 4 horizontal scroll with ngFor</td>\n",
       "      <td>I'm at a loss.  I can get horizontal scroll to...</td>\n",
       "      <td>css,angular,ionic-framework,ngfor,ionic4</td>\n",
       "    </tr>\n",
       "    <tr>\n",
       "      <th>199996</th>\n",
       "      <td>Type hinting with descriptors</td>\n",
       "      <td>In this pull request it looks like type hintin...</td>\n",
       "      <td>python,python-3.x,type-hinting,mypy,python-des...</td>\n",
       "    </tr>\n",
       "    <tr>\n",
       "      <th>199997</th>\n",
       "      <td>How to add multiple lines between code blocks ...</td>\n",
       "      <td>I started using Prettier, but discovered that ...</td>\n",
       "      <td>javascript,node.js,typescript,visual-studio-co...</td>\n",
       "    </tr>\n",
       "    <tr>\n",
       "      <th>199998</th>\n",
       "      <td>React-Select Scrollbar Styling</td>\n",
       "      <td>I am trying to change the style of scrollbar f...</td>\n",
       "      <td>reactjs,frontend,scrollbar,styling,react-select</td>\n",
       "    </tr>\n",
       "    <tr>\n",
       "      <th>199999</th>\n",
       "      <td>Convert sklearn.svm SVC classifier to Keras im...</td>\n",
       "      <td>I'm trying to convert some old code from using...</td>\n",
       "      <td>machine-learning,keras,scikit-learn,neural-net...</td>\n",
       "    </tr>\n",
       "  </tbody>\n",
       "</table>\n",
       "<p>195784 rows × 3 columns</p>\n",
       "</div>"
      ],
      "text/plain": [
       "                                                    Title   \n",
       "0                 How to convert Decimal to Double in C#?  \\\n",
       "1                           Calculate relative time in C#   \n",
       "2                             Determine a user's timezone   \n",
       "3          What is the fastest way to get the value of π?   \n",
       "4              How to use the C socket API in C++ on z/OS   \n",
       "...                                                   ...   \n",
       "199995               Ionic 4 horizontal scroll with ngFor   \n",
       "199996                      Type hinting with descriptors   \n",
       "199997  How to add multiple lines between code blocks ...   \n",
       "199998                     React-Select Scrollbar Styling   \n",
       "199999  Convert sklearn.svm SVC classifier to Keras im...   \n",
       "\n",
       "                                                     Body   \n",
       "0       I want to assign the decimal variable \"trans\" ...  \\\n",
       "1       Given a specific  value, how do I display rela...   \n",
       "2       Is there a standard way for a web server to be...   \n",
       "3       I'm looking for the fastest way to obtain the ...   \n",
       "4       I'm having issues getting the C sockets API to...   \n",
       "...                                                   ...   \n",
       "199995  I'm at a loss.  I can get horizontal scroll to...   \n",
       "199996  In this pull request it looks like type hintin...   \n",
       "199997  I started using Prettier, but discovered that ...   \n",
       "199998  I am trying to change the style of scrollbar f...   \n",
       "199999  I'm trying to convert some old code from using...   \n",
       "\n",
       "                                                     Tags  \n",
       "0        c#,floating-point,type-conversion,double,decimal  \n",
       "1            c#,datetime,time,datediff,relative-time-span  \n",
       "2        html,browser,timezone,user-agent,timezone-offset  \n",
       "3         performance,algorithm,language-agnostic,unix,pi  \n",
       "4                             c++,c,sockets,mainframe,zos  \n",
       "...                                                   ...  \n",
       "199995           css,angular,ionic-framework,ngfor,ionic4  \n",
       "199996  python,python-3.x,type-hinting,mypy,python-des...  \n",
       "199997  javascript,node.js,typescript,visual-studio-co...  \n",
       "199998    reactjs,frontend,scrollbar,styling,react-select  \n",
       "199999  machine-learning,keras,scikit-learn,neural-net...  \n",
       "\n",
       "[195784 rows x 3 columns]"
      ]
     },
     "execution_count": 331,
     "metadata": {},
     "output_type": "execute_result"
    }
   ],
   "source": [
    "data"
   ]
  },
  {
   "cell_type": "code",
   "execution_count": 330,
   "id": "6e10561a",
   "metadata": {},
   "outputs": [],
   "source": [
    "data.to_csv('data/cleaned/df_cleaned.csv', index = False)"
   ]
  },
  {
   "cell_type": "markdown",
   "id": "51efa124",
   "metadata": {},
   "source": [
    "### Exploration rapide du corpus "
   ]
  },
  {
   "cell_type": "code",
   "execution_count": 2,
   "id": "9b130bec",
   "metadata": {},
   "outputs": [],
   "source": [
    "data = pd.read_csv('data/cleaned/df_cleaned.csv')"
   ]
  },
  {
   "cell_type": "code",
   "execution_count": 3,
   "id": "354eb3da",
   "metadata": {},
   "outputs": [
    {
     "data": {
      "text/html": [
       "<div>\n",
       "<style scoped>\n",
       "    .dataframe tbody tr th:only-of-type {\n",
       "        vertical-align: middle;\n",
       "    }\n",
       "\n",
       "    .dataframe tbody tr th {\n",
       "        vertical-align: top;\n",
       "    }\n",
       "\n",
       "    .dataframe thead th {\n",
       "        text-align: right;\n",
       "    }\n",
       "</style>\n",
       "<table border=\"1\" class=\"dataframe\">\n",
       "  <thead>\n",
       "    <tr style=\"text-align: right;\">\n",
       "      <th></th>\n",
       "      <th>Title</th>\n",
       "      <th>Body</th>\n",
       "      <th>Tags</th>\n",
       "    </tr>\n",
       "  </thead>\n",
       "  <tbody>\n",
       "    <tr>\n",
       "      <th>0</th>\n",
       "      <td>How to convert Decimal to Double in C#?</td>\n",
       "      <td>I want to assign the decimal variable \"trans\" ...</td>\n",
       "      <td>c#,floating-point,type-conversion,double,decimal</td>\n",
       "    </tr>\n",
       "    <tr>\n",
       "      <th>1</th>\n",
       "      <td>Calculate relative time in C#</td>\n",
       "      <td>Given a specific  value, how do I display rela...</td>\n",
       "      <td>c#,datetime,time,datediff,relative-time-span</td>\n",
       "    </tr>\n",
       "    <tr>\n",
       "      <th>2</th>\n",
       "      <td>Determine a user's timezone</td>\n",
       "      <td>Is there a standard way for a web server to be...</td>\n",
       "      <td>html,browser,timezone,user-agent,timezone-offset</td>\n",
       "    </tr>\n",
       "    <tr>\n",
       "      <th>3</th>\n",
       "      <td>What is the fastest way to get the value of π?</td>\n",
       "      <td>I'm looking for the fastest way to obtain the ...</td>\n",
       "      <td>performance,algorithm,language-agnostic,unix,pi</td>\n",
       "    </tr>\n",
       "    <tr>\n",
       "      <th>4</th>\n",
       "      <td>How to use the C socket API in C++ on z/OS</td>\n",
       "      <td>I'm having issues getting the C sockets API to...</td>\n",
       "      <td>c++,c,sockets,mainframe,zos</td>\n",
       "    </tr>\n",
       "    <tr>\n",
       "      <th>...</th>\n",
       "      <td>...</td>\n",
       "      <td>...</td>\n",
       "      <td>...</td>\n",
       "    </tr>\n",
       "    <tr>\n",
       "      <th>195779</th>\n",
       "      <td>Ionic 4 horizontal scroll with ngFor</td>\n",
       "      <td>I'm at a loss.  I can get horizontal scroll to...</td>\n",
       "      <td>css,angular,ionic-framework,ngfor,ionic4</td>\n",
       "    </tr>\n",
       "    <tr>\n",
       "      <th>195780</th>\n",
       "      <td>Type hinting with descriptors</td>\n",
       "      <td>In this pull request it looks like type hintin...</td>\n",
       "      <td>python,python-3.x,type-hinting,mypy,python-des...</td>\n",
       "    </tr>\n",
       "    <tr>\n",
       "      <th>195781</th>\n",
       "      <td>How to add multiple lines between code blocks ...</td>\n",
       "      <td>I started using Prettier, but discovered that ...</td>\n",
       "      <td>javascript,node.js,typescript,visual-studio-co...</td>\n",
       "    </tr>\n",
       "    <tr>\n",
       "      <th>195782</th>\n",
       "      <td>React-Select Scrollbar Styling</td>\n",
       "      <td>I am trying to change the style of scrollbar f...</td>\n",
       "      <td>reactjs,frontend,scrollbar,styling,react-select</td>\n",
       "    </tr>\n",
       "    <tr>\n",
       "      <th>195783</th>\n",
       "      <td>Convert sklearn.svm SVC classifier to Keras im...</td>\n",
       "      <td>I'm trying to convert some old code from using...</td>\n",
       "      <td>machine-learning,keras,scikit-learn,neural-net...</td>\n",
       "    </tr>\n",
       "  </tbody>\n",
       "</table>\n",
       "<p>195784 rows × 3 columns</p>\n",
       "</div>"
      ],
      "text/plain": [
       "                                                    Title   \n",
       "0                 How to convert Decimal to Double in C#?  \\\n",
       "1                           Calculate relative time in C#   \n",
       "2                             Determine a user's timezone   \n",
       "3          What is the fastest way to get the value of π?   \n",
       "4              How to use the C socket API in C++ on z/OS   \n",
       "...                                                   ...   \n",
       "195779               Ionic 4 horizontal scroll with ngFor   \n",
       "195780                      Type hinting with descriptors   \n",
       "195781  How to add multiple lines between code blocks ...   \n",
       "195782                     React-Select Scrollbar Styling   \n",
       "195783  Convert sklearn.svm SVC classifier to Keras im...   \n",
       "\n",
       "                                                     Body   \n",
       "0       I want to assign the decimal variable \"trans\" ...  \\\n",
       "1       Given a specific  value, how do I display rela...   \n",
       "2       Is there a standard way for a web server to be...   \n",
       "3       I'm looking for the fastest way to obtain the ...   \n",
       "4       I'm having issues getting the C sockets API to...   \n",
       "...                                                   ...   \n",
       "195779  I'm at a loss.  I can get horizontal scroll to...   \n",
       "195780  In this pull request it looks like type hintin...   \n",
       "195781  I started using Prettier, but discovered that ...   \n",
       "195782  I am trying to change the style of scrollbar f...   \n",
       "195783  I'm trying to convert some old code from using...   \n",
       "\n",
       "                                                     Tags  \n",
       "0        c#,floating-point,type-conversion,double,decimal  \n",
       "1            c#,datetime,time,datediff,relative-time-span  \n",
       "2        html,browser,timezone,user-agent,timezone-offset  \n",
       "3         performance,algorithm,language-agnostic,unix,pi  \n",
       "4                             c++,c,sockets,mainframe,zos  \n",
       "...                                                   ...  \n",
       "195779           css,angular,ionic-framework,ngfor,ionic4  \n",
       "195780  python,python-3.x,type-hinting,mypy,python-des...  \n",
       "195781  javascript,node.js,typescript,visual-studio-co...  \n",
       "195782    reactjs,frontend,scrollbar,styling,react-select  \n",
       "195783  machine-learning,keras,scikit-learn,neural-net...  \n",
       "\n",
       "[195784 rows x 3 columns]"
      ]
     },
     "execution_count": 3,
     "metadata": {},
     "output_type": "execute_result"
    }
   ],
   "source": [
    "data"
   ]
  },
  {
   "cell_type": "code",
   "execution_count": 12,
   "id": "fa227cfd",
   "metadata": {},
   "outputs": [],
   "source": [
    "def print_sample(sub_df, n_samp = 10):\n",
    "    '''print out n_samp documents from a corpus'''\n",
    "    \n",
    "    samp = sub_df.sample(n_samp)\n",
    "    \n",
    "    for idx, ser in samp.iterrows():\n",
    "        txt_1 = f\"title : {ser['Title']}\\n\"\n",
    "        print(txt_1 + ser['Body'] + '\\n\\n')"
   ]
  },
  {
   "cell_type": "code",
   "execution_count": 190,
   "id": "3558fa18",
   "metadata": {},
   "outputs": [
    {
     "name": "stdout",
     "output_type": "stream",
     "text": [
      "title : Attach generated PDF in Mailgun message Django/Python\n",
      "I'm trying to switch our application from python mail to Mailgun but am having trouble with emails that have attachments. Specifically PDF's that are generated by the application (not stored in the file system). Have no problems sending emails without attachments. Currently we generate the PDF as such: pdf = StringIO() draw_pdf(pdf, params) pdf.seek(0) attachment = MIMEApplication(pdf.read()) attachment.add_header(\"Content-Disposition\", \"attachment\", filename=filename) pdf.close()  And then attach and mail it as such: from django.core.mail import EmailMultiAlternatives msg = EmailMultiAlternatives(subject, text_content, from_email, to_email)  if html_content:     msg.attach_alternative(html_content, \"text/html\")  if attachment:     msg.attach(attachment)  msg.send()  Works great... how can we convert to a Mailgun call? I've tried various things including just passing it as file as is (unsuccessfully): requests.post(mailgun_url, auth=(\"api\", mailgun_api), data=data, files=attachment)  The above works fine without the attachment. data contains to, from, o:tags... etc. Any help would be appreciated. Thanks! EDIT I was able to get it to work by changing my PDF code and getting the requests.post structured properly: filename = \"pdf_attachment.pdf\" pdf = StringIO() draw_pdf(pdf, params) pdf.seek(0)  attachment = (\"attachment\", (filename, pdf.read()))  r = requests.post(mailgun_url, auth=(\"api\", mailgun_api), data=data, files=[attachment])  \n",
      "\n",
      "\n",
      "title : Does Angular use DOM diffing or must it \"re-render\" every list item?\n",
      "I'm new to Angular, but I've already heard (and read) some \"rumors\" about its rendering model and how it is different from for example React. I've read some posts of Angular experts who claim that if you have to render long lists with Angular, it could be slow because Angular would re-render the whole list if something changes, while React (for example) \"won't re-render the whole list from scratch once it has already been rendered but it will keep track of rendered DOM elements internally and upon new invocation create new virtual DOM, compare it to the previous one and only apply the changes\"  (quoted from a random blog post about Angular rendering issues) So as I started learning Angular, my first thing was trying this out. And it seems that I cannot reproduce the problem... Here is a dummy Plunker which I created to reproduce the issue. You can add new items to a list of messages which is rendered with ng-repeat like this: <table>   <tr ng-repeat=\"m in messages\" class=\"{{name}}\">     <td>{{m.message}}</td>     <td>{{m.date}}</td>   </tr> </table>  You can click on a button which could update one such item, and you can update another property which is totally unrelated to the list (name) Now if I open developer toolbar, and modify an item's HTML attributes inside the table and then I click on \"add a new message\", my modifications don't get lost or overwritten by Angular - it seems that Angular doesn't re-render the DOM fully. It seems to be pretty smart. Has Angular started to use DOM diffing lately? (My demo uses Angular 1.4.0 beta) Just because from the DOM rendering point of view, I just don't see the big difference between React and Angular. Could you show me a use case which show the drawback of Angular's rendering model? \n",
      "\n",
      "\n",
      "title : Warming up high throughput Java apps\n",
      "I recently learned about scenarios which require warming up an app (with high throughput requirement) before they start serving real requests. The logic behind this was to allow JIT to do its performance magic! Is this a norm for Java apps or is this generally done for memory heavy (footprint) apps? \n",
      "\n",
      "\n",
      "title : String formatting in Python: can I use %s for all types?\n",
      "When doing string formatting in Python, I noticed that %s transforms also numbers to strings. >>> a = 1 >>> b = 1.1 >>> c = 'hello' >>> print 'Integer: %s; Float: %s; String: %s' % (a, b, c) Integer: 1; Float: 1.1; String: hello  I don't know for other variable types, but is it safe to use %s like this?  It is certainly quicker than specifying always the type each time. \n",
      "\n",
      "\n",
      "title : Bootstrap.js throws a selector option error: selector option must be specified when initializing tooltip on the windows.document object\n",
      "When I try run my web application in bootstrap.js I get the following error:  Unhandled exception at line 1306, column 7 in localhost:7904/Scripts/bootstrap.js   0x800a139e - JavaScript runtime error: selector option must be specified when   initializing tooltip on the window.document object!  This is the following lines of code it is referring to:   Tooltip.prototype.init = function (type, element, options) { this.enabled   = true this.type      = type this.$element  = $(element) this.options   = this.getOptions(options) this.$viewport = this.options.viewport && $($.isFunction(this.options.viewport) ? this.options.viewport.call(this, this.$element) : (this.options.viewport.selector || this.options.viewport)) this.inState   = { click: false, hover: false, focus: false }  if (this.$element[0] instanceof document.constructor && !this.options.selector) {   //LINE 1306 IS RIGHT HERE   throw new Error('`selector` option must be specified when initializing ' + this.type + ' on the window.document object!') }  var triggers = this.options.trigger.split(' ')  for (var i = triggers.length; i--;) {   var trigger = triggers[i]    if (trigger == 'click') {     this.$element.on('click.' + this.type, this.options.selector, $.proxy(this.toggle, this))   } else if (trigger != 'manual') {     var eventIn  = trigger == 'hover' ? 'mouseenter' : 'focusin'     var eventOut = trigger == 'hover' ? 'mouseleave' : 'focusout'      this.$element.on(eventIn  + '.' + this.type, this.options.selector, $.proxy(this.enter, this))     this.$element.on(eventOut + '.' + this.type, this.options.selector, $.proxy(this.leave, this))   } }  this.options.selector ?   (this._options = $.extend({}, this.options, { trigger: 'manual', selector: '' })) :   this.fixTitle()}  Any help on this matter would be appreciated, thanks. \n",
      "\n",
      "\n",
      "title : OCLint ASTMatcher rule. Matching NS_ENUM\n",
      "I am trying to create an OCLint rule that matches both typedef enum and typedef NS_ENUM declarations, with little success. I have an Objective-C file (TestClass.m) with the following enum declarations in it: typedef NS_ENUM(NSInteger, TestEnum) {     TestEnumNone,     TestEnumSome,     TestEnumAll };  typedef enum {     othertestvalue = 0,     othertestvalue1,     othertestvalue2 } OtherTestEnum;  Dumping the AST with this command: clang -Xclang -ast-dump -fsyntax-only Classes/TestClass.m -- | grep Enum  Gives me this output containing this: |-TypedefDecl 0x7f9d3accd630 <col:1, col:28> col:28 TestEnum 'enum TestEnum':'enum TestEnum' |-EnumDecl 0x7f9d3accd6a8 prev 0x7f9d3accd530 </System/Library/Frameworks/CoreFoundation.framework/Headers/CFAvailability.h:171:57, Classes/TestClass.m:71:1> line:67:28 TestEnum 'NSInteger':'long' | |-EnumConstantDecl 0x7f9d3accd738 <line:68:5> col:5 TestEnumNone 'NSInteger':'long' | |-EnumConstantDecl 0x7f9d3accd788 <line:69:5> col:5 TestEnumSome 'NSInteger':'long' | `-EnumConstantDecl 0x7f9d3accd7d8 <line:70:5> col:5 TestEnumAll 'NSInteger':'long' |-EnumDecl 0x7f9d3accd828 <line:73:9, line:77:1> line:73:9 | |-EnumConstantDecl 0x7f9d3accd900 <line:74:5, col:22> col:5 othertestvalue 'int' | |-EnumConstantDecl 0x7f9d3accd950 <line:75:5> col:5 othertestvalue1 'int' | `-EnumConstantDecl 0x7f9d3accd9a0 <line:76:5> col:5 othertestvalue2 'int' |-TypedefDecl 0x7f9d3accda40 <line:73:1, line:77:3> col:3 OtherTestEnum 'enum OtherTestEnum':'OtherTestEnum'  I have an ASTMatcherRule (ObjCNsEnumRule) where I am trying to match both typedef enum as well as typedef NS_ENUM Here is the code for that: #include \"oclint/AbstractASTMatcherRule.h\" #include \"oclint/RuleSet.h\"  using namespace std; using namespace clang; using namespace clang::ast_matchers; using namespace oclint;  class ObjCNsEnumRuleRule : public AbstractASTMatcherRule { public: virtual const string name() const override {     return \"obj c ns enum rule\"; }  virtual int priority() const override {     return 3; }  virtual void callback(const MatchFinder::MatchResult &result) override {   const EnumDecl *enumDecl = result.Nodes.getNodeAs<EnumDecl>(\"enum\");   if (enumDecl) {     addViolation(enumDecl, this, \"Found enum\");   } }  virtual void setUpMatcher() override {   addMatcher(enumDecl().bind(\"enum\")); }  };  static RuleSet rules(new ObjCNsEnumRuleRule());  However, when I run this rule, I only get the output for the typedef enum declaration. Classes/TestClass.m:73:9: obj c ns enum rule P3 Found enum  What am I doing wrong here? Both enums show up in the AST dump, but only one matches in the OCLint rule. Edit I think this may have to do with the AST dump showing the EnumDecl for the NS_ENUM as defined in a different source file (probably because of the NS_ENUM macro), as I can match the typedef, but not the enumdecl. \n",
      "\n",
      "\n",
      "title : how to throw HTTP 204 status code using jersey framework in RESTful web service?\n",
      "I am using jersey framework to develop RESTful web service. I am throwing various HTTP status codes with response using following code:  public class RestNoContentException extends WebApplicationException  {     public RestNoContentException(String message)      {         super(Response.status(Status.NO_CONTENT)             .entity(message).type(\"text/plain\")             .build());         } }  While testing the REST web service using Firefox Mozilla rest client tool, it is displaying 200 OK status instead of 204 NO CONTENT. I am handling the other status codes the same way I am doing for status code 204. Other status codes are appearing properly on rest client tool but when to show 204 status code, it is showing 200 OK status code. Can someone please help me out here? what am I missing? \n",
      "\n",
      "\n",
      "title : ASP.NET MVC Dynamic Forms\n",
      "Can anyone suggest a good way to develope dynamic forms with ASP.NET MVC? I have cascading dropdowns on the page (options in the dropdown depends on the value, selected in the previous dropdown). All the values come from the database.  How can I implement such behavior using ASP.NET MVC? Of course I'd like to receive all the values in the controller when I submit my form. \n",
      "\n",
      "\n",
      "title : Where to register event listeners\n",
      "I'm trying to use the Event System in CakePHP v2.1+ It appears to be quite powerful, but the documentation is somewhat vague. Triggering the event seems pretty straight-forward, but I'm not sure how to register the corresponding listener(s) to listen for the event. The relevant section is here and it offers the following example code: App::uses('CakeEventListener', 'Event'); class UserStatistic implements CakeEventListener {      public function implementedEvents() {         return array(             'Model.Order.afterPlace' => 'updateBuyStatistic',         );     }      public function updateBuyStatistic($event) {         // Code to update statistics     } }  // Attach the UserStatistic object to the Order's event manager $statistics = new UserStatistic(); $this->Order->getEventManager()->attach($statistics);  But it does not say where this code should reside. Inside a specific controller? Inside the app controller? In case it's relevant, the listener will be part of a plugin which I am writing.  Update: It sounds like a popular way to do this is by placing the listener registration code in the plugin's bootstrap.php file. However, I can't figure out how to call getEventManager() from there because the app's controller classes, etc aren't available. Update 2: I'm also told that listeners can live inside Models. Update 3: Finally some traction! The following code will successfully log an event when inside of my MyPlugin/Config/bootstrap.php App::uses('CakeEventManager', 'Event');  App::uses('CakeEventListener', 'Event'); class LegacyWsatListener implements CakeEventListener {      public function implementedEvents() {         return array(             'Controller.Attempt.complete' => 'handleLegacyWsat',         );     }      public static function handleLegacyWsat($event) { //method must be static if used by global EventManager         // Code to update statistics         error_log('event from bootstrap');     } }  CakeEventManager::instance()->attach(array('LegacyWsatListener', 'handleLegacyWsat'), 'Controller.Attempt.complete');  I'm not sure why, but I can't get errors when I try to combine the two App::uses() into a single line. \n",
      "\n",
      "\n",
      "title : PKCS12 Java Keystore from CA and User certificate in java\n",
      "I've recently been put in charge of mocking up an Apple product (iPhone Configuration Utility) in Java. One of the sections I've been a bit stuck on is a part about Exchange ActiveSync. In there, it allows you to select a certificate from your Keychain to use as credentials for your EAS account. After some research, I found that it's actually creating a PKCS12 keystore, inserting the private key of the certificate I selected, and encoding that into XML. So far not a big deal. If I create a .p12 file with Keychain Access it uploads without a problem. But I run into a problem when I try to bring that over to Java. Say I export one of those certs that I had used earlier with the .p12 file as a .cer file (this is what we are expecting to get in the environment). Now when I upload it into Java I get a Certificate object as follows... KeyStore ks = java.security.KeyStore.getInstance(\"PKCS12\"); ks.load(null, \"somePassword\".toCharArray());  CertificateFactory cf = CertificateFactory.getInstance(\"X.509\", new BouncyCastleProvider()); java.security.cert.Certificate userCert  = cf.generateCertificate(new FileInputStream(\"/Users/me/Desktop/RecentlyExportedCert.cer\"));  But when I try... ks.setCertificateEntry(\"SomeAlias\", userCert);  I get the exception... java.security.KeyStoreException: TrustedCertEntry not supported  So from certs I move onto keys. But with those Certificates (I got the CA Cert as well), I'm only able to access the public key, not the private. And if I attempt to add the public key like so... java.security.cert.Certificate[] chain = {CACert}; ks.setKeyEntry(\"SomeAlias\", userCert.getPublicKey().getEncoded(), chain);  I get... java.security.KeyStoreException: Private key is not stored as PKCS#8 EncryptedPrivateKeyInfo: java.io.IOException: DerValue.getOctetString, not an Octet String: 3  So now I'm here. Does anyone have any idea how to get a private key from a .cer file into a PKCS12 keystore in Java? Am I even on the right track? Thanks in advance! \n",
      "\n",
      "\n"
     ]
    }
   ],
   "source": [
    "print_sample(data)"
   ]
  },
  {
   "cell_type": "code",
   "execution_count": 4,
   "id": "2dcb4aa8",
   "metadata": {},
   "outputs": [
    {
     "name": "stdout",
     "output_type": "stream",
     "text": [
      "{'ain', \"won't\", 'trying', 'above', 'further', 'also', 'only', 'those', 'been', 'weren', 'she', 'too', 'than', 'if', 'you', 'at', 'y', \"it's\", 'haven', \"wouldn't\", 'off', 'while', 'down', 've', 'am', 'some', 'wouldn', 'want', 'like', 'here', 'because', 'each', 'other', 'most', 'would', \"doesn't\", \"hasn't\", 'being', 'a', 'that', \"shouldn't\", 'more', 'thank', 'didn', 'of', 'does', 'as', \"haven't\", 'again', 'hasn', 'over', 'with', 'ours', 'itself', \"should've\", 'below', \"hadn't\", 'what', 'theirs', 'have', 'under', 'one', 'for', 's', 'now', 'or', 'on', 'an', \"aren't\", 'who', 'has', 'however', \"isn't\", \"that'll\", 'through', 'was', 'were', 'yourself', 'until', 'out', 'yours', 'he', 'against', 'these', 'from', 'when', \"mightn't\", 'wasn', 'the', 'm', 'don', 'me', \"mustn't\", 'own', 'they', 'tried', 'to', 'it', 'thanks', 'which', 'something', \"needn't\", 'himself', 'd', 'then', 'example', 'why', 'ma', 'i', 'had', \"you've\", 'very', 't', 'into', 'having', 'up', 'by', 'and', 'is', 'my', \"you're\", 'did', 'whom', 'after', 'no', 'aren', 'isn', 'be', 'your', 'we', 'will', 'do', \"shan't\", 'are', 'needn', 'their', 'not', 'doing', 'herself', \"couldn't\", 'shouldn', \"you'd\", 'ourselves', 'him', 're', 'can', 'this', 'hadn', 'll', 'couldn', 'mightn', 'o', 'themselves', 'in', 'both', 'such', 'just', 'won', 'her', 'could', \"weren't\", 'once', 'during', 'all', 'doesn', 'see', 'how', 'so', 'should', \"you'll\", 'shan', 'hers', 'myself', 'them', 'there', 'our', 'where', 'between', 'same', 'his', 'mustn', 'nor', 'but', 'few', \"didn't\", 'about', 'its', 'before', 'any', 'yourselves', \"don't\", \"she's\", \"wasn't\"}\n"
     ]
    }
   ],
   "source": [
    "# Definition des stopwords, après observation des mots à l'aide d'un wordcloud on peut etendre cette liste \n",
    "stop_words = stopwords.words('english')\n",
    "stop_words.extend(['like','want', 'would', 'also', 'however', 'something', 'example', 'one', 'see', 'could', 'trying', 'tried', 'thank', 'thanks'])\n",
    "stop_words = set(stop_words)\n",
    "print(stop_words)"
   ]
  },
  {
   "cell_type": "markdown",
   "id": "d7874b2d",
   "metadata": {},
   "source": [
    "#### Premier fonction de nettoyage"
   ]
  },
  {
   "cell_type": "code",
   "execution_count": 5,
   "id": "4cb6e41b",
   "metadata": {},
   "outputs": [],
   "source": [
    "def process_text_1(doc, rejoin= False):\n",
    "    '''basic fonction of text processing'''\n",
    "    \n",
    "    # lower (strip pour supprimer les espaces)\n",
    "    doc = doc.lower().strip()\n",
    "    \n",
    "    # tokenize\n",
    "    tokenizer = RegexpTokenizer(r'\\b\\w+#?\\b')\n",
    "    raw_tokens_list = tokenizer.tokenize(doc)\n",
    "    \n",
    "    # stopwords\n",
    "    cleaned_tokens_list = [w for w in raw_tokens_list if w not in stop_words]\n",
    "    \n",
    "    # si on veut renvoyer juste les tokens séparés par un espace dans une même chaîne\n",
    "    if rejoin :\n",
    "        return \" \".join(cleaned_tokens_list)\n",
    "    \n",
    "    return cleaned_tokens_list"
   ]
  },
  {
   "cell_type": "code",
   "execution_count": null,
   "id": "0cde922a",
   "metadata": {},
   "outputs": [],
   "source": []
  },
  {
   "cell_type": "code",
   "execution_count": null,
   "id": "8e6fc4f0",
   "metadata": {},
   "outputs": [],
   "source": []
  },
  {
   "cell_type": "markdown",
   "id": "22e6c417",
   "metadata": {},
   "source": [
    "#### Travailler sur le corpus complet"
   ]
  },
  {
   "cell_type": "code",
   "execution_count": 6,
   "id": "2610d7f0",
   "metadata": {},
   "outputs": [],
   "source": [
    "# Joindre les lignes \n",
    "raw_corpus1 = \"\".join(data.Title.values)\n",
    "raw_corpus2 = \"\".join(data.Body.values)"
   ]
  },
  {
   "cell_type": "code",
   "execution_count": 7,
   "id": "fd93ed4d",
   "metadata": {},
   "outputs": [
    {
     "name": "stdout",
     "output_type": "stream",
     "text": [
      "Taille des titres : 11007193\n",
      "Taille des corps de question:  127542838\n"
     ]
    }
   ],
   "source": [
    "print('Taille des titres :', len(raw_corpus1))\n",
    "print('Taille des corps de question: ', len(raw_corpus2))"
   ]
  },
  {
   "cell_type": "code",
   "execution_count": 8,
   "id": "9c9e97d0",
   "metadata": {},
   "outputs": [],
   "source": [
    "# process the corpus \n",
    "corpus1 = process_text_1(raw_corpus1)\n",
    "corpus2 = process_text_1(raw_corpus2)"
   ]
  },
  {
   "cell_type": "code",
   "execution_count": 32,
   "id": "2f4c271d",
   "metadata": {},
   "outputs": [],
   "source": [
    "# Définition d'une fonction d'affichage \n",
    "def display_tokens_infos(tokens) : \n",
    "    '''display info about corpus'''\n",
    "    print(f'nb tokens {len(tokens)}, nb tokens uniques {len(set(tokens))}')\n",
    "    print(tokens[:30])"
   ]
  },
  {
   "cell_type": "code",
   "execution_count": 388,
   "id": "0f1b2d19",
   "metadata": {},
   "outputs": [
    {
     "name": "stdout",
     "output_type": "stream",
     "text": [
      "nb tokens 1153895, nb tokens uniques 133305\n",
      "['convert', 'decimal', 'double', 'c', 'calculate', 'relative', 'time', 'c#', 'determine', 'user', 'timezonewhat', 'fastest', 'way', 'get', 'value', 'π', 'use', 'c', 'socket', 'api', 'c', 'z', 'osis', 'gettimeofday', 'guaranteed', 'microsecond', 'resolution', 'decoding', 'sql', 'cast']\n"
     ]
    }
   ],
   "source": [
    "# Afficher le corpus\n",
    "display_tokens_infos(corpus1)"
   ]
  },
  {
   "cell_type": "code",
   "execution_count": 389,
   "id": "c1c6b9f1",
   "metadata": {},
   "outputs": [
    {
     "name": "stdout",
     "output_type": "stream",
     "text": [
      "nb tokens 11804389, nb tokens uniques 196095\n",
      "['want', 'assign', 'decimal', 'variable', 'trans', 'double', 'variable', 'opacity', 'build', 'app', 'gives', 'following', 'error', 'cannot', 'implicitly', 'convert', 'type', 'decimal', 'double', 'given', 'specific', 'value', 'display', 'relative', 'time', 'like', 'standard', 'way', 'web', 'server']\n"
     ]
    }
   ],
   "source": [
    "# Afficher le corpus\n",
    "display_tokens_infos(corpus2)"
   ]
  },
  {
   "cell_type": "code",
   "execution_count": 9,
   "id": "e212837a",
   "metadata": {},
   "outputs": [],
   "source": [
    "# mot unique -> pas important\n",
    "\n",
    "tmp1 = pd.Series(corpus1).value_counts()\n",
    "list_unique_words_title = tmp1[tmp1==1]\n",
    "\n",
    "tmp2 = pd.Series(corpus2).value_counts()\n",
    "list_unique_words_body = tmp2[tmp2==1]"
   ]
  },
  {
   "cell_type": "code",
   "execution_count": 10,
   "id": "0760dadd",
   "metadata": {},
   "outputs": [],
   "source": [
    "def process_text_vf(doc \n",
    "                  ,rejoin = False\n",
    "                  ,lemm_or_stem = 'stem' \n",
    "                  ,list_rare_words = []\n",
    "                  ,min_len_word = 3\n",
    "                  #,force_is_alpha = True\n",
    "                   ):\n",
    "    '''\n",
    "    \n",
    "    positionnal arguments : \n",
    "    -----------------------\n",
    "    doc : str : the docuemnt (aka a text in str format) to process\n",
    "    \n",
    "    opt args : \n",
    "    -----------------------\n",
    "    rejoin : bool if True return a string else return a list of tokens\n",
    "    lemm_or_stem : string : if lem do lemmantize else stemmentize\n",
    "    list_rare_words : list : a list of rare words to exclude\n",
    "    \n",
    "# J'ai utilisé ça mais je ne sais pas si dans le cas de certains caracteres il faudrait enlever cette condition(C, π...)\n",
    "    min_len_word : int : the minimum length of word to not exclude\n",
    "    force_is_alpha : int : if 1, exclude all tokens with a numeric character\n",
    "\n",
    "    \n",
    "    return :\n",
    "    -----------------------\n",
    "    a string (if rejoin is True) or a list of tokens\n",
    "    '''\n",
    "    \n",
    "        \n",
    "    #lower\n",
    "    doc = doc.lower().strip()\n",
    "    \n",
    "    #Supprimer les url\n",
    "    doc = re.sub(r'http*\\S+', '', doc)\n",
    "    # Supprimer les espace inutiles \n",
    "    doc = re.sub('\\\\s+', ' ', doc)\n",
    "    # Supprimer les nombres\n",
    "    doc = re.sub(r'\\w*\\d+\\w*', '', doc)\n",
    "    \n",
    "    # tokenize\n",
    "    tokenizer = RegexpTokenizer(r'\\b\\w+#?\\b')\n",
    "    raw_tokens_list = tokenizer.tokenize(doc)\n",
    "    \n",
    "    \n",
    "    # classic stop words\n",
    "    cleaned_tokens_list = [w for w in raw_tokens_list if w not in stop_words]\n",
    "    \n",
    "    # no rare tokens\n",
    "    non_rare_tokens = [w for w in cleaned_tokens_list if w not in list_rare_words]\n",
    "    \n",
    "    # no more len words\n",
    "    more_than_N = [w for w in non_rare_tokens if len(w)>= min_len_word]\n",
    "    \n",
    "    # only alpha chars, le problème c'est que on supprimera les #\n",
    "    #if force_is_alpha :\n",
    "    #    alpha_tokens = [w for w in more_than_N if w.isalpha()]\n",
    "    #else :\n",
    "    #    alpha_tokens = more_than_N\n",
    "    \n",
    "    # stem or lem\n",
    "    if lemm_or_stem == 'lem' :\n",
    "        trans = WordNetLemmatizer()\n",
    "        trans_text = [trans.lemmatize(i) for i in more_than_N]\n",
    "    else :\n",
    "        trans = PorterStemmer()\n",
    "        trans_text = [trans.stem(i) for i in more_than_N]\n",
    "        \n",
    " \n",
    "    \n",
    "    # manage return type\n",
    "    if rejoin :\n",
    "        return ' '.join(trans_text)\n",
    "    \n",
    "    return trans_text"
   ]
  },
  {
   "cell_type": "code",
   "execution_count": 83,
   "id": "8f715a06",
   "metadata": {},
   "outputs": [
    {
     "name": "stdout",
     "output_type": "stream",
     "text": [
      "nb tokens 1066754, nb tokens uniques 121168\n",
      "['convert', 'decimal', 'double', 'calculate', 'relative', 'time', 'determine', 'user', 'timezonewhat', 'fastest', 'way', 'get', 'value', 'use', 'socket', 'api', 'osis', 'gettimeofday', 'guaranteed', 'microsecond', 'resolution', 'decoding', 'sql', 'cast', 'nethow', 'export', 'data', 'sql', 'server', 'mysqlhow']\n"
     ]
    }
   ],
   "source": [
    "# Tester sur les titres\n",
    "corpus1 = process_text_vf(raw_corpus1, lemm_or_stem = 'lem', rejoin = False)\n",
    "display_tokens_infos(corpus1)"
   ]
  },
  {
   "cell_type": "code",
   "execution_count": 84,
   "id": "d9cf6141",
   "metadata": {},
   "outputs": [
    {
     "name": "stdout",
     "output_type": "stream",
     "text": [
      "nb tokens 10309855, nb tokens uniques 141250\n",
      "['assign', 'decimal', 'variable', 'trans', 'double', 'variable', 'opacity', 'build', 'app', 'give', 'following', 'error', 'cannot', 'implicitly', 'convert', 'type', 'decimal', 'double', 'given', 'specific', 'value', 'display', 'relative', 'time', 'standard', 'way', 'web', 'server', 'able', 'determine']\n"
     ]
    }
   ],
   "source": [
    "# Tester sur les corps de question (~10 min)\n",
    "corpus2 = process_text_vf(raw_corpus2, lemm_or_stem = 'lem', rejoin = False)\n",
    "display_tokens_infos(corpus2)"
   ]
  },
  {
   "cell_type": "code",
   "execution_count": 85,
   "id": "181e433f",
   "metadata": {
    "scrolled": false
   },
   "outputs": [
    {
     "name": "stderr",
     "output_type": "stream",
     "text": [
      "2023-05-19 11:54:45,458 [7012] WARNING  py.warnings:109: [JupyterRequire] C:\\Users\\aguer\\anaconda3\\lib\\site-packages\\wordcloud\\wordcloud.py:519: DeprecationWarning: ROTATE_90 is deprecated and will be removed in Pillow 10 (2023-07-01). Use Transpose.ROTATE_90 instead.\n",
      "  orientation = (Image.ROTATE_90 if orientation is None else\n",
      "\n",
      "2023-05-19 11:54:45,522 [7012] WARNING  py.warnings:109: [JupyterRequire] C:\\Users\\aguer\\anaconda3\\lib\\site-packages\\wordcloud\\wordcloud.py:499: DeprecationWarning: ROTATE_90 is deprecated and will be removed in Pillow 10 (2023-07-01). Use Transpose.ROTATE_90 instead.\n",
      "  orientation = Image.ROTATE_90\n",
      "\n",
      "2023-05-19 11:54:45,525 [7012] WARNING  py.warnings:109: [JupyterRequire] C:\\Users\\aguer\\anaconda3\\lib\\site-packages\\wordcloud\\wordcloud.py:520: DeprecationWarning: ROTATE_90 is deprecated and will be removed in Pillow 10 (2023-07-01). Use Transpose.ROTATE_90 instead.\n",
      "  Image.ROTATE_90)\n",
      "\n",
      "2023-05-19 11:54:45,533 [7012] WARNING  py.warnings:109: [JupyterRequire] C:\\Users\\aguer\\anaconda3\\lib\\site-packages\\wordcloud\\wordcloud.py:499: DeprecationWarning: ROTATE_90 is deprecated and will be removed in Pillow 10 (2023-07-01). Use Transpose.ROTATE_90 instead.\n",
      "  orientation = Image.ROTATE_90\n",
      "\n",
      "2023-05-19 11:54:45,536 [7012] WARNING  py.warnings:109: [JupyterRequire] C:\\Users\\aguer\\anaconda3\\lib\\site-packages\\wordcloud\\wordcloud.py:520: DeprecationWarning: ROTATE_90 is deprecated and will be removed in Pillow 10 (2023-07-01). Use Transpose.ROTATE_90 instead.\n",
      "  Image.ROTATE_90)\n",
      "\n",
      "2023-05-19 11:54:45,543 [7012] WARNING  py.warnings:109: [JupyterRequire] C:\\Users\\aguer\\anaconda3\\lib\\site-packages\\wordcloud\\wordcloud.py:519: DeprecationWarning: ROTATE_90 is deprecated and will be removed in Pillow 10 (2023-07-01). Use Transpose.ROTATE_90 instead.\n",
      "  orientation = (Image.ROTATE_90 if orientation is None else\n",
      "\n",
      "2023-05-19 11:54:45,568 [7012] WARNING  py.warnings:109: [JupyterRequire] C:\\Users\\aguer\\anaconda3\\lib\\site-packages\\wordcloud\\wordcloud.py:519: DeprecationWarning: ROTATE_90 is deprecated and will be removed in Pillow 10 (2023-07-01). Use Transpose.ROTATE_90 instead.\n",
      "  orientation = (Image.ROTATE_90 if orientation is None else\n",
      "\n",
      "2023-05-19 11:54:45,579 [7012] WARNING  py.warnings:109: [JupyterRequire] C:\\Users\\aguer\\anaconda3\\lib\\site-packages\\wordcloud\\wordcloud.py:519: DeprecationWarning: ROTATE_90 is deprecated and will be removed in Pillow 10 (2023-07-01). Use Transpose.ROTATE_90 instead.\n",
      "  orientation = (Image.ROTATE_90 if orientation is None else\n",
      "\n",
      "2023-05-19 11:54:45,584 [7012] WARNING  py.warnings:109: [JupyterRequire] C:\\Users\\aguer\\anaconda3\\lib\\site-packages\\wordcloud\\wordcloud.py:499: DeprecationWarning: ROTATE_90 is deprecated and will be removed in Pillow 10 (2023-07-01). Use Transpose.ROTATE_90 instead.\n",
      "  orientation = Image.ROTATE_90\n",
      "\n",
      "2023-05-19 11:54:45,586 [7012] WARNING  py.warnings:109: [JupyterRequire] C:\\Users\\aguer\\anaconda3\\lib\\site-packages\\wordcloud\\wordcloud.py:520: DeprecationWarning: ROTATE_90 is deprecated and will be removed in Pillow 10 (2023-07-01). Use Transpose.ROTATE_90 instead.\n",
      "  Image.ROTATE_90)\n",
      "\n",
      "2023-05-19 11:54:45,595 [7012] WARNING  py.warnings:109: [JupyterRequire] C:\\Users\\aguer\\anaconda3\\lib\\site-packages\\wordcloud\\wordcloud.py:499: DeprecationWarning: ROTATE_90 is deprecated and will be removed in Pillow 10 (2023-07-01). Use Transpose.ROTATE_90 instead.\n",
      "  orientation = Image.ROTATE_90\n",
      "\n",
      "2023-05-19 11:54:45,606 [7012] WARNING  py.warnings:109: [JupyterRequire] C:\\Users\\aguer\\anaconda3\\lib\\site-packages\\wordcloud\\wordcloud.py:519: DeprecationWarning: ROTATE_90 is deprecated and will be removed in Pillow 10 (2023-07-01). Use Transpose.ROTATE_90 instead.\n",
      "  orientation = (Image.ROTATE_90 if orientation is None else\n",
      "\n",
      "2023-05-19 11:54:45,619 [7012] WARNING  py.warnings:109: [JupyterRequire] C:\\Users\\aguer\\anaconda3\\lib\\site-packages\\wordcloud\\wordcloud.py:499: DeprecationWarning: ROTATE_90 is deprecated and will be removed in Pillow 10 (2023-07-01). Use Transpose.ROTATE_90 instead.\n",
      "  orientation = Image.ROTATE_90\n",
      "\n",
      "2023-05-19 11:54:45,620 [7012] WARNING  py.warnings:109: [JupyterRequire] C:\\Users\\aguer\\anaconda3\\lib\\site-packages\\wordcloud\\wordcloud.py:520: DeprecationWarning: ROTATE_90 is deprecated and will be removed in Pillow 10 (2023-07-01). Use Transpose.ROTATE_90 instead.\n",
      "  Image.ROTATE_90)\n",
      "\n",
      "2023-05-19 11:54:45,632 [7012] WARNING  py.warnings:109: [JupyterRequire] C:\\Users\\aguer\\anaconda3\\lib\\site-packages\\wordcloud\\wordcloud.py:519: DeprecationWarning: ROTATE_90 is deprecated and will be removed in Pillow 10 (2023-07-01). Use Transpose.ROTATE_90 instead.\n",
      "  orientation = (Image.ROTATE_90 if orientation is None else\n",
      "\n",
      "2023-05-19 11:54:45,639 [7012] WARNING  py.warnings:109: [JupyterRequire] C:\\Users\\aguer\\anaconda3\\lib\\site-packages\\wordcloud\\wordcloud.py:499: DeprecationWarning: ROTATE_90 is deprecated and will be removed in Pillow 10 (2023-07-01). Use Transpose.ROTATE_90 instead.\n",
      "  orientation = Image.ROTATE_90\n",
      "\n",
      "2023-05-19 11:54:45,655 [7012] WARNING  py.warnings:109: [JupyterRequire] C:\\Users\\aguer\\anaconda3\\lib\\site-packages\\wordcloud\\wordcloud.py:499: DeprecationWarning: ROTATE_90 is deprecated and will be removed in Pillow 10 (2023-07-01). Use Transpose.ROTATE_90 instead.\n",
      "  orientation = Image.ROTATE_90\n",
      "\n",
      "2023-05-19 11:54:45,660 [7012] WARNING  py.warnings:109: [JupyterRequire] C:\\Users\\aguer\\anaconda3\\lib\\site-packages\\wordcloud\\wordcloud.py:519: DeprecationWarning: ROTATE_90 is deprecated and will be removed in Pillow 10 (2023-07-01). Use Transpose.ROTATE_90 instead.\n",
      "  orientation = (Image.ROTATE_90 if orientation is None else\n",
      "\n",
      "2023-05-19 11:54:45,675 [7012] WARNING  py.warnings:109: [JupyterRequire] C:\\Users\\aguer\\anaconda3\\lib\\site-packages\\wordcloud\\wordcloud.py:519: DeprecationWarning: ROTATE_90 is deprecated and will be removed in Pillow 10 (2023-07-01). Use Transpose.ROTATE_90 instead.\n",
      "  orientation = (Image.ROTATE_90 if orientation is None else\n",
      "\n",
      "2023-05-19 11:54:45,679 [7012] WARNING  py.warnings:109: [JupyterRequire] C:\\Users\\aguer\\anaconda3\\lib\\site-packages\\wordcloud\\wordcloud.py:499: DeprecationWarning: ROTATE_90 is deprecated and will be removed in Pillow 10 (2023-07-01). Use Transpose.ROTATE_90 instead.\n",
      "  orientation = Image.ROTATE_90\n",
      "\n",
      "2023-05-19 11:54:45,686 [7012] WARNING  py.warnings:109: [JupyterRequire] C:\\Users\\aguer\\anaconda3\\lib\\site-packages\\wordcloud\\wordcloud.py:519: DeprecationWarning: ROTATE_90 is deprecated and will be removed in Pillow 10 (2023-07-01). Use Transpose.ROTATE_90 instead.\n",
      "  orientation = (Image.ROTATE_90 if orientation is None else\n",
      "\n",
      "2023-05-19 11:54:45,700 [7012] WARNING  py.warnings:109: [JupyterRequire] C:\\Users\\aguer\\anaconda3\\lib\\site-packages\\wordcloud\\wordcloud.py:519: DeprecationWarning: ROTATE_90 is deprecated and will be removed in Pillow 10 (2023-07-01). Use Transpose.ROTATE_90 instead.\n",
      "  orientation = (Image.ROTATE_90 if orientation is None else\n",
      "\n",
      "2023-05-19 11:54:45,710 [7012] WARNING  py.warnings:109: [JupyterRequire] C:\\Users\\aguer\\anaconda3\\lib\\site-packages\\wordcloud\\wordcloud.py:519: DeprecationWarning: ROTATE_90 is deprecated and will be removed in Pillow 10 (2023-07-01). Use Transpose.ROTATE_90 instead.\n",
      "  orientation = (Image.ROTATE_90 if orientation is None else\n",
      "\n",
      "2023-05-19 11:54:45,745 [7012] WARNING  py.warnings:109: [JupyterRequire] C:\\Users\\aguer\\anaconda3\\lib\\site-packages\\wordcloud\\wordcloud.py:499: DeprecationWarning: ROTATE_90 is deprecated and will be removed in Pillow 10 (2023-07-01). Use Transpose.ROTATE_90 instead.\n",
      "  orientation = Image.ROTATE_90\n",
      "\n",
      "2023-05-19 11:54:45,761 [7012] WARNING  py.warnings:109: [JupyterRequire] C:\\Users\\aguer\\anaconda3\\lib\\site-packages\\wordcloud\\wordcloud.py:499: DeprecationWarning: ROTATE_90 is deprecated and will be removed in Pillow 10 (2023-07-01). Use Transpose.ROTATE_90 instead.\n",
      "  orientation = Image.ROTATE_90\n",
      "\n",
      "2023-05-19 11:54:45,800 [7012] WARNING  py.warnings:109: [JupyterRequire] C:\\Users\\aguer\\anaconda3\\lib\\site-packages\\wordcloud\\wordcloud.py:519: DeprecationWarning: ROTATE_90 is deprecated and will be removed in Pillow 10 (2023-07-01). Use Transpose.ROTATE_90 instead.\n",
      "  orientation = (Image.ROTATE_90 if orientation is None else\n",
      "\n",
      "2023-05-19 11:54:45,806 [7012] WARNING  py.warnings:109: [JupyterRequire] C:\\Users\\aguer\\anaconda3\\lib\\site-packages\\wordcloud\\wordcloud.py:499: DeprecationWarning: ROTATE_90 is deprecated and will be removed in Pillow 10 (2023-07-01). Use Transpose.ROTATE_90 instead.\n",
      "  orientation = Image.ROTATE_90\n",
      "\n"
     ]
    },
    {
     "name": "stderr",
     "output_type": "stream",
     "text": [
      "2023-05-19 11:54:45,827 [7012] WARNING  py.warnings:109: [JupyterRequire] C:\\Users\\aguer\\anaconda3\\lib\\site-packages\\wordcloud\\wordcloud.py:499: DeprecationWarning: ROTATE_90 is deprecated and will be removed in Pillow 10 (2023-07-01). Use Transpose.ROTATE_90 instead.\n",
      "  orientation = Image.ROTATE_90\n",
      "\n",
      "2023-05-19 11:54:45,836 [7012] WARNING  py.warnings:109: [JupyterRequire] C:\\Users\\aguer\\anaconda3\\lib\\site-packages\\wordcloud\\wordcloud.py:519: DeprecationWarning: ROTATE_90 is deprecated and will be removed in Pillow 10 (2023-07-01). Use Transpose.ROTATE_90 instead.\n",
      "  orientation = (Image.ROTATE_90 if orientation is None else\n",
      "\n"
     ]
    },
    {
     "data": {
      "image/png": "[encoded data removed]",
      "text/plain": [
       "<Figure size 640x480 with 1 Axes>"
      ]
     },
     "metadata": {},
     "output_type": "display_data"
    }
   ],
   "source": [
    "wordcloud = WordCloud(background_color = 'white', stopwords= [], max_words = 75).generate(' '.join(corpus1))\n",
    "plt.imshow(wordcloud)\n",
    "plt.axis('off')\n",
    "plt.show() ;"
   ]
  },
  {
   "cell_type": "code",
   "execution_count": 86,
   "id": "6ed73422",
   "metadata": {
    "scrolled": false
   },
   "outputs": [
    {
     "name": "stderr",
     "output_type": "stream",
     "text": [
      "2023-05-19 11:56:22,864 [7012] WARNING  py.warnings:109: [JupyterRequire] C:\\Users\\aguer\\anaconda3\\lib\\site-packages\\wordcloud\\wordcloud.py:519: DeprecationWarning: ROTATE_90 is deprecated and will be removed in Pillow 10 (2023-07-01). Use Transpose.ROTATE_90 instead.\n",
      "  orientation = (Image.ROTATE_90 if orientation is None else\n",
      "\n",
      "2023-05-19 11:56:22,929 [7012] WARNING  py.warnings:109: [JupyterRequire] C:\\Users\\aguer\\anaconda3\\lib\\site-packages\\wordcloud\\wordcloud.py:519: DeprecationWarning: ROTATE_90 is deprecated and will be removed in Pillow 10 (2023-07-01). Use Transpose.ROTATE_90 instead.\n",
      "  orientation = (Image.ROTATE_90 if orientation is None else\n",
      "\n",
      "2023-05-19 11:56:22,960 [7012] WARNING  py.warnings:109: [JupyterRequire] C:\\Users\\aguer\\anaconda3\\lib\\site-packages\\wordcloud\\wordcloud.py:519: DeprecationWarning: ROTATE_90 is deprecated and will be removed in Pillow 10 (2023-07-01). Use Transpose.ROTATE_90 instead.\n",
      "  orientation = (Image.ROTATE_90 if orientation is None else\n",
      "\n",
      "2023-05-19 11:56:22,989 [7012] WARNING  py.warnings:109: [JupyterRequire] C:\\Users\\aguer\\anaconda3\\lib\\site-packages\\wordcloud\\wordcloud.py:499: DeprecationWarning: ROTATE_90 is deprecated and will be removed in Pillow 10 (2023-07-01). Use Transpose.ROTATE_90 instead.\n",
      "  orientation = Image.ROTATE_90\n",
      "\n",
      "2023-05-19 11:56:22,998 [7012] WARNING  py.warnings:109: [JupyterRequire] C:\\Users\\aguer\\anaconda3\\lib\\site-packages\\wordcloud\\wordcloud.py:519: DeprecationWarning: ROTATE_90 is deprecated and will be removed in Pillow 10 (2023-07-01). Use Transpose.ROTATE_90 instead.\n",
      "  orientation = (Image.ROTATE_90 if orientation is None else\n",
      "\n",
      "2023-05-19 11:56:23,006 [7012] WARNING  py.warnings:109: [JupyterRequire] C:\\Users\\aguer\\anaconda3\\lib\\site-packages\\wordcloud\\wordcloud.py:499: DeprecationWarning: ROTATE_90 is deprecated and will be removed in Pillow 10 (2023-07-01). Use Transpose.ROTATE_90 instead.\n",
      "  orientation = Image.ROTATE_90\n",
      "\n",
      "2023-05-19 11:56:23,014 [7012] WARNING  py.warnings:109: [JupyterRequire] C:\\Users\\aguer\\anaconda3\\lib\\site-packages\\wordcloud\\wordcloud.py:519: DeprecationWarning: ROTATE_90 is deprecated and will be removed in Pillow 10 (2023-07-01). Use Transpose.ROTATE_90 instead.\n",
      "  orientation = (Image.ROTATE_90 if orientation is None else\n",
      "\n",
      "2023-05-19 11:56:23,024 [7012] WARNING  py.warnings:109: [JupyterRequire] C:\\Users\\aguer\\anaconda3\\lib\\site-packages\\wordcloud\\wordcloud.py:519: DeprecationWarning: ROTATE_90 is deprecated and will be removed in Pillow 10 (2023-07-01). Use Transpose.ROTATE_90 instead.\n",
      "  orientation = (Image.ROTATE_90 if orientation is None else\n",
      "\n",
      "2023-05-19 11:56:23,031 [7012] WARNING  py.warnings:109: [JupyterRequire] C:\\Users\\aguer\\anaconda3\\lib\\site-packages\\wordcloud\\wordcloud.py:519: DeprecationWarning: ROTATE_90 is deprecated and will be removed in Pillow 10 (2023-07-01). Use Transpose.ROTATE_90 instead.\n",
      "  orientation = (Image.ROTATE_90 if orientation is None else\n",
      "\n",
      "2023-05-19 11:56:23,044 [7012] WARNING  py.warnings:109: [JupyterRequire] C:\\Users\\aguer\\anaconda3\\lib\\site-packages\\wordcloud\\wordcloud.py:499: DeprecationWarning: ROTATE_90 is deprecated and will be removed in Pillow 10 (2023-07-01). Use Transpose.ROTATE_90 instead.\n",
      "  orientation = Image.ROTATE_90\n",
      "\n",
      "2023-05-19 11:56:23,047 [7012] WARNING  py.warnings:109: [JupyterRequire] C:\\Users\\aguer\\anaconda3\\lib\\site-packages\\wordcloud\\wordcloud.py:520: DeprecationWarning: ROTATE_90 is deprecated and will be removed in Pillow 10 (2023-07-01). Use Transpose.ROTATE_90 instead.\n",
      "  Image.ROTATE_90)\n",
      "\n",
      "2023-05-19 11:56:23,058 [7012] WARNING  py.warnings:109: [JupyterRequire] C:\\Users\\aguer\\anaconda3\\lib\\site-packages\\wordcloud\\wordcloud.py:499: DeprecationWarning: ROTATE_90 is deprecated and will be removed in Pillow 10 (2023-07-01). Use Transpose.ROTATE_90 instead.\n",
      "  orientation = Image.ROTATE_90\n",
      "\n",
      "2023-05-19 11:56:23,063 [7012] WARNING  py.warnings:109: [JupyterRequire] C:\\Users\\aguer\\anaconda3\\lib\\site-packages\\wordcloud\\wordcloud.py:499: DeprecationWarning: ROTATE_90 is deprecated and will be removed in Pillow 10 (2023-07-01). Use Transpose.ROTATE_90 instead.\n",
      "  orientation = Image.ROTATE_90\n",
      "\n",
      "2023-05-19 11:56:23,079 [7012] WARNING  py.warnings:109: [JupyterRequire] C:\\Users\\aguer\\anaconda3\\lib\\site-packages\\wordcloud\\wordcloud.py:499: DeprecationWarning: ROTATE_90 is deprecated and will be removed in Pillow 10 (2023-07-01). Use Transpose.ROTATE_90 instead.\n",
      "  orientation = Image.ROTATE_90\n",
      "\n",
      "2023-05-19 11:56:23,094 [7012] WARNING  py.warnings:109: [JupyterRequire] C:\\Users\\aguer\\anaconda3\\lib\\site-packages\\wordcloud\\wordcloud.py:519: DeprecationWarning: ROTATE_90 is deprecated and will be removed in Pillow 10 (2023-07-01). Use Transpose.ROTATE_90 instead.\n",
      "  orientation = (Image.ROTATE_90 if orientation is None else\n",
      "\n",
      "2023-05-19 11:56:23,100 [7012] WARNING  py.warnings:109: [JupyterRequire] C:\\Users\\aguer\\anaconda3\\lib\\site-packages\\wordcloud\\wordcloud.py:519: DeprecationWarning: ROTATE_90 is deprecated and will be removed in Pillow 10 (2023-07-01). Use Transpose.ROTATE_90 instead.\n",
      "  orientation = (Image.ROTATE_90 if orientation is None else\n",
      "\n",
      "2023-05-19 11:56:23,139 [7012] WARNING  py.warnings:109: [JupyterRequire] C:\\Users\\aguer\\anaconda3\\lib\\site-packages\\wordcloud\\wordcloud.py:519: DeprecationWarning: ROTATE_90 is deprecated and will be removed in Pillow 10 (2023-07-01). Use Transpose.ROTATE_90 instead.\n",
      "  orientation = (Image.ROTATE_90 if orientation is None else\n",
      "\n",
      "2023-05-19 11:56:23,157 [7012] WARNING  py.warnings:109: [JupyterRequire] C:\\Users\\aguer\\anaconda3\\lib\\site-packages\\wordcloud\\wordcloud.py:519: DeprecationWarning: ROTATE_90 is deprecated and will be removed in Pillow 10 (2023-07-01). Use Transpose.ROTATE_90 instead.\n",
      "  orientation = (Image.ROTATE_90 if orientation is None else\n",
      "\n",
      "2023-05-19 11:56:23,163 [7012] WARNING  py.warnings:109: [JupyterRequire] C:\\Users\\aguer\\anaconda3\\lib\\site-packages\\wordcloud\\wordcloud.py:499: DeprecationWarning: ROTATE_90 is deprecated and will be removed in Pillow 10 (2023-07-01). Use Transpose.ROTATE_90 instead.\n",
      "  orientation = Image.ROTATE_90\n",
      "\n",
      "2023-05-19 11:56:23,166 [7012] WARNING  py.warnings:109: [JupyterRequire] C:\\Users\\aguer\\anaconda3\\lib\\site-packages\\wordcloud\\wordcloud.py:520: DeprecationWarning: ROTATE_90 is deprecated and will be removed in Pillow 10 (2023-07-01). Use Transpose.ROTATE_90 instead.\n",
      "  Image.ROTATE_90)\n",
      "\n",
      "2023-05-19 11:56:23,184 [7012] WARNING  py.warnings:109: [JupyterRequire] C:\\Users\\aguer\\anaconda3\\lib\\site-packages\\wordcloud\\wordcloud.py:499: DeprecationWarning: ROTATE_90 is deprecated and will be removed in Pillow 10 (2023-07-01). Use Transpose.ROTATE_90 instead.\n",
      "  orientation = Image.ROTATE_90\n",
      "\n",
      "2023-05-19 11:56:23,191 [7012] WARNING  py.warnings:109: [JupyterRequire] C:\\Users\\aguer\\anaconda3\\lib\\site-packages\\wordcloud\\wordcloud.py:519: DeprecationWarning: ROTATE_90 is deprecated and will be removed in Pillow 10 (2023-07-01). Use Transpose.ROTATE_90 instead.\n",
      "  orientation = (Image.ROTATE_90 if orientation is None else\n",
      "\n",
      "2023-05-19 11:56:23,205 [7012] WARNING  py.warnings:109: [JupyterRequire] C:\\Users\\aguer\\anaconda3\\lib\\site-packages\\wordcloud\\wordcloud.py:499: DeprecationWarning: ROTATE_90 is deprecated and will be removed in Pillow 10 (2023-07-01). Use Transpose.ROTATE_90 instead.\n",
      "  orientation = Image.ROTATE_90\n",
      "\n",
      "2023-05-19 11:56:23,209 [7012] WARNING  py.warnings:109: [JupyterRequire] C:\\Users\\aguer\\anaconda3\\lib\\site-packages\\wordcloud\\wordcloud.py:499: DeprecationWarning: ROTATE_90 is deprecated and will be removed in Pillow 10 (2023-07-01). Use Transpose.ROTATE_90 instead.\n",
      "  orientation = Image.ROTATE_90\n",
      "\n"
     ]
    },
    {
     "data": {
      "image/png": "[encoded data removed]",
      "text/plain": [
       "<Figure size 640x480 with 1 Axes>"
      ]
     },
     "metadata": {},
     "output_type": "display_data"
    }
   ],
   "source": [
    "wordcloud = WordCloud(background_color = 'white', stopwords= [], max_words = 75).generate(' '.join(corpus2))\n",
    "plt.imshow(wordcloud)\n",
    "plt.axis('off')\n",
    "plt.show() ;"
   ]
  },
  {
   "cell_type": "code",
   "execution_count": 68,
   "id": "a044fc96",
   "metadata": {},
   "outputs": [
    {
     "data": {
      "text/plain": [
       "using          13953\n",
       "file            8649\n",
       "use             6686\n",
       "error           5518\n",
       "net             5438\n",
       "get             5204\n",
       "data            4964\n",
       "android         4641\n",
       "java            4522\n",
       "python          4191\n",
       "string          4089\n",
       "function        4074\n",
       "object          4002\n",
       "value           3944\n",
       "class           3932\n",
       "type            3865\n",
       "window          3674\n",
       "image           3610\n",
       "app             3584\n",
       "way             3546\n",
       "method          3323\n",
       "code            3264\n",
       "multiple        3234\n",
       "array           3203\n",
       "server          3044\n",
       "set             3024\n",
       "without         3019\n",
       "io              2969\n",
       "test            2958\n",
       "web             2859\n",
       "list            2777\n",
       "spring          2763\n",
       "application     2763\n",
       "api             2660\n",
       "text            2590\n",
       "create          2564\n",
       "work            2458\n",
       "sql             2426\n",
       "json            2405\n",
       "custom          2392\n",
       "asp             2378\n",
       "add             2346\n",
       "time            2307\n",
       "one             2289\n",
       "make            2285\n",
       "change          2265\n",
       "javascript      2263\n",
       "studio          2175\n",
       "user            2173\n",
       "request         2167\n",
       "Name: count, dtype: int64"
      ]
     },
     "execution_count": 68,
     "metadata": {},
     "output_type": "execute_result"
    }
   ],
   "source": [
    "pd.Series(corpus1).value_counts().head(50)"
   ]
  },
  {
   "cell_type": "code",
   "execution_count": 69,
   "id": "145d3e90",
   "metadata": {},
   "outputs": [
    {
     "data": {
      "text/plain": [
       "using          117787\n",
       "code            99659\n",
       "file            84427\n",
       "use             83637\n",
       "get             78163\n",
       "work            71307\n",
       "way             64787\n",
       "error           61358\n",
       "one             58109\n",
       "need            52808\n",
       "problem         52061\n",
       "following       47621\n",
       "data            47175\n",
       "know            43764\n",
       "method          43764\n",
       "app             43105\n",
       "application     42983\n",
       "user            42668\n",
       "class           42374\n",
       "trying          41173\n",
       "tried           40276\n",
       "function        39938\n",
       "time            39205\n",
       "question        38698\n",
       "server          36090\n",
       "value           35843\n",
       "run             35405\n",
       "project         34538\n",
       "make            34355\n",
       "object          33654\n",
       "test            33620\n",
       "set             33298\n",
       "see             30944\n",
       "new             30069\n",
       "could           29720\n",
       "type            29680\n",
       "image           28154\n",
       "find            27497\n",
       "call            27409\n",
       "help            27246\n",
       "solution        26972\n",
       "page            26450\n",
       "working         26083\n",
       "thanks          25503\n",
       "change          25104\n",
       "first           25102\n",
       "create          24928\n",
       "window          24766\n",
       "used            24755\n",
       "seems           24501\n",
       "Name: count, dtype: int64"
      ]
     },
     "execution_count": 69,
     "metadata": {},
     "output_type": "execute_result"
    }
   ],
   "source": [
    "pd.Series(corpus2).value_counts().head(50)"
   ]
  },
  {
   "cell_type": "markdown",
   "id": "7387fe07",
   "metadata": {},
   "source": [
    "### LDA"
   ]
  },
  {
   "cell_type": "markdown",
   "id": "9c8dbfeb",
   "metadata": {},
   "source": [
    "Pour appliquer nos modèles de machine learning, il est indispensable de transformer nos données textuelles en données numériques"
   ]
  },
  {
   "cell_type": "code",
   "execution_count": 11,
   "id": "f71bb22e",
   "metadata": {},
   "outputs": [
    {
     "name": "stdout",
     "output_type": "stream",
     "text": [
      "Intervalle de temps : 19.024980545043945 secondes\n"
     ]
    }
   ],
   "source": [
    "# Lemmatization\n",
    "start_time = time.time()\n",
    "\n",
    "title_lem = data.Title.apply(lambda x : process_text_vf(x, lemm_or_stem ='lem', list_rare_words = list_unique_words_title, rejoin = False))\n",
    "\n",
    "end_time = time.time()\n",
    "\n",
    "interval = end_time - start_time\n",
    "\n",
    "print(f\"Intervalle de temps : {interval} secondes\")"
   ]
  },
  {
   "cell_type": "code",
   "execution_count": 12,
   "id": "8ed8ac13",
   "metadata": {},
   "outputs": [
    {
     "name": "stdout",
     "output_type": "stream",
     "text": [
      "Intervalle de temps : 113.84198546409607 secondes\n"
     ]
    }
   ],
   "source": [
    "# Lemmatization body \n",
    "start_time = time.time()\n",
    "\n",
    "body_lem = data.Body.apply(lambda x : process_text_vf(x, lemm_or_stem ='lem', list_rare_words = list_unique_words_body, rejoin = False))\n",
    "\n",
    "end_time = time.time()\n",
    "\n",
    "interval = end_time - start_time\n",
    "\n",
    "print(f\"Intervalle de temps : {interval} secondes\")"
   ]
  },
  {
   "cell_type": "code",
   "execution_count": 13,
   "id": "599e5204",
   "metadata": {},
   "outputs": [],
   "source": [
    "df = pd.DataFrame()"
   ]
  },
  {
   "cell_type": "code",
   "execution_count": 14,
   "id": "8bec37c4",
   "metadata": {},
   "outputs": [],
   "source": [
    "df['title_lem'] = title_lem\n",
    "df['body_lem'] = body_lem\n",
    "df['tags'] = data['Tags']"
   ]
  },
  {
   "cell_type": "code",
   "execution_count": 15,
   "id": "7a64611b",
   "metadata": {},
   "outputs": [
    {
     "data": {
      "text/html": [
       "<div>\n",
       "<style scoped>\n",
       "    .dataframe tbody tr th:only-of-type {\n",
       "        vertical-align: middle;\n",
       "    }\n",
       "\n",
       "    .dataframe tbody tr th {\n",
       "        vertical-align: top;\n",
       "    }\n",
       "\n",
       "    .dataframe thead th {\n",
       "        text-align: right;\n",
       "    }\n",
       "</style>\n",
       "<table border=\"1\" class=\"dataframe\">\n",
       "  <thead>\n",
       "    <tr style=\"text-align: right;\">\n",
       "      <th></th>\n",
       "      <th>title_lem</th>\n",
       "      <th>body_lem</th>\n",
       "      <th>tags</th>\n",
       "    </tr>\n",
       "  </thead>\n",
       "  <tbody>\n",
       "    <tr>\n",
       "      <th>0</th>\n",
       "      <td>[convert, decimal, double]</td>\n",
       "      <td>[assign, decimal, variable, trans, double, var...</td>\n",
       "      <td>c#,floating-point,type-conversion,double,decimal</td>\n",
       "    </tr>\n",
       "    <tr>\n",
       "      <th>1</th>\n",
       "      <td>[calculate, relative, time]</td>\n",
       "      <td>[given, specific, value, display, relative, time]</td>\n",
       "      <td>c#,datetime,time,datediff,relative-time-span</td>\n",
       "    </tr>\n",
       "    <tr>\n",
       "      <th>2</th>\n",
       "      <td>[determine, user, timezone]</td>\n",
       "      <td>[standard, way, web, server, able, determine, ...</td>\n",
       "      <td>html,browser,timezone,user-agent,timezone-offset</td>\n",
       "    </tr>\n",
       "    <tr>\n",
       "      <th>3</th>\n",
       "      <td>[fastest, way, get, value]</td>\n",
       "      <td>[looking, fastest, way, obtain, value, persona...</td>\n",
       "      <td>performance,algorithm,language-agnostic,unix,pi</td>\n",
       "    </tr>\n",
       "    <tr>\n",
       "      <th>4</th>\n",
       "      <td>[use, socket, api]</td>\n",
       "      <td>[issue, getting, socket, api, work, properly, ...</td>\n",
       "      <td>c++,c,sockets,mainframe,zos</td>\n",
       "    </tr>\n",
       "  </tbody>\n",
       "</table>\n",
       "</div>"
      ],
      "text/plain": [
       "                     title_lem   \n",
       "0   [convert, decimal, double]  \\\n",
       "1  [calculate, relative, time]   \n",
       "2  [determine, user, timezone]   \n",
       "3   [fastest, way, get, value]   \n",
       "4           [use, socket, api]   \n",
       "\n",
       "                                            body_lem   \n",
       "0  [assign, decimal, variable, trans, double, var...  \\\n",
       "1  [given, specific, value, display, relative, time]   \n",
       "2  [standard, way, web, server, able, determine, ...   \n",
       "3  [looking, fastest, way, obtain, value, persona...   \n",
       "4  [issue, getting, socket, api, work, properly, ...   \n",
       "\n",
       "                                               tags  \n",
       "0  c#,floating-point,type-conversion,double,decimal  \n",
       "1      c#,datetime,time,datediff,relative-time-span  \n",
       "2  html,browser,timezone,user-agent,timezone-offset  \n",
       "3   performance,algorithm,language-agnostic,unix,pi  \n",
       "4                       c++,c,sockets,mainframe,zos  "
      ]
     },
     "execution_count": 15,
     "metadata": {},
     "output_type": "execute_result"
    }
   ],
   "source": [
    "df.head()"
   ]
  },
  {
   "cell_type": "markdown",
   "id": "61ed9047",
   "metadata": {},
   "source": [
    "#### Suppression des outliers"
   ]
  },
  {
   "cell_type": "code",
   "execution_count": 16,
   "id": "a68f36b3",
   "metadata": {},
   "outputs": [
    {
     "data": {
      "text/plain": [
       "title_lem    object\n",
       "body_lem     object\n",
       "tags         object\n",
       "dtype: object"
      ]
     },
     "execution_count": 16,
     "metadata": {},
     "output_type": "execute_result"
    }
   ],
   "source": [
    "df.dtypes"
   ]
  },
  {
   "cell_type": "code",
   "execution_count": 17,
   "id": "50eeb0a2",
   "metadata": {},
   "outputs": [],
   "source": [
    "len_body_lem = df['body_lem'].apply(lambda x: len(x))"
   ]
  },
  {
   "cell_type": "code",
   "execution_count": 18,
   "id": "349ec6ac",
   "metadata": {},
   "outputs": [],
   "source": [
    "#len_body_lem = df['body_lem'].apply(lambda x: len(word_tokenize(x)))"
   ]
  },
  {
   "cell_type": "code",
   "execution_count": 19,
   "id": "22f1aa8e",
   "metadata": {},
   "outputs": [],
   "source": [
    "# Questions avec un corps de question de plus de 200 mots\n",
    "len_outliers = len(len_body_lem[len_body_lem>200])"
   ]
  },
  {
   "cell_type": "code",
   "execution_count": 20,
   "id": "eb32e125",
   "metadata": {},
   "outputs": [
    {
     "name": "stdout",
     "output_type": "stream",
     "text": [
      "Les body de plus de 200 mots representent 0.22116 %\n"
     ]
    }
   ],
   "source": [
    "print('Les body de plus de 200 mots representent', round(len_outliers/len(df)*100, 5), '%')"
   ]
  },
  {
   "cell_type": "code",
   "execution_count": 21,
   "id": "95520b72",
   "metadata": {},
   "outputs": [],
   "source": [
    "df['len_body'] = len_body_lem"
   ]
  },
  {
   "cell_type": "code",
   "execution_count": 22,
   "id": "761f7ba7",
   "metadata": {},
   "outputs": [],
   "source": [
    "# On conserve les questions qui ont au minimum 5 tokens dans leur body, pour eviter le manque d'information\n",
    "df = df[df.len_body>=5]"
   ]
  },
  {
   "cell_type": "code",
   "execution_count": 23,
   "id": "4c7e888f",
   "metadata": {},
   "outputs": [
    {
     "data": {
      "text/plain": [
       "(195009, 4)"
      ]
     },
     "execution_count": 23,
     "metadata": {},
     "output_type": "execute_result"
    }
   ],
   "source": [
    "df.shape"
   ]
  },
  {
   "cell_type": "code",
   "execution_count": 24,
   "id": "fe6ce8cc",
   "metadata": {},
   "outputs": [],
   "source": [
    "df = df[['title_lem', 'body_lem', 'tags']]"
   ]
  },
  {
   "cell_type": "code",
   "execution_count": 25,
   "id": "898bd2ea",
   "metadata": {},
   "outputs": [],
   "source": [
    "df = df.rename(columns={\"title_lem\": \"title\", \"body_lem\": \"body\"})"
   ]
  },
  {
   "cell_type": "code",
   "execution_count": 26,
   "id": "f1608024",
   "metadata": {},
   "outputs": [],
   "source": [
    "df2 = df.copy()"
   ]
  },
  {
   "cell_type": "code",
   "execution_count": 27,
   "id": "048383f3",
   "metadata": {},
   "outputs": [
    {
     "data": {
      "text/html": [
       "<div>\n",
       "<style scoped>\n",
       "    .dataframe tbody tr th:only-of-type {\n",
       "        vertical-align: middle;\n",
       "    }\n",
       "\n",
       "    .dataframe tbody tr th {\n",
       "        vertical-align: top;\n",
       "    }\n",
       "\n",
       "    .dataframe thead th {\n",
       "        text-align: right;\n",
       "    }\n",
       "</style>\n",
       "<table border=\"1\" class=\"dataframe\">\n",
       "  <thead>\n",
       "    <tr style=\"text-align: right;\">\n",
       "      <th></th>\n",
       "      <th>title</th>\n",
       "      <th>body</th>\n",
       "      <th>tags</th>\n",
       "    </tr>\n",
       "  </thead>\n",
       "  <tbody>\n",
       "    <tr>\n",
       "      <th>0</th>\n",
       "      <td>[convert, decimal, double]</td>\n",
       "      <td>[assign, decimal, variable, trans, double, var...</td>\n",
       "      <td>c#,floating-point,type-conversion,double,decimal</td>\n",
       "    </tr>\n",
       "    <tr>\n",
       "      <th>1</th>\n",
       "      <td>[calculate, relative, time]</td>\n",
       "      <td>[given, specific, value, display, relative, time]</td>\n",
       "      <td>c#,datetime,time,datediff,relative-time-span</td>\n",
       "    </tr>\n",
       "    <tr>\n",
       "      <th>2</th>\n",
       "      <td>[determine, user, timezone]</td>\n",
       "      <td>[standard, way, web, server, able, determine, ...</td>\n",
       "      <td>html,browser,timezone,user-agent,timezone-offset</td>\n",
       "    </tr>\n",
       "    <tr>\n",
       "      <th>3</th>\n",
       "      <td>[fastest, way, get, value]</td>\n",
       "      <td>[looking, fastest, way, obtain, value, persona...</td>\n",
       "      <td>performance,algorithm,language-agnostic,unix,pi</td>\n",
       "    </tr>\n",
       "    <tr>\n",
       "      <th>4</th>\n",
       "      <td>[use, socket, api]</td>\n",
       "      <td>[issue, getting, socket, api, work, properly, ...</td>\n",
       "      <td>c++,c,sockets,mainframe,zos</td>\n",
       "    </tr>\n",
       "  </tbody>\n",
       "</table>\n",
       "</div>"
      ],
      "text/plain": [
       "                         title   \n",
       "0   [convert, decimal, double]  \\\n",
       "1  [calculate, relative, time]   \n",
       "2  [determine, user, timezone]   \n",
       "3   [fastest, way, get, value]   \n",
       "4           [use, socket, api]   \n",
       "\n",
       "                                                body   \n",
       "0  [assign, decimal, variable, trans, double, var...  \\\n",
       "1  [given, specific, value, display, relative, time]   \n",
       "2  [standard, way, web, server, able, determine, ...   \n",
       "3  [looking, fastest, way, obtain, value, persona...   \n",
       "4  [issue, getting, socket, api, work, properly, ...   \n",
       "\n",
       "                                               tags  \n",
       "0  c#,floating-point,type-conversion,double,decimal  \n",
       "1      c#,datetime,time,datediff,relative-time-span  \n",
       "2  html,browser,timezone,user-agent,timezone-offset  \n",
       "3   performance,algorithm,language-agnostic,unix,pi  \n",
       "4                       c++,c,sockets,mainframe,zos  "
      ]
     },
     "execution_count": 27,
     "metadata": {},
     "output_type": "execute_result"
    }
   ],
   "source": [
    "df2.head()"
   ]
  },
  {
   "cell_type": "code",
   "execution_count": 45,
   "id": "581c6115",
   "metadata": {},
   "outputs": [],
   "source": [
    "df = df2"
   ]
  },
  {
   "cell_type": "code",
   "execution_count": 28,
   "id": "40f7b03a",
   "metadata": {},
   "outputs": [],
   "source": [
    "# Modifier notre dataframe\n",
    "# df['title'] = [str(word) for word in df['title']]\n",
    "# df['body'] = [str(word) for word in df['body']]\n",
    "# df['tags'] = [str(word) for word in df['tags']]\n",
    "df['texte'] = df[\"title\"] + df[\"body\"]\n",
    "#df['texte'] = df[\"title\"] +[' ']+ df[\"body\"]"
   ]
  },
  {
   "cell_type": "code",
   "execution_count": 29,
   "id": "6f4e8453",
   "metadata": {},
   "outputs": [],
   "source": [
    "# Definir le texte\n",
    "# texte = df[\"texte\"].tolist() \n",
    "# texte = [document.split() for document in texte]"
   ]
  },
  {
   "cell_type": "code",
   "execution_count": 30,
   "id": "811095ac",
   "metadata": {},
   "outputs": [],
   "source": [
    "# Définir les tags \n",
    "tags = df['tags'].tolist() \n",
    "tags = [document.split(',') for document in tags]"
   ]
  },
  {
   "cell_type": "code",
   "execution_count": 31,
   "id": "8c4333f8",
   "metadata": {},
   "outputs": [],
   "source": [
    "# df['texte'] = texte"
   ]
  },
  {
   "cell_type": "code",
   "execution_count": 32,
   "id": "93dd1073",
   "metadata": {},
   "outputs": [],
   "source": [
    "df['tags'] = tags"
   ]
  },
  {
   "cell_type": "markdown",
   "id": "7404e3d4",
   "metadata": {},
   "source": [
    "On décide de ne conserver que les questions qui contiennent au moins un des 100 tags les plus utilisés dans toutes les questions. On supprime les tags restant pour éviter de surcharger notre dataset.\n",
    "Cela va permettre de réduire la taille de notre dataset et d'esperer obtenir de meilleurs performances. "
   ]
  },
  {
   "cell_type": "code",
   "execution_count": 53,
   "id": "78b109f1",
   "metadata": {},
   "outputs": [],
   "source": [
    "# Compter l'occurrence de chaque tag dans la nouvelle liste\n",
    "tag_counts = Counter(tag for document_tags in tags for tag in document_tags)\n",
    "\n",
    "# Sélectionner les 100 tags les plus utilisés\n",
    "top_100_tags = {tag for tag, _ in tag_counts.most_common(100)}"
   ]
  },
  {
   "cell_type": "code",
   "execution_count": 58,
   "id": "293a8d30",
   "metadata": {},
   "outputs": [],
   "source": [
    "# # Filtrer le dataframe pour ne conserver que les lignes contenant au moins un des 100 tags les plus utilisés\n",
    "df['tags'] = df['tags'].apply(lambda x: [tag for tag in x if tag in top_100_tags])\n",
    "\n",
    "# On recupère les listes non vides, donc les questions qui contiennent un des 100 tags les plus présents\n",
    "df = df[df['tags'].apply(lambda x: len(x) > 0)]"
   ]
  },
  {
   "cell_type": "code",
   "execution_count": 59,
   "id": "2112ed7a",
   "metadata": {},
   "outputs": [
    {
     "data": {
      "text/plain": [
       "0                                      [c#]\n",
       "1                                      [c#]\n",
       "2                                    [html]\n",
       "3                  [performance, algorithm]\n",
       "4                                  [c++, c]\n",
       "                        ...                \n",
       "195779                       [css, angular]\n",
       "195780                 [python, python-3.x]\n",
       "195781    [javascript, node.js, typescript]\n",
       "195782                            [reactjs]\n",
       "195783                   [machine-learning]\n",
       "Name: tags, Length: 182208, dtype: object"
      ]
     },
     "execution_count": 59,
     "metadata": {},
     "output_type": "execute_result"
    }
   ],
   "source": [
    "df['tags']"
   ]
  },
  {
   "cell_type": "code",
   "execution_count": 61,
   "id": "011e143b",
   "metadata": {},
   "outputs": [
    {
     "data": {
      "text/html": [
       "<div>\n",
       "<style scoped>\n",
       "    .dataframe tbody tr th:only-of-type {\n",
       "        vertical-align: middle;\n",
       "    }\n",
       "\n",
       "    .dataframe tbody tr th {\n",
       "        vertical-align: top;\n",
       "    }\n",
       "\n",
       "    .dataframe thead th {\n",
       "        text-align: right;\n",
       "    }\n",
       "</style>\n",
       "<table border=\"1\" class=\"dataframe\">\n",
       "  <thead>\n",
       "    <tr style=\"text-align: right;\">\n",
       "      <th></th>\n",
       "      <th>title</th>\n",
       "      <th>body</th>\n",
       "      <th>tags</th>\n",
       "      <th>texte</th>\n",
       "    </tr>\n",
       "  </thead>\n",
       "  <tbody>\n",
       "    <tr>\n",
       "      <th>0</th>\n",
       "      <td>[convert, decimal, double]</td>\n",
       "      <td>[assign, decimal, variable, trans, double, var...</td>\n",
       "      <td>[c#]</td>\n",
       "      <td>[convert, decimal, double, assign, decimal, va...</td>\n",
       "    </tr>\n",
       "    <tr>\n",
       "      <th>1</th>\n",
       "      <td>[calculate, relative, time]</td>\n",
       "      <td>[given, specific, value, display, relative, time]</td>\n",
       "      <td>[c#]</td>\n",
       "      <td>[calculate, relative, time, given, specific, v...</td>\n",
       "    </tr>\n",
       "    <tr>\n",
       "      <th>2</th>\n",
       "      <td>[determine, user, timezone]</td>\n",
       "      <td>[standard, way, web, server, able, determine, ...</td>\n",
       "      <td>[html]</td>\n",
       "      <td>[determine, user, timezone, standard, way, web...</td>\n",
       "    </tr>\n",
       "    <tr>\n",
       "      <th>3</th>\n",
       "      <td>[fastest, way, get, value]</td>\n",
       "      <td>[looking, fastest, way, obtain, value, persona...</td>\n",
       "      <td>[performance, algorithm]</td>\n",
       "      <td>[fastest, way, get, value, looking, fastest, w...</td>\n",
       "    </tr>\n",
       "    <tr>\n",
       "      <th>4</th>\n",
       "      <td>[use, socket, api]</td>\n",
       "      <td>[issue, getting, socket, api, work, properly, ...</td>\n",
       "      <td>[c++, c]</td>\n",
       "      <td>[use, socket, api, issue, getting, socket, api...</td>\n",
       "    </tr>\n",
       "  </tbody>\n",
       "</table>\n",
       "</div>"
      ],
      "text/plain": [
       "                         title   \n",
       "0   [convert, decimal, double]  \\\n",
       "1  [calculate, relative, time]   \n",
       "2  [determine, user, timezone]   \n",
       "3   [fastest, way, get, value]   \n",
       "4           [use, socket, api]   \n",
       "\n",
       "                                                body   \n",
       "0  [assign, decimal, variable, trans, double, var...  \\\n",
       "1  [given, specific, value, display, relative, time]   \n",
       "2  [standard, way, web, server, able, determine, ...   \n",
       "3  [looking, fastest, way, obtain, value, persona...   \n",
       "4  [issue, getting, socket, api, work, properly, ...   \n",
       "\n",
       "                       tags                                              texte  \n",
       "0                      [c#]  [convert, decimal, double, assign, decimal, va...  \n",
       "1                      [c#]  [calculate, relative, time, given, specific, v...  \n",
       "2                    [html]  [determine, user, timezone, standard, way, web...  \n",
       "3  [performance, algorithm]  [fastest, way, get, value, looking, fastest, w...  \n",
       "4                  [c++, c]  [use, socket, api, issue, getting, socket, api...  "
      ]
     },
     "execution_count": 61,
     "metadata": {},
     "output_type": "execute_result"
    }
   ],
   "source": [
    "df.head()"
   ]
  },
  {
   "cell_type": "code",
   "execution_count": 62,
   "id": "31fc92f8",
   "metadata": {},
   "outputs": [
    {
     "data": {
      "text/plain": [
       "(182208, 4)"
      ]
     },
     "execution_count": 62,
     "metadata": {},
     "output_type": "execute_result"
    }
   ],
   "source": [
    "df.shape"
   ]
  },
  {
   "cell_type": "code",
   "execution_count": 63,
   "id": "f8b3d594",
   "metadata": {},
   "outputs": [],
   "source": [
    "# Enregistrer en csv\n",
    "df.to_csv('data/cleaned/df_tokenize.csv', index = False)"
   ]
  },
  {
   "cell_type": "code",
   "execution_count": null,
   "id": "dc74efee",
   "metadata": {},
   "outputs": [],
   "source": []
  },
  {
   "cell_type": "code",
   "execution_count": null,
   "id": "650284ea",
   "metadata": {},
   "outputs": [],
   "source": []
  }
 ],
 "metadata": {
  "kernelspec": {
   "display_name": "Python 3 (ipykernel)",
   "language": "python",
   "name": "python3"
  },
  "language_info": {
   "codemirror_mode": {
    "name": "ipython",
    "version": 3
   },
   "file_extension": ".py",
   "mimetype": "text/x-python",
   "name": "python",
   "nbconvert_exporter": "python",
   "pygments_lexer": "ipython3",
   "version": "3.9.13"
  }
 },
 "nbformat": 4,
 "nbformat_minor": 5
}
