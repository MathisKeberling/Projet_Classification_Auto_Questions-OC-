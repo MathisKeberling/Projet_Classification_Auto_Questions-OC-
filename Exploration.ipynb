{
 "cells": [
  {
   "cell_type": "code",
   "execution_count": 90,
   "id": "f88da246",
   "metadata": {},
   "outputs": [],
   "source": [
    "# Chargement des librairies nécessaires\n",
    "import os, sys, time\n",
    "\n",
    "import pandas as pd\n",
    "import numpy as np\n",
    "import matplotlib.pyplot as plt \n",
    "import seaborn as sns\n",
    "\n",
    "# Importer beautiful soup\n",
    "from bs4 import BeautifulSoup as bs\n",
    "\n",
    "# Remplacement de character\n",
    "import re"
   ]
  },
  {
   "cell_type": "code",
   "execution_count": null,
   "id": "ac85e42d",
   "metadata": {},
   "outputs": [],
   "source": [
    "'''\n",
    "SELECT TOP 50000 Title, Body, Tags, Id, Score, FavoriteCount, AnswerCount  \n",
    "FROM Posts\n",
    "WHERE PostTypeId = 1 \n",
    "AND ViewCount > 10 \n",
    "AND Score > 5 \n",
    "AND AnswerCount > 0 \n",
    "AND LEN(Tags) - LEN(REPLACE(Tags, '<','')) >= 5 \n",
    "AND Id NOT IN (SELECT TOP 150000 Id FROM Posts WHERE PostTypeId = 1 AND ViewCount > 10 AND Score > 5 AND AnswerCount > 0 AND LEN(Tags) - LEN(REPLACE(Tags, '<','')) >= 5 ORDER BY Id) \n",
    "ORDER BY Id\n",
    "'''"
   ]
  },
  {
   "cell_type": "code",
   "execution_count": 134,
   "id": "5eace2cf",
   "metadata": {},
   "outputs": [
    {
     "data": {
      "text/plain": [
       "['.ipynb_checkpoints',\n",
       " 'QueryResults_1.csv',\n",
       " 'QueryResults_2.csv',\n",
       " 'QueryResults_3.csv',\n",
       " 'QueryResults_4.csv']"
      ]
     },
     "execution_count": 134,
     "metadata": {},
     "output_type": "execute_result"
    }
   ],
   "source": [
    "data = \"./data/source/\"\n",
    "os.listdir(data)"
   ]
  },
  {
   "cell_type": "code",
   "execution_count": 135,
   "id": "a44a6e84",
   "metadata": {},
   "outputs": [],
   "source": [
    "dataset1 = data + \"QueryResults_1.csv\"\n",
    "dataset2 = data + \"QueryResults_2.csv\"\n",
    "dataset3 = data + \"QueryResults_3.csv\"\n",
    "dataset4 = data + \"QueryResults_4.csv\""
   ]
  },
  {
   "cell_type": "code",
   "execution_count": 136,
   "id": "5171d174",
   "metadata": {},
   "outputs": [],
   "source": [
    "# Chargement des datasets\n",
    "data1 = pd.read_csv(dataset1)\n",
    "data2 = pd.read_csv(dataset2)\n",
    "data3 = pd.read_csv(dataset3)\n",
    "data4 = pd.read_csv(dataset4)"
   ]
  },
  {
   "cell_type": "code",
   "execution_count": 137,
   "id": "40d9c56e",
   "metadata": {},
   "outputs": [],
   "source": [
    "# Merger les résultats\n",
    "merge = [data1, data2, data3, data4]\n",
    "data = pd.concat(merge, ignore_index=True)"
   ]
  },
  {
   "cell_type": "code",
   "execution_count": 138,
   "id": "9789989d",
   "metadata": {},
   "outputs": [
    {
     "data": {
      "text/html": [
       "<div>\n",
       "<style scoped>\n",
       "    .dataframe tbody tr th:only-of-type {\n",
       "        vertical-align: middle;\n",
       "    }\n",
       "\n",
       "    .dataframe tbody tr th {\n",
       "        vertical-align: top;\n",
       "    }\n",
       "\n",
       "    .dataframe thead th {\n",
       "        text-align: right;\n",
       "    }\n",
       "</style>\n",
       "<table border=\"1\" class=\"dataframe\">\n",
       "  <thead>\n",
       "    <tr style=\"text-align: right;\">\n",
       "      <th></th>\n",
       "      <th>Title</th>\n",
       "      <th>Body</th>\n",
       "      <th>Tags</th>\n",
       "      <th>Id</th>\n",
       "      <th>Score</th>\n",
       "      <th>FavoriteCount</th>\n",
       "      <th>AnswerCount</th>\n",
       "    </tr>\n",
       "  </thead>\n",
       "  <tbody>\n",
       "    <tr>\n",
       "      <th>0</th>\n",
       "      <td>How to convert Decimal to Double in C#?</td>\n",
       "      <td>&lt;p&gt;I want to assign the decimal variable &amp;quot...</td>\n",
       "      <td>&lt;c#&gt;&lt;floating-point&gt;&lt;type-conversion&gt;&lt;double&gt;&lt;...</td>\n",
       "      <td>4</td>\n",
       "      <td>796</td>\n",
       "      <td>0.0</td>\n",
       "      <td>14</td>\n",
       "    </tr>\n",
       "    <tr>\n",
       "      <th>1</th>\n",
       "      <td>Calculate relative time in C#</td>\n",
       "      <td>&lt;p&gt;Given a specific &lt;code&gt;DateTime&lt;/code&gt; valu...</td>\n",
       "      <td>&lt;c#&gt;&lt;datetime&gt;&lt;time&gt;&lt;datediff&gt;&lt;relative-time-s...</td>\n",
       "      <td>11</td>\n",
       "      <td>1645</td>\n",
       "      <td>0.0</td>\n",
       "      <td>41</td>\n",
       "    </tr>\n",
       "    <tr>\n",
       "      <th>2</th>\n",
       "      <td>Determine a user's timezone</td>\n",
       "      <td>&lt;p&gt;Is there a standard way for a web server to...</td>\n",
       "      <td>&lt;html&gt;&lt;browser&gt;&lt;timezone&gt;&lt;user-agent&gt;&lt;timezone...</td>\n",
       "      <td>13</td>\n",
       "      <td>701</td>\n",
       "      <td>0.0</td>\n",
       "      <td>27</td>\n",
       "    </tr>\n",
       "    <tr>\n",
       "      <th>3</th>\n",
       "      <td>What is the fastest way to get the value of π?</td>\n",
       "      <td>&lt;p&gt;I'm looking for the fastest way to obtain t...</td>\n",
       "      <td>&lt;performance&gt;&lt;algorithm&gt;&lt;language-agnostic&gt;&lt;un...</td>\n",
       "      <td>19</td>\n",
       "      <td>351</td>\n",
       "      <td>0.0</td>\n",
       "      <td>23</td>\n",
       "    </tr>\n",
       "    <tr>\n",
       "      <th>4</th>\n",
       "      <td>How to use the C socket API in C++ on z/OS</td>\n",
       "      <td>&lt;p&gt;I'm having issues getting the C sockets API...</td>\n",
       "      <td>&lt;c++&gt;&lt;c&gt;&lt;sockets&gt;&lt;mainframe&gt;&lt;zos&gt;</td>\n",
       "      <td>25</td>\n",
       "      <td>175</td>\n",
       "      <td>0.0</td>\n",
       "      <td>9</td>\n",
       "    </tr>\n",
       "  </tbody>\n",
       "</table>\n",
       "</div>"
      ],
      "text/plain": [
       "                                            Title  \\\n",
       "0         How to convert Decimal to Double in C#?   \n",
       "1                   Calculate relative time in C#   \n",
       "2                     Determine a user's timezone   \n",
       "3  What is the fastest way to get the value of π?   \n",
       "4      How to use the C socket API in C++ on z/OS   \n",
       "\n",
       "                                                Body  \\\n",
       "0  <p>I want to assign the decimal variable &quot...   \n",
       "1  <p>Given a specific <code>DateTime</code> valu...   \n",
       "2  <p>Is there a standard way for a web server to...   \n",
       "3  <p>I'm looking for the fastest way to obtain t...   \n",
       "4  <p>I'm having issues getting the C sockets API...   \n",
       "\n",
       "                                                Tags  Id  Score  \\\n",
       "0  <c#><floating-point><type-conversion><double><...   4    796   \n",
       "1  <c#><datetime><time><datediff><relative-time-s...  11   1645   \n",
       "2  <html><browser><timezone><user-agent><timezone...  13    701   \n",
       "3  <performance><algorithm><language-agnostic><un...  19    351   \n",
       "4                  <c++><c><sockets><mainframe><zos>  25    175   \n",
       "\n",
       "   FavoriteCount  AnswerCount  \n",
       "0            0.0           14  \n",
       "1            0.0           41  \n",
       "2            0.0           27  \n",
       "3            0.0           23  \n",
       "4            0.0            9  "
      ]
     },
     "execution_count": 138,
     "metadata": {},
     "output_type": "execute_result"
    }
   ],
   "source": [
    "# Visualisation\n",
    "data.head()"
   ]
  },
  {
   "cell_type": "code",
   "execution_count": 23,
   "id": "95a973fd",
   "metadata": {},
   "outputs": [
    {
     "data": {
      "text/html": [
       "<div>\n",
       "<style scoped>\n",
       "    .dataframe tbody tr th:only-of-type {\n",
       "        vertical-align: middle;\n",
       "    }\n",
       "\n",
       "    .dataframe tbody tr th {\n",
       "        vertical-align: top;\n",
       "    }\n",
       "\n",
       "    .dataframe thead th {\n",
       "        text-align: right;\n",
       "    }\n",
       "</style>\n",
       "<table border=\"1\" class=\"dataframe\">\n",
       "  <thead>\n",
       "    <tr style=\"text-align: right;\">\n",
       "      <th></th>\n",
       "      <th>Title</th>\n",
       "      <th>Body</th>\n",
       "      <th>Tags</th>\n",
       "      <th>Id</th>\n",
       "      <th>Score</th>\n",
       "      <th>FavoriteCount</th>\n",
       "      <th>AnswerCount</th>\n",
       "    </tr>\n",
       "  </thead>\n",
       "  <tbody>\n",
       "    <tr>\n",
       "      <th>49995</th>\n",
       "      <td>Ionic 4 horizontal scroll with ngFor</td>\n",
       "      <td>&lt;p&gt;I'm at a loss.  I can get horizontal scroll...</td>\n",
       "      <td>&lt;css&gt;&lt;angular&gt;&lt;ionic-framework&gt;&lt;ngfor&gt;&lt;ionic4&gt;</td>\n",
       "      <td>54413418</td>\n",
       "      <td>7</td>\n",
       "      <td>NaN</td>\n",
       "      <td>3</td>\n",
       "    </tr>\n",
       "    <tr>\n",
       "      <th>49996</th>\n",
       "      <td>Type hinting with descriptors</td>\n",
       "      <td>&lt;p&gt;In &lt;a href=\"https://github.com/python/mypy/...</td>\n",
       "      <td>&lt;python&gt;&lt;python-3.x&gt;&lt;type-hinting&gt;&lt;mypy&gt;&lt;pytho...</td>\n",
       "      <td>54413434</td>\n",
       "      <td>12</td>\n",
       "      <td>0.0</td>\n",
       "      <td>3</td>\n",
       "    </tr>\n",
       "    <tr>\n",
       "      <th>49997</th>\n",
       "      <td>How to add multiple lines between code blocks ...</td>\n",
       "      <td>&lt;p&gt;I started using Prettier, but discovered th...</td>\n",
       "      <td>&lt;javascript&gt;&lt;node.js&gt;&lt;typescript&gt;&lt;visual-studi...</td>\n",
       "      <td>54413716</td>\n",
       "      <td>7</td>\n",
       "      <td>0.0</td>\n",
       "      <td>1</td>\n",
       "    </tr>\n",
       "    <tr>\n",
       "      <th>49998</th>\n",
       "      <td>React-Select Scrollbar Styling</td>\n",
       "      <td>&lt;p&gt;I am trying to change the style of scrollba...</td>\n",
       "      <td>&lt;reactjs&gt;&lt;frontend&gt;&lt;scrollbar&gt;&lt;styling&gt;&lt;react-...</td>\n",
       "      <td>54413762</td>\n",
       "      <td>7</td>\n",
       "      <td>0.0</td>\n",
       "      <td>2</td>\n",
       "    </tr>\n",
       "    <tr>\n",
       "      <th>49999</th>\n",
       "      <td>Convert sklearn.svm SVC classifier to Keras im...</td>\n",
       "      <td>&lt;p&gt;I'm trying to convert some old code from us...</td>\n",
       "      <td>&lt;machine-learning&gt;&lt;keras&gt;&lt;scikit-learn&gt;&lt;neural...</td>\n",
       "      <td>54414392</td>\n",
       "      <td>19</td>\n",
       "      <td>0.0</td>\n",
       "      <td>3</td>\n",
       "    </tr>\n",
       "  </tbody>\n",
       "</table>\n",
       "</div>"
      ],
      "text/plain": [
       "                                                   Title  \\\n",
       "49995               Ionic 4 horizontal scroll with ngFor   \n",
       "49996                      Type hinting with descriptors   \n",
       "49997  How to add multiple lines between code blocks ...   \n",
       "49998                     React-Select Scrollbar Styling   \n",
       "49999  Convert sklearn.svm SVC classifier to Keras im...   \n",
       "\n",
       "                                                    Body  \\\n",
       "49995  <p>I'm at a loss.  I can get horizontal scroll...   \n",
       "49996  <p>In <a href=\"https://github.com/python/mypy/...   \n",
       "49997  <p>I started using Prettier, but discovered th...   \n",
       "49998  <p>I am trying to change the style of scrollba...   \n",
       "49999  <p>I'm trying to convert some old code from us...   \n",
       "\n",
       "                                                    Tags        Id  Score  \\\n",
       "49995     <css><angular><ionic-framework><ngfor><ionic4>  54413418      7   \n",
       "49996  <python><python-3.x><type-hinting><mypy><pytho...  54413434     12   \n",
       "49997  <javascript><node.js><typescript><visual-studi...  54413716      7   \n",
       "49998  <reactjs><frontend><scrollbar><styling><react-...  54413762      7   \n",
       "49999  <machine-learning><keras><scikit-learn><neural...  54414392     19   \n",
       "\n",
       "       FavoriteCount  AnswerCount  \n",
       "49995            NaN            3  \n",
       "49996            0.0            3  \n",
       "49997            0.0            1  \n",
       "49998            0.0            2  \n",
       "49999            0.0            3  "
      ]
     },
     "execution_count": 23,
     "metadata": {},
     "output_type": "execute_result"
    }
   ],
   "source": [
    "data.tail()"
   ]
  },
  {
   "cell_type": "code",
   "execution_count": 24,
   "id": "2e54f0dc",
   "metadata": {},
   "outputs": [
    {
     "data": {
      "text/html": [
       "<div>\n",
       "<style scoped>\n",
       "    .dataframe tbody tr th:only-of-type {\n",
       "        vertical-align: middle;\n",
       "    }\n",
       "\n",
       "    .dataframe tbody tr th {\n",
       "        vertical-align: top;\n",
       "    }\n",
       "\n",
       "    .dataframe thead th {\n",
       "        text-align: right;\n",
       "    }\n",
       "</style>\n",
       "<table border=\"1\" class=\"dataframe\">\n",
       "  <thead>\n",
       "    <tr style=\"text-align: right;\">\n",
       "      <th></th>\n",
       "      <th>Title</th>\n",
       "      <th>Body</th>\n",
       "      <th>Tags</th>\n",
       "      <th>Id</th>\n",
       "      <th>Score</th>\n",
       "      <th>FavoriteCount</th>\n",
       "      <th>AnswerCount</th>\n",
       "    </tr>\n",
       "  </thead>\n",
       "  <tbody>\n",
       "    <tr>\n",
       "      <th>12107</th>\n",
       "      <td>\"document is not defined\" ES6 import with Jasm...</td>\n",
       "      <td>&lt;p&gt;I'm having trouble working out how to set u...</td>\n",
       "      <td>&lt;javascript&gt;&lt;unit-testing&gt;&lt;jasmine&gt;&lt;ecmascript...</td>\n",
       "      <td>39691486</td>\n",
       "      <td>6</td>\n",
       "      <td>NaN</td>\n",
       "      <td>1</td>\n",
       "    </tr>\n",
       "    <tr>\n",
       "      <th>46437</th>\n",
       "      <td>Libgdx 3D Texture Transparency</td>\n",
       "      <td>&lt;p&gt;I'm having a problem with a texture which h...</td>\n",
       "      <td>&lt;java&gt;&lt;libgdx&gt;&lt;textures&gt;&lt;transparency&gt;&lt;alphabl...</td>\n",
       "      <td>19112349</td>\n",
       "      <td>7</td>\n",
       "      <td>0.0</td>\n",
       "      <td>3</td>\n",
       "    </tr>\n",
       "    <tr>\n",
       "      <th>39931</th>\n",
       "      <td>R plotly hover label text alignment</td>\n",
       "      <td>&lt;p&gt;I'm adding custom hover text for scatterplo...</td>\n",
       "      <td>&lt;r&gt;&lt;hover&gt;&lt;plotly&gt;&lt;scatter-plot&gt;&lt;r-plotly&gt;</td>\n",
       "      <td>50003531</td>\n",
       "      <td>11</td>\n",
       "      <td>NaN</td>\n",
       "      <td>1</td>\n",
       "    </tr>\n",
       "    <tr>\n",
       "      <th>36219</th>\n",
       "      <td>Tensorflow can't detect GPU when invoked by Ra...</td>\n",
       "      <td>&lt;p&gt;When I try the following code sample for us...</td>\n",
       "      <td>&lt;tensorflow&gt;&lt;machine-learning&gt;&lt;neural-network&gt;...</td>\n",
       "      <td>48471716</td>\n",
       "      <td>7</td>\n",
       "      <td>NaN</td>\n",
       "      <td>1</td>\n",
       "    </tr>\n",
       "    <tr>\n",
       "      <th>7211</th>\n",
       "      <td>Nginx Does Not Pass Cookies To Proxy</td>\n",
       "      <td>&lt;p&gt;I have a cookie set will work for all subdo...</td>\n",
       "      <td>&lt;php&gt;&lt;ajax&gt;&lt;apache&gt;&lt;cookies&gt;&lt;nginx&gt;</td>\n",
       "      <td>22175000</td>\n",
       "      <td>29</td>\n",
       "      <td>0.0</td>\n",
       "      <td>2</td>\n",
       "    </tr>\n",
       "    <tr>\n",
       "      <th>9090</th>\n",
       "      <td>Nginx RTMP Module receive x.264 , output HLS l...</td>\n",
       "      <td>&lt;p&gt;&lt;strong&gt;Goal&lt;/strong&gt;: Stream from PC using...</td>\n",
       "      <td>&lt;nginx&gt;&lt;stream&gt;&lt;rtmp&gt;&lt;live-streaming&gt;&lt;http-liv...</td>\n",
       "      <td>38765115</td>\n",
       "      <td>8</td>\n",
       "      <td>0.0</td>\n",
       "      <td>2</td>\n",
       "    </tr>\n",
       "    <tr>\n",
       "      <th>4369</th>\n",
       "      <td>WebViewFragment webView is null after doing a ...</td>\n",
       "      <td>&lt;p&gt;I currently have my application set up with...</td>\n",
       "      <td>&lt;android&gt;&lt;android-3.0-honeycomb&gt;&lt;android-webvi...</td>\n",
       "      <td>9161192</td>\n",
       "      <td>13</td>\n",
       "      <td>0.0</td>\n",
       "      <td>4</td>\n",
       "    </tr>\n",
       "    <tr>\n",
       "      <th>6576</th>\n",
       "      <td>Customize right click highlight on view-based ...</td>\n",
       "      <td>&lt;p&gt;I have a view-based NSTableView with a cust...</td>\n",
       "      <td>&lt;objective-c&gt;&lt;cocoa&gt;&lt;contextmenu&gt;&lt;nstableview&gt;...</td>\n",
       "      <td>9619664</td>\n",
       "      <td>9</td>\n",
       "      <td>0.0</td>\n",
       "      <td>5</td>\n",
       "    </tr>\n",
       "    <tr>\n",
       "      <th>39322</th>\n",
       "      <td>Is there a naming convention for HTML form fie...</td>\n",
       "      <td>&lt;p&gt;Is there a naming convention for form field...</td>\n",
       "      <td>&lt;html&gt;&lt;forms&gt;&lt;autocomplete&gt;&lt;naming-conventions...</td>\n",
       "      <td>6365395</td>\n",
       "      <td>11</td>\n",
       "      <td>0.0</td>\n",
       "      <td>1</td>\n",
       "    </tr>\n",
       "    <tr>\n",
       "      <th>44022</th>\n",
       "      <td>How to play multiple sound files on one Web Pa...</td>\n",
       "      <td>&lt;p&gt;I have a page where there is a list of voca...</td>\n",
       "      <td>&lt;php&gt;&lt;javascript&gt;&lt;jquery&gt;&lt;audio&gt;&lt;text-to-speech&gt;</td>\n",
       "      <td>7198648</td>\n",
       "      <td>7</td>\n",
       "      <td>NaN</td>\n",
       "      <td>1</td>\n",
       "    </tr>\n",
       "    <tr>\n",
       "      <th>9023</th>\n",
       "      <td>What to use for real-time chat application</td>\n",
       "      <td>&lt;p&gt;Im developing a chat application just like ...</td>\n",
       "      <td>&lt;ruby-on-rails&gt;&lt;node.js&gt;&lt;socket.io&gt;&lt;real-time&gt;...</td>\n",
       "      <td>22756961</td>\n",
       "      <td>8</td>\n",
       "      <td>0.0</td>\n",
       "      <td>3</td>\n",
       "    </tr>\n",
       "    <tr>\n",
       "      <th>4870</th>\n",
       "      <td>Intermittent \"Failed to load viewstate\" error</td>\n",
       "      <td>&lt;p&gt;Yes I know this problem has been reported m...</td>\n",
       "      <td>&lt;asp.net&gt;&lt;runtime-error&gt;&lt;viewstate&gt;&lt;infragisti...</td>\n",
       "      <td>21443771</td>\n",
       "      <td>6</td>\n",
       "      <td>0.0</td>\n",
       "      <td>9</td>\n",
       "    </tr>\n",
       "    <tr>\n",
       "      <th>45043</th>\n",
       "      <td>Comments in SPARQL query?</td>\n",
       "      <td>&lt;p&gt;Can I write comments in a query, so that on...</td>\n",
       "      <td>&lt;web&gt;&lt;syntax&gt;&lt;syntax-error&gt;&lt;rdf&gt;&lt;sparql&gt;</td>\n",
       "      <td>33976745</td>\n",
       "      <td>23</td>\n",
       "      <td>0.0</td>\n",
       "      <td>1</td>\n",
       "    </tr>\n",
       "    <tr>\n",
       "      <th>45436</th>\n",
       "      <td>android.hardware.Camera$EventHandler.handleMes...</td>\n",
       "      <td>&lt;p&gt;I am writing a program in which I am taking...</td>\n",
       "      <td>&lt;android&gt;&lt;bitmap&gt;&lt;camera&gt;&lt;android-camera&gt;&lt;andr...</td>\n",
       "      <td>34105262</td>\n",
       "      <td>11</td>\n",
       "      <td>0.0</td>\n",
       "      <td>2</td>\n",
       "    </tr>\n",
       "    <tr>\n",
       "      <th>27754</th>\n",
       "      <td>Adding paging controls to a full page touch sw...</td>\n",
       "      <td>&lt;p&gt;&lt;a href=\"http://jsfiddle.net/pfkfxm1z/1/\"&gt;&lt;...</td>\n",
       "      <td>&lt;javascript&gt;&lt;jquery&gt;&lt;touch&gt;&lt;swipe&gt;&lt;hammer.js&gt;</td>\n",
       "      <td>28858474</td>\n",
       "      <td>8</td>\n",
       "      <td>NaN</td>\n",
       "      <td>1</td>\n",
       "    </tr>\n",
       "    <tr>\n",
       "      <th>48220</th>\n",
       "      <td>Is it possible to run Android Espresso unit te...</td>\n",
       "      <td>&lt;p&gt;I have an issue using the &lt;em&gt;JUnit4&lt;/em&gt; &lt;...</td>\n",
       "      <td>&lt;java&gt;&lt;android&gt;&lt;android-studio&gt;&lt;junit&gt;&lt;android...</td>\n",
       "      <td>34981738</td>\n",
       "      <td>7</td>\n",
       "      <td>NaN</td>\n",
       "      <td>4</td>\n",
       "    </tr>\n",
       "    <tr>\n",
       "      <th>36459</th>\n",
       "      <td>iphone - Getting data from uiwebview textfield</td>\n",
       "      <td>&lt;p&gt;Am developing an app which load a HTML page...</td>\n",
       "      <td>&lt;javascript&gt;&lt;html&gt;&lt;objective-c&gt;&lt;ios&gt;&lt;uiwebview&gt;</td>\n",
       "      <td>5908775</td>\n",
       "      <td>25</td>\n",
       "      <td>0.0</td>\n",
       "      <td>4</td>\n",
       "    </tr>\n",
       "    <tr>\n",
       "      <th>25313</th>\n",
       "      <td>Changing the text and background color with Ap...</td>\n",
       "      <td>&lt;p&gt;I'd like to &lt;strong&gt;change the text and bac...</td>\n",
       "      <td>&lt;ios&gt;&lt;objective-c&gt;&lt;swift&gt;&lt;macos&gt;&lt;pdf&gt;</td>\n",
       "      <td>44472810</td>\n",
       "      <td>14</td>\n",
       "      <td>0.0</td>\n",
       "      <td>1</td>\n",
       "    </tr>\n",
       "    <tr>\n",
       "      <th>14154</th>\n",
       "      <td>React-router issues with deploying github page...</td>\n",
       "      <td>&lt;p&gt;I am having the hardest time deploying a si...</td>\n",
       "      <td>&lt;reactjs&gt;&lt;webpack&gt;&lt;react-router&gt;&lt;http-status-c...</td>\n",
       "      <td>40413392</td>\n",
       "      <td>17</td>\n",
       "      <td>0.0</td>\n",
       "      <td>1</td>\n",
       "    </tr>\n",
       "    <tr>\n",
       "      <th>28620</th>\n",
       "      <td>Different behavior for REF CURSOR between Orac...</td>\n",
       "      <td>&lt;h3&gt;Description&lt;/h3&gt;\\n\\n&lt;p&gt;I have an Oracle st...</td>\n",
       "      <td>&lt;oracle&gt;&lt;stored-procedures&gt;&lt;plsql&gt;&lt;oracle10g&gt;&lt;...</td>\n",
       "      <td>4598725</td>\n",
       "      <td>18</td>\n",
       "      <td>0.0</td>\n",
       "      <td>3</td>\n",
       "    </tr>\n",
       "  </tbody>\n",
       "</table>\n",
       "</div>"
      ],
      "text/plain": [
       "                                                   Title  \\\n",
       "12107  \"document is not defined\" ES6 import with Jasm...   \n",
       "46437                     Libgdx 3D Texture Transparency   \n",
       "39931                R plotly hover label text alignment   \n",
       "36219  Tensorflow can't detect GPU when invoked by Ra...   \n",
       "7211                Nginx Does Not Pass Cookies To Proxy   \n",
       "9090   Nginx RTMP Module receive x.264 , output HLS l...   \n",
       "4369   WebViewFragment webView is null after doing a ...   \n",
       "6576   Customize right click highlight on view-based ...   \n",
       "39322  Is there a naming convention for HTML form fie...   \n",
       "44022  How to play multiple sound files on one Web Pa...   \n",
       "9023          What to use for real-time chat application   \n",
       "4870       Intermittent \"Failed to load viewstate\" error   \n",
       "45043                          Comments in SPARQL query?   \n",
       "45436  android.hardware.Camera$EventHandler.handleMes...   \n",
       "27754  Adding paging controls to a full page touch sw...   \n",
       "48220  Is it possible to run Android Espresso unit te...   \n",
       "36459     iphone - Getting data from uiwebview textfield   \n",
       "25313  Changing the text and background color with Ap...   \n",
       "14154  React-router issues with deploying github page...   \n",
       "28620  Different behavior for REF CURSOR between Orac...   \n",
       "\n",
       "                                                    Body  \\\n",
       "12107  <p>I'm having trouble working out how to set u...   \n",
       "46437  <p>I'm having a problem with a texture which h...   \n",
       "39931  <p>I'm adding custom hover text for scatterplo...   \n",
       "36219  <p>When I try the following code sample for us...   \n",
       "7211   <p>I have a cookie set will work for all subdo...   \n",
       "9090   <p><strong>Goal</strong>: Stream from PC using...   \n",
       "4369   <p>I currently have my application set up with...   \n",
       "6576   <p>I have a view-based NSTableView with a cust...   \n",
       "39322  <p>Is there a naming convention for form field...   \n",
       "44022  <p>I have a page where there is a list of voca...   \n",
       "9023   <p>Im developing a chat application just like ...   \n",
       "4870   <p>Yes I know this problem has been reported m...   \n",
       "45043  <p>Can I write comments in a query, so that on...   \n",
       "45436  <p>I am writing a program in which I am taking...   \n",
       "27754  <p><a href=\"http://jsfiddle.net/pfkfxm1z/1/\"><...   \n",
       "48220  <p>I have an issue using the <em>JUnit4</em> <...   \n",
       "36459  <p>Am developing an app which load a HTML page...   \n",
       "25313  <p>I'd like to <strong>change the text and bac...   \n",
       "14154  <p>I am having the hardest time deploying a si...   \n",
       "28620  <h3>Description</h3>\\n\\n<p>I have an Oracle st...   \n",
       "\n",
       "                                                    Tags        Id  Score  \\\n",
       "12107  <javascript><unit-testing><jasmine><ecmascript...  39691486      6   \n",
       "46437  <java><libgdx><textures><transparency><alphabl...  19112349      7   \n",
       "39931         <r><hover><plotly><scatter-plot><r-plotly>  50003531     11   \n",
       "36219  <tensorflow><machine-learning><neural-network>...  48471716      7   \n",
       "7211                 <php><ajax><apache><cookies><nginx>  22175000     29   \n",
       "9090   <nginx><stream><rtmp><live-streaming><http-liv...  38765115      8   \n",
       "4369   <android><android-3.0-honeycomb><android-webvi...   9161192     13   \n",
       "6576   <objective-c><cocoa><contextmenu><nstableview>...   9619664      9   \n",
       "39322  <html><forms><autocomplete><naming-conventions...   6365395     11   \n",
       "44022   <php><javascript><jquery><audio><text-to-speech>   7198648      7   \n",
       "9023   <ruby-on-rails><node.js><socket.io><real-time>...  22756961      8   \n",
       "4870   <asp.net><runtime-error><viewstate><infragisti...  21443771      6   \n",
       "45043           <web><syntax><syntax-error><rdf><sparql>  33976745     23   \n",
       "45436  <android><bitmap><camera><android-camera><andr...  34105262     11   \n",
       "27754      <javascript><jquery><touch><swipe><hammer.js>  28858474      8   \n",
       "48220  <java><android><android-studio><junit><android...  34981738      7   \n",
       "36459    <javascript><html><objective-c><ios><uiwebview>   5908775     25   \n",
       "25313              <ios><objective-c><swift><macos><pdf>  44472810     14   \n",
       "14154  <reactjs><webpack><react-router><http-status-c...  40413392     17   \n",
       "28620  <oracle><stored-procedures><plsql><oracle10g><...   4598725     18   \n",
       "\n",
       "       FavoriteCount  AnswerCount  \n",
       "12107            NaN            1  \n",
       "46437            0.0            3  \n",
       "39931            NaN            1  \n",
       "36219            NaN            1  \n",
       "7211             0.0            2  \n",
       "9090             0.0            2  \n",
       "4369             0.0            4  \n",
       "6576             0.0            5  \n",
       "39322            0.0            1  \n",
       "44022            NaN            1  \n",
       "9023             0.0            3  \n",
       "4870             0.0            9  \n",
       "45043            0.0            1  \n",
       "45436            0.0            2  \n",
       "27754            NaN            1  \n",
       "48220            NaN            4  \n",
       "36459            0.0            4  \n",
       "25313            0.0            1  \n",
       "14154            0.0            1  \n",
       "28620            0.0            3  "
      ]
     },
     "execution_count": 24,
     "metadata": {},
     "output_type": "execute_result"
    }
   ],
   "source": [
    "data.sample(20)"
   ]
  },
  {
   "cell_type": "markdown",
   "id": "19a2ae65",
   "metadata": {},
   "source": [
    "### Structure "
   ]
  },
  {
   "cell_type": "code",
   "execution_count": 25,
   "id": "4f120a98",
   "metadata": {},
   "outputs": [
    {
     "data": {
      "text/plain": [
       "(200000, 7)"
      ]
     },
     "execution_count": 25,
     "metadata": {},
     "output_type": "execute_result"
    }
   ],
   "source": [
    "data.shape"
   ]
  },
  {
   "cell_type": "code",
   "execution_count": 27,
   "id": "af5637ef",
   "metadata": {},
   "outputs": [
    {
     "name": "stdout",
     "output_type": "stream",
     "text": [
      "<class 'pandas.core.frame.DataFrame'>\n",
      "Int64Index: 200000 entries, 0 to 49999\n",
      "Data columns (total 7 columns):\n",
      " #   Column         Non-Null Count   Dtype  \n",
      "---  ------         --------------   -----  \n",
      " 0   Title          200000 non-null  object \n",
      " 1   Body           200000 non-null  object \n",
      " 2   Tags           200000 non-null  object \n",
      " 3   Id             200000 non-null  int64  \n",
      " 4   Score          200000 non-null  int64  \n",
      " 5   FavoriteCount  174317 non-null  float64\n",
      " 6   AnswerCount    200000 non-null  int64  \n",
      "dtypes: float64(1), int64(3), object(3)\n",
      "memory usage: 12.2+ MB\n"
     ]
    }
   ],
   "source": [
    "data.info()"
   ]
  },
  {
   "cell_type": "code",
   "execution_count": 28,
   "id": "413bbb4c",
   "metadata": {},
   "outputs": [
    {
     "data": {
      "text/plain": [
       "Title             object\n",
       "Body              object\n",
       "Tags              object\n",
       "Id                 int64\n",
       "Score              int64\n",
       "FavoriteCount    float64\n",
       "AnswerCount        int64\n",
       "dtype: object"
      ]
     },
     "execution_count": 28,
     "metadata": {},
     "output_type": "execute_result"
    }
   ],
   "source": [
    "data.dtypes"
   ]
  },
  {
   "cell_type": "code",
   "execution_count": 29,
   "id": "e67d69d2",
   "metadata": {},
   "outputs": [
    {
     "data": {
      "text/plain": [
       "object     3\n",
       "int64      3\n",
       "float64    1\n",
       "dtype: int64"
      ]
     },
     "execution_count": 29,
     "metadata": {},
     "output_type": "execute_result"
    }
   ],
   "source": [
    "data.dtypes.value_counts()"
   ]
  },
  {
   "cell_type": "code",
   "execution_count": 30,
   "id": "3ad4f0d5",
   "metadata": {},
   "outputs": [
    {
     "data": {
      "text/plain": [
       "Title            199992\n",
       "Body             200000\n",
       "Tags             191464\n",
       "Id               200000\n",
       "Score              1118\n",
       "FavoriteCount         4\n",
       "AnswerCount          79\n",
       "dtype: int64"
      ]
     },
     "execution_count": 30,
     "metadata": {},
     "output_type": "execute_result"
    }
   ],
   "source": [
    "data.nunique()"
   ]
  },
  {
   "cell_type": "markdown",
   "id": "84b6484f",
   "metadata": {},
   "source": [
    "On voit qu'il y a des titres de questions qui se repetent mais pas le texte meme de la question. Les id sont bien uniques."
   ]
  },
  {
   "cell_type": "code",
   "execution_count": 31,
   "id": "4a8c5598",
   "metadata": {},
   "outputs": [
    {
     "data": {
      "text/plain": [
       "Title            199992\n",
       "Body             200000\n",
       "Tags             191464\n",
       "Id               200000\n",
       "Score              1118\n",
       "FavoriteCount         4\n",
       "AnswerCount          79\n",
       "dtype: int64"
      ]
     },
     "execution_count": 31,
     "metadata": {},
     "output_type": "execute_result"
    }
   ],
   "source": [
    "tmp = data.nunique()\n",
    "tmp"
   ]
  },
  {
   "cell_type": "code",
   "execution_count": 33,
   "id": "d73143c0",
   "metadata": {},
   "outputs": [
    {
     "data": {
      "text/plain": [
       "FavoriteCount    4\n",
       "dtype: int64"
      ]
     },
     "execution_count": 33,
     "metadata": {},
     "output_type": "execute_result"
    }
   ],
   "source": [
    "tmp[tmp<10]"
   ]
  },
  {
   "cell_type": "code",
   "execution_count": 34,
   "id": "583e35b8",
   "metadata": {},
   "outputs": [
    {
     "data": {
      "text/plain": [
       "Title    199992\n",
       "Body     200000\n",
       "Tags     191464\n",
       "Id       200000\n",
       "Score      1118\n",
       "dtype: int64"
      ]
     },
     "execution_count": 34,
     "metadata": {},
     "output_type": "execute_result"
    }
   ],
   "source": [
    "tmp[tmp>1000]"
   ]
  },
  {
   "cell_type": "markdown",
   "id": "c340760f",
   "metadata": {},
   "source": [
    "### Nan et dupliqué"
   ]
  },
  {
   "cell_type": "code",
   "execution_count": 38,
   "id": "320dd46f",
   "metadata": {},
   "outputs": [
    {
     "data": {
      "text/plain": [
       "Title                0\n",
       "Body                 0\n",
       "Tags                 0\n",
       "Id                   0\n",
       "Score                0\n",
       "FavoriteCount    25683\n",
       "AnswerCount          0\n",
       "dtype: int64"
      ]
     },
     "execution_count": 38,
     "metadata": {},
     "output_type": "execute_result"
    }
   ],
   "source": [
    "data.isna().sum()"
   ]
  },
  {
   "cell_type": "code",
   "execution_count": 39,
   "id": "6fa55f24",
   "metadata": {},
   "outputs": [
    {
     "data": {
      "text/plain": [
       "Title            0.000000\n",
       "Body             0.000000\n",
       "Tags             0.000000\n",
       "Id               0.000000\n",
       "Score            0.000000\n",
       "FavoriteCount    0.128415\n",
       "AnswerCount      0.000000\n",
       "dtype: float64"
      ]
     },
     "execution_count": 39,
     "metadata": {},
     "output_type": "execute_result"
    }
   ],
   "source": [
    "data.isna().mean()"
   ]
  },
  {
   "cell_type": "markdown",
   "id": "fd5cf664",
   "metadata": {},
   "source": [
    "Valeurs manquantes uniquement pour FavoriteCount"
   ]
  },
  {
   "cell_type": "code",
   "execution_count": 40,
   "id": "4d9d10ba",
   "metadata": {},
   "outputs": [
    {
     "data": {
      "text/plain": [
       "<AxesSubplot:>"
      ]
     },
     "execution_count": 40,
     "metadata": {},
     "output_type": "execute_result"
    },
    {
     "data": {
      "image/png": "[encoded data removed]",
      "text/plain": [
       "<Figure size 640x480 with 2 Axes>"
      ]
     },
     "metadata": {},
     "output_type": "display_data"
    }
   ],
   "source": [
    "sns.heatmap(data.isna())"
   ]
  },
  {
   "cell_type": "code",
   "execution_count": 41,
   "id": "cdb8b5b5",
   "metadata": {},
   "outputs": [
    {
     "data": {
      "text/plain": [
       "0"
      ]
     },
     "execution_count": 41,
     "metadata": {},
     "output_type": "execute_result"
    }
   ],
   "source": [
    "# Pas de lignes exactement identiques\n",
    "data.duplicated().sum()"
   ]
  },
  {
   "cell_type": "code",
   "execution_count": 43,
   "id": "47c2efaa",
   "metadata": {},
   "outputs": [
    {
     "data": {
      "text/plain": [
       "0"
      ]
     },
     "execution_count": 43,
     "metadata": {},
     "output_type": "execute_result"
    }
   ],
   "source": [
    "# 0 corps de questions qui sont dupliqués\n",
    "data.duplicated(subset = ['Body']).sum()"
   ]
  },
  {
   "cell_type": "code",
   "execution_count": 45,
   "id": "5a7c8101",
   "metadata": {},
   "outputs": [
    {
     "name": "stdout",
     "output_type": "stream",
     "text": [
      "col Title -> duplicated :  8\n",
      "col Body -> duplicated :  0\n",
      "col Tags -> duplicated :  8536\n",
      "col Id -> duplicated :  0\n",
      "col Score -> duplicated :  198882\n",
      "col FavoriteCount -> duplicated :  199995\n",
      "col AnswerCount -> duplicated :  199921\n"
     ]
    }
   ],
   "source": [
    "for col in data.columns :\n",
    "    print('col',col,'-> duplicated : ', data.duplicated(subset = [col]).sum())"
   ]
  },
  {
   "cell_type": "code",
   "execution_count": 47,
   "id": "caf85a91",
   "metadata": {},
   "outputs": [
    {
     "data": {
      "text/html": [
       "<div>\n",
       "<style scoped>\n",
       "    .dataframe tbody tr th:only-of-type {\n",
       "        vertical-align: middle;\n",
       "    }\n",
       "\n",
       "    .dataframe tbody tr th {\n",
       "        vertical-align: top;\n",
       "    }\n",
       "\n",
       "    .dataframe thead th {\n",
       "        text-align: right;\n",
       "    }\n",
       "</style>\n",
       "<table border=\"1\" class=\"dataframe\">\n",
       "  <thead>\n",
       "    <tr style=\"text-align: right;\">\n",
       "      <th></th>\n",
       "      <th>Id</th>\n",
       "      <th>Score</th>\n",
       "      <th>FavoriteCount</th>\n",
       "      <th>AnswerCount</th>\n",
       "    </tr>\n",
       "  </thead>\n",
       "  <tbody>\n",
       "    <tr>\n",
       "      <th>count</th>\n",
       "      <td>2.000000e+05</td>\n",
       "      <td>200000.000000</td>\n",
       "      <td>174317.000000</td>\n",
       "      <td>200000.000000</td>\n",
       "    </tr>\n",
       "    <tr>\n",
       "      <th>mean</th>\n",
       "      <td>2.254972e+07</td>\n",
       "      <td>27.196440</td>\n",
       "      <td>0.000281</td>\n",
       "      <td>3.475995</td>\n",
       "    </tr>\n",
       "    <tr>\n",
       "      <th>std</th>\n",
       "      <td>1.578556e+07</td>\n",
       "      <td>140.862624</td>\n",
       "      <td>0.079905</td>\n",
       "      <td>3.560889</td>\n",
       "    </tr>\n",
       "    <tr>\n",
       "      <th>min</th>\n",
       "      <td>4.000000e+00</td>\n",
       "      <td>6.000000</td>\n",
       "      <td>0.000000</td>\n",
       "      <td>1.000000</td>\n",
       "    </tr>\n",
       "    <tr>\n",
       "      <th>25%</th>\n",
       "      <td>8.323410e+06</td>\n",
       "      <td>7.000000</td>\n",
       "      <td>0.000000</td>\n",
       "      <td>2.000000</td>\n",
       "    </tr>\n",
       "    <tr>\n",
       "      <th>50%</th>\n",
       "      <td>2.008313e+07</td>\n",
       "      <td>10.000000</td>\n",
       "      <td>0.000000</td>\n",
       "      <td>3.000000</td>\n",
       "    </tr>\n",
       "    <tr>\n",
       "      <th>75%</th>\n",
       "      <td>3.558560e+07</td>\n",
       "      <td>19.000000</td>\n",
       "      <td>0.000000</td>\n",
       "      <td>4.000000</td>\n",
       "    </tr>\n",
       "    <tr>\n",
       "      <th>max</th>\n",
       "      <td>5.441439e+07</td>\n",
       "      <td>26968.000000</td>\n",
       "      <td>32.000000</td>\n",
       "      <td>133.000000</td>\n",
       "    </tr>\n",
       "  </tbody>\n",
       "</table>\n",
       "</div>"
      ],
      "text/plain": [
       "                 Id          Score  FavoriteCount    AnswerCount\n",
       "count  2.000000e+05  200000.000000  174317.000000  200000.000000\n",
       "mean   2.254972e+07      27.196440       0.000281       3.475995\n",
       "std    1.578556e+07     140.862624       0.079905       3.560889\n",
       "min    4.000000e+00       6.000000       0.000000       1.000000\n",
       "25%    8.323410e+06       7.000000       0.000000       2.000000\n",
       "50%    2.008313e+07      10.000000       0.000000       3.000000\n",
       "75%    3.558560e+07      19.000000       0.000000       4.000000\n",
       "max    5.441439e+07   26968.000000      32.000000     133.000000"
      ]
     },
     "execution_count": 47,
     "metadata": {},
     "output_type": "execute_result"
    }
   ],
   "source": [
    "data.describe(include = np.number)"
   ]
  },
  {
   "cell_type": "code",
   "execution_count": 48,
   "id": "b09caa8b",
   "metadata": {},
   "outputs": [
    {
     "data": {
      "text/html": [
       "<div>\n",
       "<style scoped>\n",
       "    .dataframe tbody tr th:only-of-type {\n",
       "        vertical-align: middle;\n",
       "    }\n",
       "\n",
       "    .dataframe tbody tr th {\n",
       "        vertical-align: top;\n",
       "    }\n",
       "\n",
       "    .dataframe thead th {\n",
       "        text-align: right;\n",
       "    }\n",
       "</style>\n",
       "<table border=\"1\" class=\"dataframe\">\n",
       "  <thead>\n",
       "    <tr style=\"text-align: right;\">\n",
       "      <th></th>\n",
       "      <th>Title</th>\n",
       "      <th>Body</th>\n",
       "      <th>Tags</th>\n",
       "    </tr>\n",
       "  </thead>\n",
       "  <tbody>\n",
       "    <tr>\n",
       "      <th>count</th>\n",
       "      <td>200000</td>\n",
       "      <td>200000</td>\n",
       "      <td>200000</td>\n",
       "    </tr>\n",
       "    <tr>\n",
       "      <th>unique</th>\n",
       "      <td>199992</td>\n",
       "      <td>200000</td>\n",
       "      <td>191464</td>\n",
       "    </tr>\n",
       "    <tr>\n",
       "      <th>top</th>\n",
       "      <td>HTML Agility Pack</td>\n",
       "      <td>&lt;p&gt;I want to assign the decimal variable &amp;quot...</td>\n",
       "      <td>&lt;javascript&gt;&lt;jquery&gt;&lt;html&gt;&lt;css&gt;&lt;twitter-bootst...</td>\n",
       "    </tr>\n",
       "    <tr>\n",
       "      <th>freq</th>\n",
       "      <td>2</td>\n",
       "      <td>1</td>\n",
       "      <td>112</td>\n",
       "    </tr>\n",
       "  </tbody>\n",
       "</table>\n",
       "</div>"
      ],
      "text/plain": [
       "                    Title                                               Body  \\\n",
       "count              200000                                             200000   \n",
       "unique             199992                                             200000   \n",
       "top     HTML Agility Pack  <p>I want to assign the decimal variable &quot...   \n",
       "freq                    2                                                  1   \n",
       "\n",
       "                                                     Tags  \n",
       "count                                              200000  \n",
       "unique                                             191464  \n",
       "top     <javascript><jquery><html><css><twitter-bootst...  \n",
       "freq                                                  112  "
      ]
     },
     "execution_count": 48,
     "metadata": {},
     "output_type": "execute_result"
    }
   ],
   "source": [
    "data.describe(include = object)"
   ]
  },
  {
   "cell_type": "code",
   "execution_count": 49,
   "id": "61a65797",
   "metadata": {},
   "outputs": [
    {
     "data": {
      "text/html": [
       "<div>\n",
       "<style scoped>\n",
       "    .dataframe tbody tr th:only-of-type {\n",
       "        vertical-align: middle;\n",
       "    }\n",
       "\n",
       "    .dataframe tbody tr th {\n",
       "        vertical-align: top;\n",
       "    }\n",
       "\n",
       "    .dataframe thead th {\n",
       "        text-align: right;\n",
       "    }\n",
       "</style>\n",
       "<table border=\"1\" class=\"dataframe\">\n",
       "  <thead>\n",
       "    <tr style=\"text-align: right;\">\n",
       "      <th></th>\n",
       "      <th>Id</th>\n",
       "      <th>Score</th>\n",
       "      <th>FavoriteCount</th>\n",
       "      <th>AnswerCount</th>\n",
       "    </tr>\n",
       "  </thead>\n",
       "  <tbody>\n",
       "    <tr>\n",
       "      <th>count</th>\n",
       "      <td>2.000000e+05</td>\n",
       "      <td>200000.000000</td>\n",
       "      <td>174317.000000</td>\n",
       "      <td>200000.000000</td>\n",
       "    </tr>\n",
       "    <tr>\n",
       "      <th>mean</th>\n",
       "      <td>2.254972e+07</td>\n",
       "      <td>27.196440</td>\n",
       "      <td>0.000281</td>\n",
       "      <td>3.475995</td>\n",
       "    </tr>\n",
       "    <tr>\n",
       "      <th>std</th>\n",
       "      <td>1.578556e+07</td>\n",
       "      <td>140.862624</td>\n",
       "      <td>0.079905</td>\n",
       "      <td>3.560889</td>\n",
       "    </tr>\n",
       "    <tr>\n",
       "      <th>min</th>\n",
       "      <td>4.000000e+00</td>\n",
       "      <td>6.000000</td>\n",
       "      <td>0.000000</td>\n",
       "      <td>1.000000</td>\n",
       "    </tr>\n",
       "    <tr>\n",
       "      <th>25%</th>\n",
       "      <td>8.323410e+06</td>\n",
       "      <td>7.000000</td>\n",
       "      <td>0.000000</td>\n",
       "      <td>2.000000</td>\n",
       "    </tr>\n",
       "    <tr>\n",
       "      <th>50%</th>\n",
       "      <td>2.008313e+07</td>\n",
       "      <td>10.000000</td>\n",
       "      <td>0.000000</td>\n",
       "      <td>3.000000</td>\n",
       "    </tr>\n",
       "    <tr>\n",
       "      <th>75%</th>\n",
       "      <td>3.558560e+07</td>\n",
       "      <td>19.000000</td>\n",
       "      <td>0.000000</td>\n",
       "      <td>4.000000</td>\n",
       "    </tr>\n",
       "    <tr>\n",
       "      <th>max</th>\n",
       "      <td>5.441439e+07</td>\n",
       "      <td>26968.000000</td>\n",
       "      <td>32.000000</td>\n",
       "      <td>133.000000</td>\n",
       "    </tr>\n",
       "  </tbody>\n",
       "</table>\n",
       "</div>"
      ],
      "text/plain": [
       "                 Id          Score  FavoriteCount    AnswerCount\n",
       "count  2.000000e+05  200000.000000  174317.000000  200000.000000\n",
       "mean   2.254972e+07      27.196440       0.000281       3.475995\n",
       "std    1.578556e+07     140.862624       0.079905       3.560889\n",
       "min    4.000000e+00       6.000000       0.000000       1.000000\n",
       "25%    8.323410e+06       7.000000       0.000000       2.000000\n",
       "50%    2.008313e+07      10.000000       0.000000       3.000000\n",
       "75%    3.558560e+07      19.000000       0.000000       4.000000\n",
       "max    5.441439e+07   26968.000000      32.000000     133.000000"
      ]
     },
     "execution_count": 49,
     "metadata": {},
     "output_type": "execute_result"
    }
   ],
   "source": [
    "data.describe()"
   ]
  },
  {
   "cell_type": "markdown",
   "id": "ecc4f372",
   "metadata": {},
   "source": [
    "### Selection des colonnes "
   ]
  },
  {
   "cell_type": "code",
   "execution_count": 139,
   "id": "cb767396",
   "metadata": {},
   "outputs": [
    {
     "data": {
      "text/html": [
       "<div>\n",
       "<style scoped>\n",
       "    .dataframe tbody tr th:only-of-type {\n",
       "        vertical-align: middle;\n",
       "    }\n",
       "\n",
       "    .dataframe tbody tr th {\n",
       "        vertical-align: top;\n",
       "    }\n",
       "\n",
       "    .dataframe thead th {\n",
       "        text-align: right;\n",
       "    }\n",
       "</style>\n",
       "<table border=\"1\" class=\"dataframe\">\n",
       "  <thead>\n",
       "    <tr style=\"text-align: right;\">\n",
       "      <th></th>\n",
       "      <th>Title</th>\n",
       "      <th>Body</th>\n",
       "      <th>Tags</th>\n",
       "    </tr>\n",
       "  </thead>\n",
       "  <tbody>\n",
       "    <tr>\n",
       "      <th>0</th>\n",
       "      <td>How to convert Decimal to Double in C#?</td>\n",
       "      <td>&lt;p&gt;I want to assign the decimal variable &amp;quot...</td>\n",
       "      <td>&lt;c#&gt;&lt;floating-point&gt;&lt;type-conversion&gt;&lt;double&gt;&lt;...</td>\n",
       "    </tr>\n",
       "    <tr>\n",
       "      <th>1</th>\n",
       "      <td>Calculate relative time in C#</td>\n",
       "      <td>&lt;p&gt;Given a specific &lt;code&gt;DateTime&lt;/code&gt; valu...</td>\n",
       "      <td>&lt;c#&gt;&lt;datetime&gt;&lt;time&gt;&lt;datediff&gt;&lt;relative-time-s...</td>\n",
       "    </tr>\n",
       "    <tr>\n",
       "      <th>2</th>\n",
       "      <td>Determine a user's timezone</td>\n",
       "      <td>&lt;p&gt;Is there a standard way for a web server to...</td>\n",
       "      <td>&lt;html&gt;&lt;browser&gt;&lt;timezone&gt;&lt;user-agent&gt;&lt;timezone...</td>\n",
       "    </tr>\n",
       "    <tr>\n",
       "      <th>3</th>\n",
       "      <td>What is the fastest way to get the value of π?</td>\n",
       "      <td>&lt;p&gt;I'm looking for the fastest way to obtain t...</td>\n",
       "      <td>&lt;performance&gt;&lt;algorithm&gt;&lt;language-agnostic&gt;&lt;un...</td>\n",
       "    </tr>\n",
       "    <tr>\n",
       "      <th>4</th>\n",
       "      <td>How to use the C socket API in C++ on z/OS</td>\n",
       "      <td>&lt;p&gt;I'm having issues getting the C sockets API...</td>\n",
       "      <td>&lt;c++&gt;&lt;c&gt;&lt;sockets&gt;&lt;mainframe&gt;&lt;zos&gt;</td>\n",
       "    </tr>\n",
       "  </tbody>\n",
       "</table>\n",
       "</div>"
      ],
      "text/plain": [
       "                                            Title  \\\n",
       "0         How to convert Decimal to Double in C#?   \n",
       "1                   Calculate relative time in C#   \n",
       "2                     Determine a user's timezone   \n",
       "3  What is the fastest way to get the value of π?   \n",
       "4      How to use the C socket API in C++ on z/OS   \n",
       "\n",
       "                                                Body  \\\n",
       "0  <p>I want to assign the decimal variable &quot...   \n",
       "1  <p>Given a specific <code>DateTime</code> valu...   \n",
       "2  <p>Is there a standard way for a web server to...   \n",
       "3  <p>I'm looking for the fastest way to obtain t...   \n",
       "4  <p>I'm having issues getting the C sockets API...   \n",
       "\n",
       "                                                Tags  \n",
       "0  <c#><floating-point><type-conversion><double><...  \n",
       "1  <c#><datetime><time><datediff><relative-time-s...  \n",
       "2  <html><browser><timezone><user-agent><timezone...  \n",
       "3  <performance><algorithm><language-agnostic><un...  \n",
       "4                  <c++><c><sockets><mainframe><zos>  "
      ]
     },
     "execution_count": 139,
     "metadata": {},
     "output_type": "execute_result"
    }
   ],
   "source": [
    "cols = ['Title','Body', 'Tags']\n",
    "data = data[cols]\n",
    "data.head()"
   ]
  },
  {
   "cell_type": "code",
   "execution_count": 140,
   "id": "8ba5e836",
   "metadata": {
    "scrolled": true
   },
   "outputs": [
    {
     "data": {
      "text/plain": [
       "'<p>Given a specific <code>DateTime</code> value, how do I display relative time, like:</p>\\n<ul>\\n<li><code>2 hours ago</code></li>\\n<li><code>3 days ago</code></li>\\n<li><code>a month ago</code></li>\\n</ul>\\n'"
      ]
     },
     "execution_count": 140,
     "metadata": {},
     "output_type": "execute_result"
    }
   ],
   "source": [
    "data.Body[1]"
   ]
  },
  {
   "cell_type": "markdown",
   "id": "28f5a15f",
   "metadata": {},
   "source": [
    "### Premier nettoyage"
   ]
  },
  {
   "cell_type": "code",
   "execution_count": 141,
   "id": "76c87087",
   "metadata": {},
   "outputs": [],
   "source": [
    "# Supprimer les balises html de notre corps de question \n",
    "data.Body = data.Body.apply(lambda x: bs(x, \"lxml\").text)"
   ]
  },
  {
   "cell_type": "code",
   "execution_count": 142,
   "id": "d64237e5",
   "metadata": {},
   "outputs": [
    {
     "data": {
      "text/plain": [
       "'Given a specific DateTime value, how do I display relative time, like:\\n\\n2 hours ago\\n3 days ago\\na month ago\\n\\n'"
      ]
     },
     "execution_count": 142,
     "metadata": {},
     "output_type": "execute_result"
    }
   ],
   "source": [
    "# Visualisation\n",
    "data.Body[1]"
   ]
  },
  {
   "cell_type": "code",
   "execution_count": 143,
   "id": "0211e252",
   "metadata": {},
   "outputs": [],
   "source": [
    "# Suppresion des retours à la ligne \n",
    "to_clean = re.compile('\\n')\n",
    "\n",
    "data.Body = data.Body.apply(lambda x: re.sub(to_clean, ' ', x))"
   ]
  },
  {
   "cell_type": "code",
   "execution_count": 144,
   "id": "6d05e5da",
   "metadata": {},
   "outputs": [
    {
     "data": {
      "text/plain": [
       "'Given a specific DateTime value, how do I display relative time, like:  2 hours ago 3 days ago a month ago  '"
      ]
     },
     "execution_count": 144,
     "metadata": {},
     "output_type": "execute_result"
    }
   ],
   "source": [
    "data.Body[1]"
   ]
  },
  {
   "cell_type": "code",
   "execution_count": 145,
   "id": "acc26b2d",
   "metadata": {},
   "outputs": [
    {
     "data": {
      "text/html": [
       "<div>\n",
       "<style scoped>\n",
       "    .dataframe tbody tr th:only-of-type {\n",
       "        vertical-align: middle;\n",
       "    }\n",
       "\n",
       "    .dataframe tbody tr th {\n",
       "        vertical-align: top;\n",
       "    }\n",
       "\n",
       "    .dataframe thead th {\n",
       "        text-align: right;\n",
       "    }\n",
       "</style>\n",
       "<table border=\"1\" class=\"dataframe\">\n",
       "  <thead>\n",
       "    <tr style=\"text-align: right;\">\n",
       "      <th></th>\n",
       "      <th>Title</th>\n",
       "      <th>Body</th>\n",
       "      <th>Tags</th>\n",
       "    </tr>\n",
       "  </thead>\n",
       "  <tbody>\n",
       "    <tr>\n",
       "      <th>0</th>\n",
       "      <td>How to convert Decimal to Double in C#?</td>\n",
       "      <td>I want to assign the decimal variable \"trans\" ...</td>\n",
       "      <td>&lt;c#&gt;&lt;floating-point&gt;&lt;type-conversion&gt;&lt;double&gt;&lt;...</td>\n",
       "    </tr>\n",
       "    <tr>\n",
       "      <th>1</th>\n",
       "      <td>Calculate relative time in C#</td>\n",
       "      <td>Given a specific DateTime value, how do I disp...</td>\n",
       "      <td>&lt;c#&gt;&lt;datetime&gt;&lt;time&gt;&lt;datediff&gt;&lt;relative-time-s...</td>\n",
       "    </tr>\n",
       "    <tr>\n",
       "      <th>2</th>\n",
       "      <td>Determine a user's timezone</td>\n",
       "      <td>Is there a standard way for a web server to be...</td>\n",
       "      <td>&lt;html&gt;&lt;browser&gt;&lt;timezone&gt;&lt;user-agent&gt;&lt;timezone...</td>\n",
       "    </tr>\n",
       "    <tr>\n",
       "      <th>3</th>\n",
       "      <td>What is the fastest way to get the value of π?</td>\n",
       "      <td>I'm looking for the fastest way to obtain the ...</td>\n",
       "      <td>&lt;performance&gt;&lt;algorithm&gt;&lt;language-agnostic&gt;&lt;un...</td>\n",
       "    </tr>\n",
       "    <tr>\n",
       "      <th>4</th>\n",
       "      <td>How to use the C socket API in C++ on z/OS</td>\n",
       "      <td>I'm having issues getting the C sockets API to...</td>\n",
       "      <td>&lt;c++&gt;&lt;c&gt;&lt;sockets&gt;&lt;mainframe&gt;&lt;zos&gt;</td>\n",
       "    </tr>\n",
       "  </tbody>\n",
       "</table>\n",
       "</div>"
      ],
      "text/plain": [
       "                                            Title  \\\n",
       "0         How to convert Decimal to Double in C#?   \n",
       "1                   Calculate relative time in C#   \n",
       "2                     Determine a user's timezone   \n",
       "3  What is the fastest way to get the value of π?   \n",
       "4      How to use the C socket API in C++ on z/OS   \n",
       "\n",
       "                                                Body  \\\n",
       "0  I want to assign the decimal variable \"trans\" ...   \n",
       "1  Given a specific DateTime value, how do I disp...   \n",
       "2  Is there a standard way for a web server to be...   \n",
       "3  I'm looking for the fastest way to obtain the ...   \n",
       "4  I'm having issues getting the C sockets API to...   \n",
       "\n",
       "                                                Tags  \n",
       "0  <c#><floating-point><type-conversion><double><...  \n",
       "1  <c#><datetime><time><datediff><relative-time-s...  \n",
       "2  <html><browser><timezone><user-agent><timezone...  \n",
       "3  <performance><algorithm><language-agnostic><un...  \n",
       "4                  <c++><c><sockets><mainframe><zos>  "
      ]
     },
     "execution_count": 145,
     "metadata": {},
     "output_type": "execute_result"
    }
   ],
   "source": [
    "data.head()"
   ]
  },
  {
   "cell_type": "markdown",
   "id": "33d223b6",
   "metadata": {},
   "source": [
    "#### Duplicated"
   ]
  },
  {
   "cell_type": "code",
   "execution_count": 146,
   "id": "1aa9565f",
   "metadata": {},
   "outputs": [
    {
     "data": {
      "text/html": [
       "<div>\n",
       "<style scoped>\n",
       "    .dataframe tbody tr th:only-of-type {\n",
       "        vertical-align: middle;\n",
       "    }\n",
       "\n",
       "    .dataframe tbody tr th {\n",
       "        vertical-align: top;\n",
       "    }\n",
       "\n",
       "    .dataframe thead th {\n",
       "        text-align: right;\n",
       "    }\n",
       "</style>\n",
       "<table border=\"1\" class=\"dataframe\">\n",
       "  <thead>\n",
       "    <tr style=\"text-align: right;\">\n",
       "      <th></th>\n",
       "      <th>Title</th>\n",
       "      <th>Body</th>\n",
       "      <th>Tags</th>\n",
       "    </tr>\n",
       "  </thead>\n",
       "  <tbody>\n",
       "    <tr>\n",
       "      <th>54210</th>\n",
       "      <td>A potentially dangerous Request.Form value was...</td>\n",
       "      <td>I have this issue. I have tried everything. Va...</td>\n",
       "      <td>&lt;c#&gt;&lt;jquery&gt;&lt;asp.net&gt;&lt;architecture&gt;&lt;postback&gt;</td>\n",
       "    </tr>\n",
       "    <tr>\n",
       "      <th>30860</th>\n",
       "      <td>Git post-receive hook not working</td>\n",
       "      <td>My setup is a windows XAMPP server, with cURL ...</td>\n",
       "      <td>&lt;git&gt;&lt;curl&gt;&lt;hudson&gt;&lt;githooks&gt;&lt;git-post-receive&gt;</td>\n",
       "    </tr>\n",
       "    <tr>\n",
       "      <th>15539</th>\n",
       "      <td>HTML Agility Pack</td>\n",
       "      <td>I want to parse the html table using html agil...</td>\n",
       "      <td>&lt;c#&gt;&lt;.net&gt;&lt;winforms&gt;&lt;html-parsing&gt;&lt;html-agilit...</td>\n",
       "    </tr>\n",
       "    <tr>\n",
       "      <th>170974</th>\n",
       "      <td>Injection of autowired dependencies failed; ne...</td>\n",
       "      <td>I am new here and I am trying to create an e-s...</td>\n",
       "      <td>&lt;java&gt;&lt;spring&gt;&lt;hibernate&gt;&lt;maven&gt;&lt;spring-mvc&gt;</td>\n",
       "    </tr>\n",
       "    <tr>\n",
       "      <th>44368</th>\n",
       "      <td>LINQ to Entities does not recognize the method</td>\n",
       "      <td>I'm getting the following error when trying to...</td>\n",
       "      <td>&lt;.net&gt;&lt;linq&gt;&lt;entity-framework&gt;&lt;linq-to-entitie...</td>\n",
       "    </tr>\n",
       "    <tr>\n",
       "      <th>22565</th>\n",
       "      <td>Pointcut matching methods with annotated param...</td>\n",
       "      <td>I need to create an aspect with a pointcut mat...</td>\n",
       "      <td>&lt;java&gt;&lt;parameters&gt;&lt;annotations&gt;&lt;aop&gt;&lt;aspectj&gt;</td>\n",
       "    </tr>\n",
       "    <tr>\n",
       "      <th>71179</th>\n",
       "      <td>The ObjectContext instance has been disposed a...</td>\n",
       "      <td>I'm having trouble with one of my queries beca...</td>\n",
       "      <td>&lt;entity-framework&gt;&lt;lazy-loading&gt;&lt;entity-framew...</td>\n",
       "    </tr>\n",
       "    <tr>\n",
       "      <th>73759</th>\n",
       "      <td>error LNK2019: unresolved external symbol</td>\n",
       "      <td>while i want to compile my opengl code i get t...</td>\n",
       "      <td>&lt;c++&gt;&lt;opengl&gt;&lt;linker-errors&gt;&lt;glut&gt;&lt;glew&gt;</td>\n",
       "    </tr>\n",
       "  </tbody>\n",
       "</table>\n",
       "</div>"
      ],
      "text/plain": [
       "                                                    Title  \\\n",
       "54210   A potentially dangerous Request.Form value was...   \n",
       "30860                   Git post-receive hook not working   \n",
       "15539                                   HTML Agility Pack   \n",
       "170974  Injection of autowired dependencies failed; ne...   \n",
       "44368      LINQ to Entities does not recognize the method   \n",
       "22565   Pointcut matching methods with annotated param...   \n",
       "71179   The ObjectContext instance has been disposed a...   \n",
       "73759           error LNK2019: unresolved external symbol   \n",
       "\n",
       "                                                     Body  \\\n",
       "54210   I have this issue. I have tried everything. Va...   \n",
       "30860   My setup is a windows XAMPP server, with cURL ...   \n",
       "15539   I want to parse the html table using html agil...   \n",
       "170974  I am new here and I am trying to create an e-s...   \n",
       "44368   I'm getting the following error when trying to...   \n",
       "22565   I need to create an aspect with a pointcut mat...   \n",
       "71179   I'm having trouble with one of my queries beca...   \n",
       "73759   while i want to compile my opengl code i get t...   \n",
       "\n",
       "                                                     Tags  \n",
       "54210       <c#><jquery><asp.net><architecture><postback>  \n",
       "30860     <git><curl><hudson><githooks><git-post-receive>  \n",
       "15539   <c#><.net><winforms><html-parsing><html-agilit...  \n",
       "170974       <java><spring><hibernate><maven><spring-mvc>  \n",
       "44368   <.net><linq><entity-framework><linq-to-entitie...  \n",
       "22565       <java><parameters><annotations><aop><aspectj>  \n",
       "71179   <entity-framework><lazy-loading><entity-framew...  \n",
       "73759            <c++><opengl><linker-errors><glut><glew>  "
      ]
     },
     "execution_count": 146,
     "metadata": {},
     "output_type": "execute_result"
    }
   ],
   "source": [
    "# Observation des données dupliquées sur la variable Title\n",
    "idx = data.duplicated(subset = 'Title', keep = 'first')\n",
    "data.loc[idx,:].sort_values('Title')"
   ]
  },
  {
   "cell_type": "code",
   "execution_count": 147,
   "id": "71abb872",
   "metadata": {},
   "outputs": [],
   "source": [
    "# Suppression des doublons sur cette variable\n",
    "data.drop_duplicates(subset = 'Title', inplace = True)"
   ]
  },
  {
   "cell_type": "markdown",
   "id": "ac7ee614",
   "metadata": {},
   "source": [
    "#### NA"
   ]
  },
  {
   "cell_type": "code",
   "execution_count": 148,
   "id": "b8c05f2f",
   "metadata": {},
   "outputs": [
    {
     "data": {
      "text/plain": [
       "Title    0.0\n",
       "Body     0.0\n",
       "Tags     0.0\n",
       "dtype: float64"
      ]
     },
     "execution_count": 148,
     "metadata": {},
     "output_type": "execute_result"
    }
   ],
   "source": [
    "data.isna().mean()"
   ]
  },
  {
   "cell_type": "code",
   "execution_count": 149,
   "id": "6b26f1bd",
   "metadata": {},
   "outputs": [],
   "source": [
    "# Enregistrement \n",
    "data.to_csv('data/cleaned/df_cleaned.csv', index = False)"
   ]
  },
  {
   "cell_type": "markdown",
   "id": "cbecd9fd",
   "metadata": {},
   "source": [
    "On travaille sur de l'apprentissage supervisé dans un premier temps donc on ne travaille pas avec une target, on supprime donc les tags, que nous cherchons à prédire/proposer."
   ]
  },
  {
   "cell_type": "code",
   "execution_count": 150,
   "id": "bcdcf4bf",
   "metadata": {},
   "outputs": [
    {
     "data": {
      "text/html": [
       "<div>\n",
       "<style scoped>\n",
       "    .dataframe tbody tr th:only-of-type {\n",
       "        vertical-align: middle;\n",
       "    }\n",
       "\n",
       "    .dataframe tbody tr th {\n",
       "        vertical-align: top;\n",
       "    }\n",
       "\n",
       "    .dataframe thead th {\n",
       "        text-align: right;\n",
       "    }\n",
       "</style>\n",
       "<table border=\"1\" class=\"dataframe\">\n",
       "  <thead>\n",
       "    <tr style=\"text-align: right;\">\n",
       "      <th></th>\n",
       "      <th>Title</th>\n",
       "      <th>Body</th>\n",
       "    </tr>\n",
       "  </thead>\n",
       "  <tbody>\n",
       "    <tr>\n",
       "      <th>0</th>\n",
       "      <td>How to convert Decimal to Double in C#?</td>\n",
       "      <td>I want to assign the decimal variable \"trans\" ...</td>\n",
       "    </tr>\n",
       "    <tr>\n",
       "      <th>1</th>\n",
       "      <td>Calculate relative time in C#</td>\n",
       "      <td>Given a specific DateTime value, how do I disp...</td>\n",
       "    </tr>\n",
       "    <tr>\n",
       "      <th>2</th>\n",
       "      <td>Determine a user's timezone</td>\n",
       "      <td>Is there a standard way for a web server to be...</td>\n",
       "    </tr>\n",
       "    <tr>\n",
       "      <th>3</th>\n",
       "      <td>What is the fastest way to get the value of π?</td>\n",
       "      <td>I'm looking for the fastest way to obtain the ...</td>\n",
       "    </tr>\n",
       "    <tr>\n",
       "      <th>4</th>\n",
       "      <td>How to use the C socket API in C++ on z/OS</td>\n",
       "      <td>I'm having issues getting the C sockets API to...</td>\n",
       "    </tr>\n",
       "  </tbody>\n",
       "</table>\n",
       "</div>"
      ],
      "text/plain": [
       "                                            Title  \\\n",
       "0         How to convert Decimal to Double in C#?   \n",
       "1                   Calculate relative time in C#   \n",
       "2                     Determine a user's timezone   \n",
       "3  What is the fastest way to get the value of π?   \n",
       "4      How to use the C socket API in C++ on z/OS   \n",
       "\n",
       "                                                Body  \n",
       "0  I want to assign the decimal variable \"trans\" ...  \n",
       "1  Given a specific DateTime value, how do I disp...  \n",
       "2  Is there a standard way for a web server to be...  \n",
       "3  I'm looking for the fastest way to obtain the ...  \n",
       "4  I'm having issues getting the C sockets API to...  "
      ]
     },
     "execution_count": 150,
     "metadata": {},
     "output_type": "execute_result"
    }
   ],
   "source": [
    "cols = ['Title', 'Body']\n",
    "data = data[cols]\n",
    "data.head()"
   ]
  },
  {
   "cell_type": "code",
   "execution_count": null,
   "id": "b181c175",
   "metadata": {},
   "outputs": [],
   "source": []
  },
  {
   "cell_type": "code",
   "execution_count": null,
   "id": "45d82a3b",
   "metadata": {},
   "outputs": [],
   "source": []
  },
  {
   "cell_type": "code",
   "execution_count": null,
   "id": "5c444900",
   "metadata": {},
   "outputs": [],
   "source": []
  },
  {
   "cell_type": "code",
   "execution_count": null,
   "id": "4bad0a73",
   "metadata": {},
   "outputs": [],
   "source": []
  },
  {
   "cell_type": "code",
   "execution_count": null,
   "id": "7de1a965",
   "metadata": {},
   "outputs": [],
   "source": []
  },
  {
   "cell_type": "code",
   "execution_count": null,
   "id": "6f761ebf",
   "metadata": {},
   "outputs": [],
   "source": []
  }
 ],
 "metadata": {
  "kernelspec": {
   "display_name": "Python 3 (ipykernel)",
   "language": "python",
   "name": "python3"
  },
  "language_info": {
   "codemirror_mode": {
    "name": "ipython",
    "version": 3
   },
   "file_extension": ".py",
   "mimetype": "text/x-python",
   "name": "python",
   "nbconvert_exporter": "python",
   "pygments_lexer": "ipython3",
   "version": "3.9.13"
  }
 },
 "nbformat": 4,
 "nbformat_minor": 5
}
